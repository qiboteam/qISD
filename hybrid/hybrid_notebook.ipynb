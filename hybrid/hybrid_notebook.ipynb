{
 "cells": [
  {
   "cell_type": "code",
   "execution_count": 1,
   "metadata": {},
   "outputs": [
    {
     "name": "stderr",
     "output_type": "stream",
     "text": [
      "[Qibo|WARNING|2021-05-24 15:33:08]: qibotf library was not found. `tf.einsum` will be used to apply gates. In order to install Qibo's high performance custom operators please use `pip install qibotf`.\n"
     ]
    }
   ],
   "source": [
    "from quantum_functions import quantumISD\n",
    "import numpy as np"
   ]
  },
  {
   "cell_type": "code",
   "execution_count": 2,
   "metadata": {},
   "outputs": [],
   "source": [
    "n=5\n",
    "k=2\n",
    "w=2\n",
    "\n",
    "H=random_matrix(GF(2),n-k,n)\n",
    "e=zero_vector(GF(2),n)\n",
    "e[0]=e[1]=1\n",
    "s=H*e"
   ]
  },
  {
   "cell_type": "code",
   "execution_count": 3,
   "metadata": {},
   "outputs": [],
   "source": [
    "def hybrid_coprocessor(H,s,w,p,alpha,beta):\n",
    "    e_prime=zero_vector(GF(2),n)\n",
    "    e_quant=zero_vector(GF(2),n-alpha-beta)\n",
    "    I_nkb=identity_matrix(GF(2),n-k-beta)\n",
    "    while True:\n",
    "        P=Permutations(n).random_element().to_matrix().change_ring(GF(2))\n",
    "        HP=H*P\n",
    "        HP=HP.augment(s)\n",
    "        HP=HP.echelon_form()\n",
    "        s_prime=HP.column(n)\n",
    "        H_prime1=HP[[i for i in range(n-k-beta)],[i for i in range(n-k,n-alpha)]]\n",
    "        H_quant=I_nkb.augment(H_prime1)\n",
    "        reduced_instance=(H_quant,s_prime,w-p)\n",
    "        \n",
    "        ##JUST FOR DEBUGGING (set e to the solution of the SD problem)\n",
    "        #ep=P.inverse()*e\n",
    "        #if ep[n-k-beta:n-k].hamming_weight()==p:\n",
    "        #    e_quant=vector(GF(2),ep.list()[:n-k-beta]+ep.list()[n-k:n-alpha])\n",
    "        Hinput=np.array(H_quant.list()).reshape(H_quant.nrows(),H_quant.ncols())\n",
    "        e_quant,iterations=quantumISD(Hinput,s_prime,w-p)\n",
    "        print(e_quant)\n",
    "        print(e_quant)\n",
    "        eqw=e_quant.hamming_weight()\n",
    "        if eqw<=w-p and H_quant*e_quant==s_prime[:n-k-beta]:\n",
    "            H_prime2=HP[[i for i in range(n-k-beta,n-k)],[i for i in range(n-k,n-alpha)]]\n",
    "            e_beta=s_prime[n-k-beta:n-k]+H_prime2*e_quant[n-k-beta:]\n",
    "            if eqw+e_beta.hamming_weight()<=w:\n",
    "                solution=P*vector(GF(2),e_quant[:n-k-beta].list()+e_beta.list()+e_quant[n-k-beta:].list()+[0]*alpha)\n",
    "                if H*solution==s:\n",
    "                    return solution\n",
    "            \n",
    "        "
   ]
  },
  {
   "cell_type": "code",
   "execution_count": null,
   "metadata": {},
   "outputs": [],
   "source": [
    "e2=hybrid_coprocessor(H,s,2,0,0,0)\n",
    "print(matrix(1,n,e2))"
   ]
  },
  {
   "cell_type": "code",
   "execution_count": null,
   "metadata": {},
   "outputs": [],
   "source": []
  },
  {
   "cell_type": "code",
   "execution_count": null,
   "metadata": {},
   "outputs": [],
   "source": []
  },
  {
   "cell_type": "code",
   "execution_count": null,
   "metadata": {},
   "outputs": [],
   "source": []
  }
 ],
 "metadata": {
  "kernelspec": {
   "display_name": "SageMath 9.2",
   "language": "sage",
   "name": "sagemath"
  },
  "language_info": {
   "codemirror_mode": {
    "name": "ipython",
    "version": 3
   },
   "file_extension": ".py",
   "mimetype": "text/x-python",
   "name": "python",
   "nbconvert_exporter": "python",
   "pygments_lexer": "ipython3",
   "version": "3.8.5"
  },
  "toc": {
   "base_numbering": 1,
   "nav_menu": {},
   "number_sections": true,
   "sideBar": true,
   "skip_h1_title": false,
   "title_cell": "Table of Contents",
   "title_sidebar": "Contents",
   "toc_cell": false,
   "toc_position": {},
   "toc_section_display": true,
   "toc_window_display": false
  },
  "varInspector": {
   "cols": {
    "lenName": 16,
    "lenType": 16,
    "lenVar": 40
   },
   "kernels_config": {
    "python": {
     "delete_cmd_postfix": "",
     "delete_cmd_prefix": "del ",
     "library": "var_list.py",
     "varRefreshCmd": "print(var_dic_list())"
    },
    "r": {
     "delete_cmd_postfix": ") ",
     "delete_cmd_prefix": "rm(",
     "library": "var_list.r",
     "varRefreshCmd": "cat(var_dic_list()) "
    }
   },
   "types_to_exclude": [
    "module",
    "function",
    "builtin_function_or_method",
    "instance",
    "_Feature"
   ],
   "window_display": false
  }
 },
 "nbformat": 4,
 "nbformat_minor": 4
}
