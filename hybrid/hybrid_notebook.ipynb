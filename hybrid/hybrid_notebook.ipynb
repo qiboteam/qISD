{
 "cells": [
  {
   "cell_type": "code",
   "execution_count": null,
   "metadata": {},
   "outputs": [],
   "source": [
    "from quantum_functions import quantumISD"
   ]
  },
  {
   "cell_type": "code",
   "execution_count": null,
   "metadata": {},
   "outputs": [],
   "source": [
    "n=20\n",
    "k=10\n",
    "w=3\n",
    "\n",
    "H=random_matrix(GF(2),n-k,n)\n",
    "e=zero_vector(GF(2),n)\n",
    "e[0]=e[1]=e[2]=1\n",
    "s=H*e"
   ]
  },
  {
   "cell_type": "code",
   "execution_count": null,
   "metadata": {},
   "outputs": [],
   "source": [
    "def hybrid_coprocessor(H,s,w,p,alpha,beta):\n",
    "    e_prime=zero_vector(GF(2),n)\n",
    "    e_quant=zero_vector(GF(2),n-alpha-beta)\n",
    "    I_nkb=identity_matrix(GF(2),n-k-beta)\n",
    "    while True:\n",
    "        P=Permutations(n).random_element().to_matrix().change_ring(GF(2))\n",
    "        HP=H*P\n",
    "        HP=HP.augment(s)\n",
    "        HP=HP.echelon_form()\n",
    "        s_prime=HP.column(n)\n",
    "        H_prime1=HP[[i for i in range(n-k-beta)],[i for i in range(n-k,n-alpha)]]\n",
    "        H_quant=I_nkb.augment(H_prime1)\n",
    "        reduced_instance=(H_quant,s_prime,w-p)\n",
    "        \n",
    "        #JUST FOR DEBUGGING (set e to the solution of the SD problem)\n",
    "        ep=P.inverse()*e\n",
    "        if ep[n-k-beta:n-k].hamming_weight()==p:\n",
    "            e_quant=vector(GF(2),ep.list()[:n-k-beta]+ep.list()[n-k:n-alpha])\n",
    "        \n",
    "        e_quant,iterations=quantumISD(H_quant,s_prime,w-p)\n",
    "        \n",
    "        eqw=e_quant.hamming_weight()\n",
    "        if eqw<=w-p and H_quant*e_quant==s_prime[:n-k-beta]:\n",
    "            H_prime2=HP[[i for i in range(n-k-beta,n-k)],[i for i in range(n-k,n-alpha)]]\n",
    "            e_beta=s_prime[n-k-beta:n-k]+H_prime2*e_quant[n-k-beta:]\n",
    "            if eqw+e_beta.hamming_weight()<=w:\n",
    "                solution=P*vector(GF(2),e_quant[:n-k-beta].list()+e_beta.list()+e_quant[n-k-beta:].list()+[0]*alpha)\n",
    "                if H*solution==s:\n",
    "                    return solution\n",
    "            \n",
    "        "
   ]
  },
  {
   "cell_type": "code",
   "execution_count": null,
   "metadata": {},
   "outputs": [],
   "source": [
    "e2=hybrid_coprocessor(H,s,3,1,1,3)\n",
    "print(matrix(1,n,e2))"
   ]
  }
 ],
 "metadata": {
  "kernelspec": {
   "display_name": "Python 3",
   "language": "python",
   "name": "python3"
  },
  "language_info": {
   "codemirror_mode": {
    "name": "ipython",
    "version": 3
   },
   "file_extension": ".py",
   "mimetype": "text/x-python",
   "name": "python",
   "nbconvert_exporter": "python",
   "pygments_lexer": "ipython3",
   "version": "3.7.6"
  },
  "toc": {
   "base_numbering": 1,
   "nav_menu": {},
   "number_sections": true,
   "sideBar": true,
   "skip_h1_title": false,
   "title_cell": "Table of Contents",
   "title_sidebar": "Contents",
   "toc_cell": false,
   "toc_position": {},
   "toc_section_display": true,
   "toc_window_display": false
  },
  "varInspector": {
   "cols": {
    "lenName": 16,
    "lenType": 16,
    "lenVar": 40
   },
   "kernels_config": {
    "python": {
     "delete_cmd_postfix": "",
     "delete_cmd_prefix": "del ",
     "library": "var_list.py",
     "varRefreshCmd": "print(var_dic_list())"
    },
    "r": {
     "delete_cmd_postfix": ") ",
     "delete_cmd_prefix": "rm(",
     "library": "var_list.r",
     "varRefreshCmd": "cat(var_dic_list()) "
    }
   },
   "types_to_exclude": [
    "module",
    "function",
    "builtin_function_or_method",
    "instance",
    "_Feature"
   ],
   "window_display": false
  }
 },
 "nbformat": 4,
 "nbformat_minor": 4
}
