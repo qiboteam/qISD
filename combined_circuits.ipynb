{
 "cells": [
  {
   "cell_type": "code",
   "execution_count": 1,
   "metadata": {},
   "outputs": [],
   "source": [
    "from scipy.special import binom as binomial\n",
    "#compute probabilities of for given branch in the binary tree\n",
    "def split_weights(n,k):\n",
    "    v0=binomial(n-1,k)\n",
    "    v1=binomial(n-1,k-1)\n",
    "    return v0/(v0+v1),v1/(v0+v1)\n",
    "\n",
    "#compute all probabilities for the binary tree\n",
    "def circuit_layout(n,k):\n",
    "    L=[]\n",
    "    for i in range(n):\n",
    "        for j in range(min(i,k-1),-1,-1):\n",
    "            if n-i >= k-j:\n",
    "                L.append([n-i,k-j,split_weights(n-i,k-j)])\n",
    "    return L"
   ]
  },
  {
   "cell_type": "code",
   "execution_count": 4,
   "metadata": {},
   "outputs": [],
   "source": [
    "from qibo.models import Circuit\n",
    "from qibo import gates\n",
    "import numpy as np\n",
    "def create_qibo_circuit(n,k):\n",
    "    c=Circuit(int(n+k+(n+1)*k))\n",
    "    L=circuit_layout(n,k)\n",
    "    #print(L)\n",
    "    cur=n\n",
    "    c.add(gates.X(n+k-1))\n",
    "\n",
    "    for i in L:\n",
    "        if(i[2]==(0,1)):\n",
    "            c.add(gates.CNOT(n+i[1]-1,n-i[0]))\n",
    "        else:\n",
    "            if i[0]!=n:\n",
    "                c.add(gates.CRY(n+i[1]-1,n-i[0],float(2*np.arccos(np.sqrt(i[2][0])))))\n",
    "            else:\n",
    "                c.add(gates.RY(0,float(2*np.arccos(np.sqrt(i[2][0])))))\n",
    "        if i[1]!=1:\n",
    "            g=gates.SWAP(n-1+i[1],n-1+i[1]-1)\n",
    "            g.controlled_by(n-i[0])\n",
    "            c.add(g)\n",
    "        else:\n",
    "            c.add(gates.CNOT(n-i[0],n))\n",
    "    return c"
   ]
  },
  {
   "cell_type": "code",
   "execution_count": 10,
   "metadata": {},
   "outputs": [
    {
     "name": "stdout",
     "output_type": "stream",
     "text": [
      "00111 0.1016\n",
      "01011 0.1077\n",
      "01101 0.0975\n",
      "01110 0.1007\n",
      "10011 0.0985\n",
      "10101 0.0986\n",
      "10110 0.0986\n",
      "11001 0.0933\n",
      "11010 0.1021\n",
      "11100 0.1014\n"
     ]
    }
   ],
   "source": [
    "#example for 5-bit values with 3 bits set (n=5, k=3)\n",
    "n=5\n",
    "k=3\n",
    "c=create_qibo_circuit(5,3)\n",
    "c.add(gates.M(*[0,1,2,3,4]))\n",
    "measure=c(nshots=int(10000))\n",
    "for i in measure.frequencies():\n",
    "    print(i,measure.frequencies()[i]/10000)"
   ]
  },
  {
   "cell_type": "code",
   "execution_count": 22,
   "metadata": {},
   "outputs": [
    {
     "data": {
      "text/plain": [
       "array([[ 6,  9, 12, 15],\n",
       "       [ 7, 10, 13, 16],\n",
       "       [ 8, 11, 14, 17]])"
      ]
     },
     "execution_count": 22,
     "metadata": {},
     "output_type": "execute_result"
    }
   ],
   "source": [
    "\n",
    "n=3\n",
    "k=3\n",
    "perm=[i for i in range(n)]\n",
    "ancillas=[i for i in range(n,n+k)]\n",
    "\n",
    "H=np.arange((n+1)*k).reshape(k,n+1)\n",
    "c=n+k\n",
    "\n",
    "for j in range(n+1):\n",
    "    for i in range(k):\n",
    "        H[i,j]=c\n",
    "        c+=1\n",
    "H"
   ]
  },
  {
   "cell_type": "markdown",
   "metadata": {},
   "source": [
    "# Define all the Helper Functions"
   ]
  },
  {
   "cell_type": "code",
   "execution_count": 11,
   "metadata": {},
   "outputs": [],
   "source": [
    "def set_ancillas_to_num(c,ancillas,num):\n",
    "    ind=0\n",
    "    for i in reversed(bin(num)[2:]):\n",
    "        if int(i)==1:\n",
    "            c.add(gates.X(ancillas[ind]))\n",
    "        ind+=1\n",
    "    "
   ]
  },
  {
   "cell_type": "code",
   "execution_count": 12,
   "metadata": {},
   "outputs": [],
   "source": [
    "def add_negates_for_check(c,ancillas,num):\n",
    "    ind=0\n",
    "    for i in reversed(bin(num)[2:]):\n",
    "        if int(i)==0:\n",
    "            c.add(gates.X(ancillas[ind]))\n",
    "        ind+=1\n",
    "    for i in range(len(bin(num)[2:]),len(ancillas)):\n",
    "        c.add(gates.X(ancillas[i]))\n",
    "    "
   ]
  },
  {
   "cell_type": "code",
   "execution_count": 13,
   "metadata": {},
   "outputs": [],
   "source": [
    "def controlls_for_check_num(ancillas,num):\n",
    "    l=[]\n",
    "    c=0\n",
    "    for i in reversed(bin(num)[2:]):\n",
    "        if int(i)==1:\n",
    "            l.append(ancillas[c])\n",
    "        c+=1\n",
    "    return l"
   ]
  },
  {
   "cell_type": "code",
   "execution_count": 14,
   "metadata": {},
   "outputs": [],
   "source": [
    "def sub_one(c,ancillas,controlls):\n",
    "    a=ancillas\n",
    "    c.add(gates.X(a[0]).controlled_by(*controlls))\n",
    "    for i in range(1,len(a)):\n",
    "        controlls.append(a[i-1])\n",
    "        c.add(gates.X(a[i]).controlled_by(*controlls))\n",
    "        "
   ]
  },
  {
   "cell_type": "code",
   "execution_count": 47,
   "metadata": {},
   "outputs": [],
   "source": [
    "def add_one(c,ancillas,controlls):\n",
    "    a=ancillas\n",
    "    for i in range(len(a)-1):\n",
    "        controlls.append(a[i])\n",
    "\n",
    "    #c.add(gates.X(a[0]).controlled_by(*controlls))\n",
    "    for i in reversed(range(0,len(a))):\n",
    "        c.add(gates.X(a[i]).controlled_by(*controlls))\n",
    "        controlls.pop()"
   ]
  },
  {
   "cell_type": "code",
   "execution_count": 16,
   "metadata": {},
   "outputs": [],
   "source": [
    "def row_add(c,col,row_res,row_addend,H,n,controlls):\n",
    "    for i in range(col+1,n+1):\n",
    "        g=gates.X(H[row_res,i])\n",
    "        controlls.append(H[row_addend,i])\n",
    "        c.add(g.controlled_by(*controlls))\n",
    "        controlls.pop()\n",
    "        \n",
    "    "
   ]
  },
  {
   "cell_type": "code",
   "execution_count": 17,
   "metadata": {},
   "outputs": [],
   "source": [
    "def add_pivot(c,identity,parity,H,n,r,controlls):\n",
    "    i=identity\n",
    "    p=parity\n",
    "    c.add(gates.X(H[i,p]).controlled_by(*controlls))\n",
    "    #loop for differnt rows in which the pivot is searched\n",
    "    for l in range(r-(i+1)):\n",
    "        #current row in which pivot is searched\n",
    "        pr=i+l+1\n",
    "        #need to add controls on permutation\n",
    "        row_add(c,p,i,pr,H,n,[H[i,p]]+[H[i+1+o,p] for o in range(l+1)]+controlls)\n",
    "        #add not for \"if all preious were 0\"-statement\n",
    "        if l!=r-i-2:\n",
    "            c.add(gates.X(H[pr,p]).controlled_by(*controlls))\n",
    "    #revert all nots\n",
    "    for l in range(r-i-1):\n",
    "        c.add(gates.X(H[i+l,p]).controlled_by(*controlls))\n",
    "    "
   ]
  },
  {
   "cell_type": "code",
   "execution_count": 18,
   "metadata": {},
   "outputs": [],
   "source": [
    "def lower_col_elimination(c,identity,parity,H,n,r,controlls):\n",
    "    i=identity\n",
    "    p=parity\n",
    "    #for each element below the current diagonal\n",
    "    for l in range(r-i-1):\n",
    "        #add row if needed to eliminate ones in column p\n",
    "        row_add(c,p,i+l+1,i,H,n,[H[i+l+1,p]]+controlls)"
   ]
  },
  {
   "cell_type": "code",
   "execution_count": 19,
   "metadata": {},
   "outputs": [],
   "source": [
    "def upper_col_elimination(c,identity,parity,H,n,r,controlls):\n",
    "    i=identity\n",
    "    p=parity\n",
    "    #for each row above the current diagonal entry (identiy)\n",
    "    for l in range(i):\n",
    "        #eliminate ones by adding row[i] to that row\n",
    "        c.add(gates.X(H[l,n]).controlled_by(*([H[l,p],H[i,n]]+controlls)))"
   ]
  },
  {
   "cell_type": "markdown",
   "metadata": {},
   "source": [
    "# Solving a linear system of equations"
   ]
  },
  {
   "cell_type": "code",
   "execution_count": 20,
   "metadata": {},
   "outputs": [],
   "source": [
    "n=3\n",
    "r=3\n",
    "\n",
    "H=np.arange((n+1)*r).reshape(r,n+1)\n",
    "c=0\n",
    "\n",
    "for j in range(n+1):\n",
    "    for i in range(r):\n",
    "        H[i,j]=c\n",
    "        c+=1\n"
   ]
  },
  {
   "cell_type": "code",
   "execution_count": 21,
   "metadata": {},
   "outputs": [
    {
     "name": "stdout",
     "output_type": "stream",
     "text": [
      "solve A*x=b for x, where\n",
      "\n",
      "A =\n",
      "[[0 1 0]\n",
      " [1 0 0]\n",
      " [0 0 1]]\n",
      "\n",
      "b =\n",
      "[[1]\n",
      " [0]\n",
      " [1]]\n",
      "\n",
      "x =\n",
      "[[0.]\n",
      " [1.]\n",
      " [1.]]\n"
     ]
    }
   ],
   "source": [
    "\n",
    "while True:\n",
    "    A=np.random.randint(2, size=(r, n))\n",
    "    if np.linalg.matrix_rank(A)==r:\n",
    "        break\n",
    "\n",
    "b=np.random.randint(2, size=(r, 1))\n",
    "print(\"solve A*x=b for x, where\" )\n",
    "print(\"\")\n",
    "print(\"A =\")\n",
    "print(A)\n",
    "print(\"\")\n",
    "print(\"b =\")\n",
    "print(b)\n",
    "print(\"\")\n",
    "print(\"x =\")\n",
    "print(np.linalg.solve(A,b)%2)"
   ]
  },
  {
   "cell_type": "code",
   "execution_count": 22,
   "metadata": {},
   "outputs": [],
   "source": [
    "\n",
    "c=Circuit((n+1)*r)\n",
    "\n",
    "#initialize matrix in quantum register\n",
    "for i in range(r):\n",
    "    for j in range(n):\n",
    "        if A[i, j] == 1:\n",
    "            c.add(gates.X(H[i, j]))\n",
    "for i in range(r):\n",
    "    if b[i] == 1:\n",
    "        c.add(gates.X(H[i, n]))\n",
    "        \n",
    "#add pivots and create upper triangular matrix\n",
    "for i in range(r-1):\n",
    "    add_pivot(c,i,i,H,n,r,[])\n",
    "    lower_col_elimination(c,i,i,H,n,r,[])\n",
    "\n",
    "#solve via back substitution\n",
    "for i in reversed(range(1,r)):\n",
    "    #upper_col_elimination(c,0,0,H,n,r)\n",
    "    upper_col_elimination(c,i,i,H,n,r,[])\n"
   ]
  },
  {
   "cell_type": "code",
   "execution_count": 23,
   "metadata": {},
   "outputs": [
    {
     "name": "stdout",
     "output_type": "stream",
     "text": [
      "q0 : ─X─o─o─o───o─o─o─X─────────────────────────────────\n",
      "q1 : ─X─o─o─o─X─o─o─o─X─o─o─o───────────────────────────\n",
      "q2 : ───|─|─|───o─o─o───|─|─|─o─o─o─────────────────────\n",
      "q3 : ─X─X─|─|───X─|─|───o─|─|─o─|─|─────────────────o───\n",
      "q4 : ───o─|─|───|─|─|───X─|─|─|─|─|─X─o─o─X─────────|───\n",
      "q5 : ─────|─|───o─|─|─────|─|─X─|─|───o─o───o─o─────|───\n",
      "q6 : ─────X─|─────X─|─────o─|───o─|───|─|───|─|─o───|───\n",
      "q7 : ─────o─|─────|─|─────X─|───|─|───X─|───o─|─|─o─|───\n",
      "q8 : ─X─────|─────o─|───────|───X─|───o─|───X─|─|─|─|───\n",
      "q9 : ─X─────X───────X───────o─────o─────|─────|─X─|─X─M─\n",
      "q10: ───────o───────|───────X─────|─────X─────o─|─X─o─M─\n",
      "q11: ─X─────────────o─────────────X─────o─────X─o─o───M─\n"
     ]
    }
   ],
   "source": [
    "\n",
    "c.add(gates.M(*[H[i,n] for i in range(r)]))\n",
    "print(c.draw())"
   ]
  },
  {
   "cell_type": "code",
   "execution_count": 24,
   "metadata": {},
   "outputs": [],
   "source": [
    "measure=c(nshots=1)"
   ]
  },
  {
   "cell_type": "code",
   "execution_count": 25,
   "metadata": {},
   "outputs": [
    {
     "data": {
      "text/plain": [
       "Counter({'011': 1})"
      ]
     },
     "execution_count": 25,
     "metadata": {},
     "output_type": "execute_result"
    }
   ],
   "source": [
    "measure.frequencies()"
   ]
  },
  {
   "cell_type": "markdown",
   "metadata": {},
   "source": [
    "# Combining both Circuits"
   ]
  },
  {
   "cell_type": "code",
   "execution_count": 105,
   "metadata": {},
   "outputs": [
    {
     "name": "stdout",
     "output_type": "stream",
     "text": [
      "solve all possible linear systems, where\n",
      "\n",
      "H =\n",
      "[[1 1 0 0]\n",
      " [1 1 1 0]]\n",
      "\n",
      "b =\n",
      "[[1]\n",
      " [0]]\n",
      "\n",
      "solutions =\n",
      "['111010', '110110']\n"
     ]
    }
   ],
   "source": [
    "import itertools\n",
    "r=2\n",
    "n=4\n",
    "solutions=[]\n",
    "\n",
    "while(len(solutions)<2):\n",
    "    solutions=[]\n",
    "    A=np.random.randint(2, size=(r, n))\n",
    "    b=np.random.randint(2, size=(r,1))\n",
    "    comb=itertools.combinations([i for i in range(n)],r)\n",
    "    Aprime=np.arange(r*r).reshape(r,r)\n",
    "    for i in comb:\n",
    "        ind=0\n",
    "        for j in i:\n",
    "            for l in range(r):\n",
    "                Aprime[l,ind]=A[l,j]\n",
    "            ind+=1\n",
    "        mask=0\n",
    "        for j in i:\n",
    "            mask^=(1<<(n-j-1))\n",
    "        v=bin(mask)[2:]\n",
    "        while (len(v)<n):\n",
    "            v=\"0\"+v\n",
    "        try:\n",
    "            sol=np.linalg.solve(Aprime,b)%2\n",
    "            for it in reversed(sol):\n",
    "                if it==0:\n",
    "                    v=\"0\"+v\n",
    "                else:\n",
    "                    v=\"1\"+v\n",
    "            solutions.append(v)\n",
    "        except:\n",
    "            pass\n",
    "\n",
    "print(\"solve all possible linear systems, where\" )\n",
    "print(\"\")\n",
    "print(\"H =\")\n",
    "print(A)\n",
    "print(\"\")\n",
    "print(\"b =\")\n",
    "print(b)\n",
    "print(\"\")\n",
    "print(\"solutions =\")\n",
    "print(solutions)"
   ]
  },
  {
   "cell_type": "code",
   "execution_count": 106,
   "metadata": {},
   "outputs": [],
   "source": [
    "\n",
    "perm=[i for i in range(n)]\n",
    "ancillas=[i for i in range(n,n+r)]\n",
    "\n",
    "H=np.arange((n+1)*r).reshape(r,n+1)\n",
    "c=n+r\n",
    "\n",
    "for j in range(n+1):\n",
    "    for i in range(r):\n",
    "        H[i,j]=c\n",
    "        c+=1\n"
   ]
  },
  {
   "cell_type": "code",
   "execution_count": 107,
   "metadata": {},
   "outputs": [],
   "source": [
    "c=create_qibo_circuit(n,r)\n",
    "\n",
    "#initialize matrix in quantum register\n",
    "for i in range(r):\n",
    "    for j in range(n):\n",
    "        if A[i, j] == 1:\n",
    "            c.add(gates.X(H[i, j]))\n",
    "for i in range(r):\n",
    "    if b[i] == 1:\n",
    "        c.add(gates.X(H[i, n]))\n",
    "        \n",
    "#add pivots and create upper triangular matrix\n",
    "for j in range(r-1):\n",
    "    set_ancillas_to_num(c,ancillas,r)\n",
    "    for i in range(n):\n",
    "        if j<=i:\n",
    "            add_negates_for_check(c,ancillas,r-j)\n",
    "            add_pivot(c,j,i,H,n,r,ancillas+[perm[i]])\n",
    "            lower_col_elimination(c,j,i,H,n,r,ancillas+[perm[i]])\n",
    "            add_negates_for_check(c,ancillas,r-j)\n",
    "        sub_one(c,ancillas,[perm[i]]) \n",
    "\n",
    "#perform backsubstitution\n",
    "for j in range(r-1):\n",
    "    set_ancillas_to_num(c,ancillas,r)\n",
    "    for i in reversed(range(n)):\n",
    "        if r-j-1<=i:\n",
    "            add_negates_for_check(c,ancillas,r-j)\n",
    "            upper_col_elimination(c,r-j-1,i,H,n,r,ancillas+[perm[i]])\n",
    "            add_negates_for_check(c,ancillas,r-j)\n",
    "        sub_one(c,ancillas,[perm[i]])\n",
    "\n",
    "for i in range(r):\n",
    "    add_one(c,ancillas[::-1],[H[i][n]])\n",
    "\n",
    "#add measurements\n",
    "c.add(gates.M(*([H[i,n] for i in range(r)]+perm+ancillas)))\n"
   ]
  },
  {
   "cell_type": "code",
   "execution_count": 108,
   "metadata": {},
   "outputs": [
    {
     "data": {
      "text/plain": [
       "[5, 4]"
      ]
     },
     "execution_count": 108,
     "metadata": {},
     "output_type": "execute_result"
    }
   ],
   "source": [
    "ancillas[::-1]"
   ]
  },
  {
   "cell_type": "code",
   "execution_count": 109,
   "metadata": {},
   "outputs": [
    {
     "name": "stdout",
     "output_type": "stream",
     "text": [
      "q0 : ─RY─o──────────────────────────o─o─o─o─o─o─o─o─o─o───o─o───────────────────────────────────────────────────────────────────────────────────────────o─o─────────M─\n",
      "q1 : ────|─RY─o─RY─o────────────────|─|─|─|─|─|─|─|─|─|───|─|───o─o─o─o─o─o─o─o───o─o───────────────────────────────────────────────────────────o───o─o─|─|─────────M─\n",
      "q2 : ────|─|──|─|──|─RY─o─X─o───────|─|─|─|─|─|─|─|─|─|───|─|───|─|─|─|─|─|─|─|───|─|───o─o─o─o─o─o───o─o─────────────────────────────o───o─o───|───|─|─|─|─────────M─\n",
      "q3 : ────|─|──|─|──|─|──|─|─|─X─o───|─|─|─|─|─|─|─|─|─|───|─|───|─|─|─|─|─|─|─|───|─|───|─|─|─|─|─|───|─|───o─o─o─o───o─o───o───o─o───|───|─|───|───|─|─|─|─────────M─\n",
      "q4 : ────x─o──X─|──x─o──X─|─x─o─X─X─o─o─o─o─o─o─o─o─o─o─X─X─o─X─o─o─o─o─o─o─o─o─X─X─o─X─o─o─o─o─o─o─X─X─o─X─o─o─o─o─X─X─o─X─o─X─X─o─X─o─X─X─o─X─o─X─X─o─X─o─X───X───M─\n",
      "q5 : ─X──x──────o──x──────o─x─────X─o─o─o─o─o─o─o─o─o─o─────X───o─o─o─o─o─o─o─o─────X───o─o─o─o─o─o─────X───o─o─o─o─────X─X─o─────X───o─────X───o─────X───X─o─X─o─X─M─\n",
      "q6 : ─────────────────────────────X─X─o─o─o─o─X─|─|─|─|─────────|─|─|─|─|─|─|─|─────────|─|─|─|─|─|─────────|─|─|─|─────────|─────────|─────────|───────────|─|─|─|───\n",
      "q7 : ─────────────────────────────X───o─o─o─o───o─o─o─o─────────|─|─|─|─|─|─|─|─────────|─|─|─|─|─|─────────|─|─|─|─────────|─────────|─────────|───────────|─|─|─|───\n",
      "q8 : ─────────────────────────────X───X─|─|─|───o─|─|─|─────────X─o─o─o─X─|─|─|─────────|─|─|─|─|─|─────────|─|─|─|─────────|─────────|─────────o───────────|─|─|─|───\n",
      "q9 : ─────────────────────────────X───o─|─|─|───X─|─|─|───────────o─o─o───o─o─o─────────|─|─|─|─|─|─────────|─|─|─|─────────|─────────|─────────|───────────|─|─|─|───\n",
      "q10: ───────────────────────────────────X─|─|─────o─|─|───────────X─|─|───o─|─|─────────X─o─o─X─|─|─────────|─|─|─|─────────|─────────o─────────|───────────|─|─|─|───\n",
      "q11: ─────────────────────────────X─────o─|─|─────X─|─|───────────o─|─|───X─|─|───────────o─o───o─o─────────|─|─|─|─────────|─────────|─────────|───────────|─|─|─|───\n",
      "q12: ─────────────────────────────────────X─|───────o─|─────────────X─|─────o─|───────────X─|───o─|─────────X─o─X─|─────────o─────────|─────────|───────────|─|─|─|───\n",
      "q13: ─────────────────────────────────────o─|───────X─|─────────────o─|─────X─|───────────o─|───X─|───────────o───o─────────|─────────|─────────|───────────|─|─|─|───\n",
      "q14: ─────────────────────────────X─────────X─────────o───────────────X───────o─────────────X─────o───────────X───o─────────X─────────X─────────X───────────o─o─|─|─M─\n",
      "q15: ───────────────────────────────────────o─────────X───────────────o───────X─────────────o─────X───────────o───X─────────o─────────o─────────o───────────────o─o─M─\n"
     ]
    }
   ],
   "source": [
    "print(c.draw())"
   ]
  },
  {
   "cell_type": "code",
   "execution_count": 110,
   "metadata": {},
   "outputs": [
    {
     "data": {
      "text/plain": [
       "Counter({'01110001': 1600,\n",
       "         '11001110': 1696,\n",
       "         '11010110': 1651,\n",
       "         '11011010': 1723,\n",
       "         '11100110': 1677,\n",
       "         '11101010': 1653})"
      ]
     },
     "execution_count": 110,
     "metadata": {},
     "output_type": "execute_result"
    }
   ],
   "source": [
    "\n",
    "m=c(nshots=10000)\n",
    "m.frequencies()\n",
    "#<--+ r + --><----+ n +----><------+ r +------> | only log(r) needed for weight (will be updated soon)\n",
    "# solution     permutation    weight(solution)  | weight given in binary"
   ]
  },
  {
   "cell_type": "code",
   "execution_count": 111,
   "metadata": {},
   "outputs": [
    {
     "data": {
      "text/plain": [
       "['111010', '110110']"
      ]
     },
     "execution_count": 111,
     "metadata": {},
     "output_type": "execute_result"
    }
   ],
   "source": [
    "solutions"
   ]
  },
  {
   "cell_type": "code",
   "execution_count": 79,
   "metadata": {},
   "outputs": [],
   "source": [
    "from math import ceil\n",
    "def qubit_amount(n,r):\n",
    "    return n+ceil(np.log2(r+1))+(n+1)*r"
   ]
  },
  {
   "cell_type": "code",
   "execution_count": 104,
   "metadata": {},
   "outputs": [
    {
     "data": {
      "text/plain": [
       "21"
      ]
     },
     "execution_count": 104,
     "metadata": {},
     "output_type": "execute_result"
    }
   ],
   "source": [
    "qubit_amount(n,r)"
   ]
  },
  {
   "cell_type": "code",
   "execution_count": null,
   "metadata": {},
   "outputs": [],
   "source": []
  }
 ],
 "metadata": {
  "kernelspec": {
   "display_name": "Python 3",
   "language": "python",
   "name": "python3"
  },
  "language_info": {
   "codemirror_mode": {
    "name": "ipython",
    "version": 3
   },
   "file_extension": ".py",
   "mimetype": "text/x-python",
   "name": "python",
   "nbconvert_exporter": "python",
   "pygments_lexer": "ipython3",
   "version": "3.8.6"
  }
 },
 "nbformat": 4,
 "nbformat_minor": 4
}
