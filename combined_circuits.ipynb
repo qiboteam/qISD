{
 "cells": [
  {
   "cell_type": "code",
   "execution_count": 143,
   "metadata": {},
   "outputs": [],
   "source": [
    "from scipy.special import binom as binomial\n",
    "#compute probabilities of for given branch in the binary tree\n",
    "def split_weights(n,k):\n",
    "    v0=binomial(n-1,k)\n",
    "    v1=binomial(n-1,k-1)\n",
    "    return v0/(v0+v1),v1/(v0+v1)\n",
    "\n",
    "#compute all probabilities for the binary tree\n",
    "def circuit_layout(n,k):\n",
    "    L=[]\n",
    "    for i in range(n):\n",
    "        for j in range(min(i,k-1),-1,-1):\n",
    "            if n-i >= k-j:\n",
    "                L.append([n-i,k-j,split_weights(n-i,k-j)])\n",
    "    return L"
   ]
  },
  {
   "cell_type": "code",
   "execution_count": 144,
   "metadata": {},
   "outputs": [],
   "source": [
    "from qibo.models import Circuit\n",
    "from qibo import gates\n",
    "import numpy as np\n",
    "def create_qibo_circuit(n,k):\n",
    "    c=Circuit(int(n+k+(n+1)*k))\n",
    "    L=circuit_layout(n,k)\n",
    "    #print(L)\n",
    "    cur=n\n",
    "    c.add(gates.X(n+k-1))\n",
    "\n",
    "    for i in L:\n",
    "        if(i[2]==(0,1)):\n",
    "            c.add(gates.CNOT(n+i[1]-1,n-i[0]))\n",
    "        else:\n",
    "            if i[0]!=n:\n",
    "                c.add(gates.CRY(n+i[1]-1,n-i[0],float(2*np.arccos(np.sqrt(i[2][0])))))\n",
    "            else:\n",
    "                c.add(gates.RY(0,float(2*np.arccos(np.sqrt(i[2][0])))))\n",
    "        if i[1]!=1:\n",
    "            g=gates.SWAP(n-1+i[1],n-1+i[1]-1)\n",
    "            g.controlled_by(n-i[0])\n",
    "            c.add(g)\n",
    "        else:\n",
    "            c.add(gates.CNOT(n-i[0],n))\n",
    "    return c"
   ]
  },
  {
   "cell_type": "code",
   "execution_count": 145,
   "metadata": {},
   "outputs": [
    {
     "name": "stdout",
     "output_type": "stream",
     "text": [
      "00111 0.098\n",
      "01011 0.1008\n",
      "01101 0.0989\n",
      "01110 0.1015\n",
      "10011 0.1041\n",
      "10101 0.097\n",
      "10110 0.1007\n",
      "11001 0.0996\n",
      "11010 0.0957\n",
      "11100 0.1037\n"
     ]
    }
   ],
   "source": [
    "#example for 5-bit values with 3 bits set (n=5, k=3)\n",
    "n=5\n",
    "k=3\n",
    "c=create_qibo_circuit(5,3)\n",
    "c.add(gates.M(*[0,1,2,3,4]))\n",
    "measure=c(nshots=int(10000))\n",
    "for i in measure.frequencies():\n",
    "    print(i,measure.frequencies()[i]/10000)"
   ]
  },
  {
   "cell_type": "code",
   "execution_count": 146,
   "metadata": {},
   "outputs": [
    {
     "data": {
      "text/plain": [
       "array([[ 6,  9, 12, 15],\n",
       "       [ 7, 10, 13, 16],\n",
       "       [ 8, 11, 14, 17]])"
      ]
     },
     "execution_count": 146,
     "metadata": {},
     "output_type": "execute_result"
    }
   ],
   "source": [
    "\n",
    "n=3\n",
    "k=3\n",
    "perm=[i for i in range(n)]\n",
    "ancillas=[i for i in range(n,n+k)]\n",
    "\n",
    "H=np.arange((n+1)*k).reshape(k,n+1)\n",
    "c=n+k\n",
    "\n",
    "for j in range(n+1):\n",
    "    for i in range(k):\n",
    "        H[i,j]=c\n",
    "        c+=1\n",
    "H"
   ]
  },
  {
   "cell_type": "markdown",
   "metadata": {},
   "source": [
    "# Define all the Helper Functions"
   ]
  },
  {
   "cell_type": "code",
   "execution_count": 147,
   "metadata": {},
   "outputs": [],
   "source": [
    "def set_ancillas_to_num(c,ancillas,num):\n",
    "    ind=0\n",
    "    for i in reversed(bin(num)[2:]):\n",
    "        if int(i)==1:\n",
    "            c.add(gates.X(ancillas[ind]))\n",
    "        ind+=1\n",
    "    "
   ]
  },
  {
   "cell_type": "code",
   "execution_count": 148,
   "metadata": {},
   "outputs": [],
   "source": [
    "def add_negates_for_check(c,ancillas,num):\n",
    "    ind=0\n",
    "    for i in reversed(bin(num)[2:]):\n",
    "        if int(i)==0:\n",
    "            c.add(gates.X(ancillas[ind]))\n",
    "        ind+=1\n",
    "    for i in range(len(bin(num)[2:]),len(ancillas)):\n",
    "        c.add(gates.X(ancillas[i]))\n",
    "    "
   ]
  },
  {
   "cell_type": "code",
   "execution_count": 149,
   "metadata": {},
   "outputs": [],
   "source": [
    "def controlls_for_check_num(ancillas,num):\n",
    "    l=[]\n",
    "    c=0\n",
    "    for i in reversed(bin(num)[2:]):\n",
    "        if int(i)==1:\n",
    "            l.append(ancillas[c])\n",
    "        c+=1\n",
    "    return l"
   ]
  },
  {
   "cell_type": "code",
   "execution_count": 150,
   "metadata": {},
   "outputs": [],
   "source": [
    "def sub_one(c,ancillas,controlls):\n",
    "    a=ancillas\n",
    "    c.add(gates.X(a[0]).controlled_by(*controlls))\n",
    "    for i in range(1,len(a)):\n",
    "        controlls.append(a[i-1])\n",
    "        c.add(gates.X(a[i]).controlled_by(*controlls))\n",
    "        "
   ]
  },
  {
   "cell_type": "code",
   "execution_count": 151,
   "metadata": {},
   "outputs": [],
   "source": [
    "def add_one(c,ancillas,controlls):\n",
    "    a=ancillas\n",
    "    for i in range(len(a)-1):\n",
    "        controlls.append(a[i])\n",
    "\n",
    "    #c.add(gates.X(a[0]).controlled_by(*controlls))\n",
    "    for i in reversed(range(0,len(a))):\n",
    "        c.add(gates.X(a[i]).controlled_by(*controlls))\n",
    "        controlls.pop()"
   ]
  },
  {
   "cell_type": "code",
   "execution_count": 152,
   "metadata": {},
   "outputs": [],
   "source": [
    "def row_add(c,col,row_res,row_addend,H,n,controlls):\n",
    "    for i in range(col+1,n+1):\n",
    "        g=gates.X(H[row_res,i])\n",
    "        controlls.append(H[row_addend,i])\n",
    "        c.add(g.controlled_by(*controlls))\n",
    "        controlls.pop()\n",
    "        \n",
    "    "
   ]
  },
  {
   "cell_type": "code",
   "execution_count": 153,
   "metadata": {},
   "outputs": [],
   "source": [
    "def add_pivot(c,identity,parity,H,n,r,controlls):\n",
    "    i=identity\n",
    "    p=parity\n",
    "    c.add(gates.X(H[i,p]).controlled_by(*controlls))\n",
    "    #loop for differnt rows in which the pivot is searched\n",
    "    for l in range(r-(i+1)):\n",
    "        #current row in which pivot is searched\n",
    "        pr=i+l+1\n",
    "        #need to add controls on permutation\n",
    "        row_add(c,p,i,pr,H,n,[H[i,p]]+[H[i+1+o,p] for o in range(l+1)]+controlls)\n",
    "        #add not for \"if all preious were 0\"-statement\n",
    "        if l!=r-i-2:\n",
    "            c.add(gates.X(H[pr,p]).controlled_by(*controlls))\n",
    "    #revert all nots\n",
    "    for l in range(r-i-1):\n",
    "        c.add(gates.X(H[i+l,p]).controlled_by(*controlls))\n",
    "    "
   ]
  },
  {
   "cell_type": "code",
   "execution_count": 181,
   "metadata": {},
   "outputs": [],
   "source": [
    "def lower_col_elimination(c,identity,parity,H,n,r,controlls):\n",
    "    i=identity\n",
    "    p=parity\n",
    "    #for each element below the current diagonal\n",
    "    for l in range(r-i-1):\n",
    "        #add row if needed to eliminate ones in column p\n",
    "        row_add(c,p,i+l+1,i,H,n,[H[i+l+1,p]]+controlls)"
   ]
  },
  {
   "cell_type": "code",
   "execution_count": 182,
   "metadata": {},
   "outputs": [],
   "source": [
    "def upper_col_elimination(c,identity,parity,H,n,r,controlls):\n",
    "    i=identity\n",
    "    p=parity\n",
    "    #for each row above the current diagonal entry (identiy)\n",
    "    for l in range(i):\n",
    "        #eliminate ones by adding row[i] to that row\n",
    "        #for Prange just do it on the last column (the syndrome)\n",
    "        c.add(gates.X(H[l,n]).controlled_by(*([H[l,p],H[i,n]]+controlls)))\n",
    "        #for Lee-Brickell do the row additions from column r=n-k-1 onwards\n",
    "        #row_add(c,r-1,l,i,H,n,[H[l,p]]+controlls)\n",
    "        "
   ]
  },
  {
   "cell_type": "code",
   "execution_count": null,
   "metadata": {},
   "outputs": [],
   "source": []
  },
  {
   "cell_type": "markdown",
   "metadata": {},
   "source": [
    "# Solving a linear system of equations"
   ]
  },
  {
   "cell_type": "markdown",
   "metadata": {},
   "source": [
    "## Gernerate Example instance"
   ]
  },
  {
   "cell_type": "code",
   "execution_count": 183,
   "metadata": {},
   "outputs": [],
   "source": [
    "n=4\n",
    "r=3\n",
    "\n",
    "H=np.arange((n+1)*r).reshape(r,n+1)\n",
    "c=0\n",
    "\n",
    "for j in range(n+1):\n",
    "    for i in range(r):\n",
    "        H[i,j]=c\n",
    "        c+=1\n"
   ]
  },
  {
   "cell_type": "code",
   "execution_count": 179,
   "metadata": {},
   "outputs": [
    {
     "data": {
      "text/plain": [
       "array([[1],\n",
       "       [1],\n",
       "       [0]])"
      ]
     },
     "execution_count": 179,
     "metadata": {},
     "output_type": "execute_result"
    }
   ],
   "source": [
    "def solve_gf2(A,t):\n",
    "    r=A.shape[0]\n",
    "    b=np.copy(t)\n",
    "    for i in range(r):    \n",
    "        for j in range(i+1,r):\n",
    "            if A[j,i]==1:\n",
    "                if A[i,i]!=1:\n",
    "                    A[i]^=A[j]\n",
    "                    b[i]^=b[j]\n",
    "                A[j]^=A[i]\n",
    "                b[j]^=b[i]\n",
    "        if A[i,i]!=1:\n",
    "            raise ValueError(\"not invertible\")\n",
    "    for i in reversed(range(r)):\n",
    "        for j in range(i):\n",
    "            if A[j,i]==1:\n",
    "                A[j]^=A[i]\n",
    "                b[j]^=b[i]\n",
    "    return b\n",
    "\n",
    "solve_gf2(A,b)"
   ]
  },
  {
   "cell_type": "code",
   "execution_count": 210,
   "metadata": {},
   "outputs": [
    {
     "name": "stdout",
     "output_type": "stream",
     "text": [
      "solve A*x=b for x, where\n",
      "\n",
      "A =\n",
      "[[1 1 1 1]\n",
      " [0 0 1 0]\n",
      " [1 0 1 1]]\n",
      "\n",
      "b =\n",
      "[[0]\n",
      " [1]\n",
      " [1]]\n",
      "\n",
      "x =\n",
      "[[0.]\n",
      " [1.]\n",
      " [1.]]\n",
      "[[0]\n",
      " [1]\n",
      " [1]]\n"
     ]
    }
   ],
   "source": [
    "\n",
    "while True:\n",
    "    A=np.random.randint(2, size=(r, n))\n",
    "    if np.linalg.matrix_rank(A.transpose()[:r].transpose())==r:\n",
    "        break\n",
    "\n",
    "\n",
    "while 1:\n",
    "    b=np.random.randint(2, size=(r, 1))\n",
    "    if not(all(b==0)):\n",
    "        break\n",
    "\n",
    "print(\"solve A*x=b for x, where\" )\n",
    "print(\"\")\n",
    "print(\"A =\")\n",
    "print(A)\n",
    "print(\"\")\n",
    "print(\"b =\")\n",
    "print(b)\n",
    "print(\"\")\n",
    "print(\"x =\")\n",
    "print(np.linalg.solve(A.transpose()[:r].transpose(),b)%2)\n",
    "print(solve_gf2(A,b))"
   ]
  },
  {
   "cell_type": "markdown",
   "metadata": {},
   "source": [
    "# Gaussian only on first ``r`` columns"
   ]
  },
  {
   "cell_type": "code",
   "execution_count": 212,
   "metadata": {},
   "outputs": [],
   "source": [
    "\n",
    "c=Circuit((n+1)*r)\n",
    "\n",
    "#initialize matrix in quantum register\n",
    "for i in range(r):\n",
    "    for j in range(n):\n",
    "        if A[i, j] == 1:\n",
    "            c.add(gates.X(H[i, j]))\n",
    "for i in range(r):\n",
    "    if b[i] == 1:\n",
    "        c.add(gates.X(H[i, n]))\n",
    "        \n",
    "#add pivots and create upper triangular matrix\n",
    "for i in range(r-1):\n",
    "    add_pivot(c,i,i,H,n,r,[])\n",
    "    lower_col_elimination(c,i,i,H,n,r,[])\n",
    "\n",
    "#solve via back substitution\n",
    "for i in reversed(range(1,r)):\n",
    "    #upper_col_elimination(c,0,0,H,n,r)\n",
    "    upper_col_elimination(c,i,i,H,n,r,[])\n"
   ]
  },
  {
   "cell_type": "code",
   "execution_count": 214,
   "metadata": {},
   "outputs": [
    {
     "name": "stderr",
     "output_type": "stream",
     "text": [
      "[Qibo|ERROR|2021-09-15 15:49:44]: Cannot add gates to a circuit after it is executed.\n"
     ]
    },
    {
     "ename": "RuntimeError",
     "evalue": "Cannot add gates to a circuit after it is executed.",
     "output_type": "error",
     "traceback": [
      "\u001b[0;31m---------------------------------------------------------------------------\u001b[0m",
      "\u001b[0;31mRuntimeError\u001b[0m                              Traceback (most recent call last)",
      "\u001b[0;32m<ipython-input-214-7c15a9b1954b>\u001b[0m in \u001b[0;36m<module>\u001b[0;34m\u001b[0m\n\u001b[0;32m----> 1\u001b[0;31m \u001b[0mc\u001b[0m\u001b[0;34m.\u001b[0m\u001b[0madd\u001b[0m\u001b[0;34m(\u001b[0m\u001b[0mgates\u001b[0m\u001b[0;34m.\u001b[0m\u001b[0mM\u001b[0m\u001b[0;34m(\u001b[0m\u001b[0;34m*\u001b[0m\u001b[0;34m(\u001b[0m\u001b[0;34m[\u001b[0m\u001b[0mH\u001b[0m\u001b[0;34m[\u001b[0m\u001b[0mi\u001b[0m\u001b[0;34m,\u001b[0m\u001b[0mn\u001b[0m\u001b[0;34m-\u001b[0m\u001b[0;36m1\u001b[0m\u001b[0;34m]\u001b[0m \u001b[0;32mfor\u001b[0m \u001b[0mi\u001b[0m \u001b[0;32min\u001b[0m \u001b[0mrange\u001b[0m\u001b[0;34m(\u001b[0m\u001b[0mr\u001b[0m\u001b[0;34m)\u001b[0m\u001b[0;34m]\u001b[0m\u001b[0;34m+\u001b[0m\u001b[0;34m[\u001b[0m\u001b[0mH\u001b[0m\u001b[0;34m[\u001b[0m\u001b[0mi\u001b[0m\u001b[0;34m,\u001b[0m\u001b[0mn\u001b[0m\u001b[0;34m]\u001b[0m \u001b[0;32mfor\u001b[0m \u001b[0mi\u001b[0m \u001b[0;32min\u001b[0m \u001b[0mrange\u001b[0m\u001b[0;34m(\u001b[0m\u001b[0mr\u001b[0m\u001b[0;34m)\u001b[0m\u001b[0;34m]\u001b[0m\u001b[0;34m)\u001b[0m\u001b[0;34m)\u001b[0m\u001b[0;34m)\u001b[0m\u001b[0;34m\u001b[0m\u001b[0;34m\u001b[0m\u001b[0m\n\u001b[0m\u001b[1;32m      2\u001b[0m \u001b[0mprint\u001b[0m\u001b[0;34m(\u001b[0m\u001b[0mc\u001b[0m\u001b[0;34m.\u001b[0m\u001b[0mdraw\u001b[0m\u001b[0;34m(\u001b[0m\u001b[0;34m)\u001b[0m\u001b[0;34m)\u001b[0m\u001b[0;34m\u001b[0m\u001b[0;34m\u001b[0m\u001b[0m\n\u001b[1;32m      3\u001b[0m \u001b[0mm\u001b[0m\u001b[0;34m=\u001b[0m\u001b[0mc\u001b[0m\u001b[0;34m(\u001b[0m\u001b[0mnshots\u001b[0m\u001b[0;34m=\u001b[0m\u001b[0;36m10000\u001b[0m\u001b[0;34m)\u001b[0m\u001b[0;34m\u001b[0m\u001b[0;34m\u001b[0m\u001b[0m\n\u001b[1;32m      4\u001b[0m \u001b[0mm\u001b[0m\u001b[0;34m.\u001b[0m\u001b[0mfrequencies\u001b[0m\u001b[0;34m(\u001b[0m\u001b[0;34m)\u001b[0m\u001b[0;34m\u001b[0m\u001b[0;34m\u001b[0m\u001b[0m\n",
      "\u001b[0;32m/usr/local/lib/python3.8/site-packages/qibo/abstractions/circuit.py\u001b[0m in \u001b[0;36madd\u001b[0;34m(self, gate)\u001b[0m\n\u001b[1;32m    372\u001b[0m                 \u001b[0mself\u001b[0m\u001b[0;34m.\u001b[0m\u001b[0madd\u001b[0m\u001b[0;34m(\u001b[0m\u001b[0mg\u001b[0m\u001b[0;34m)\u001b[0m\u001b[0;34m\u001b[0m\u001b[0;34m\u001b[0m\u001b[0m\n\u001b[1;32m    373\u001b[0m         \u001b[0;32melif\u001b[0m \u001b[0misinstance\u001b[0m\u001b[0;34m(\u001b[0m\u001b[0mgate\u001b[0m\u001b[0;34m,\u001b[0m \u001b[0mgates\u001b[0m\u001b[0;34m.\u001b[0m\u001b[0mGate\u001b[0m\u001b[0;34m)\u001b[0m\u001b[0;34m:\u001b[0m\u001b[0;34m\u001b[0m\u001b[0;34m\u001b[0m\u001b[0m\n\u001b[0;32m--> 374\u001b[0;31m             \u001b[0mself\u001b[0m\u001b[0;34m.\u001b[0m\u001b[0m_add\u001b[0m\u001b[0;34m(\u001b[0m\u001b[0mgate\u001b[0m\u001b[0;34m)\u001b[0m\u001b[0;34m\u001b[0m\u001b[0;34m\u001b[0m\u001b[0m\n\u001b[0m\u001b[1;32m    375\u001b[0m         \u001b[0;32melse\u001b[0m\u001b[0;34m:\u001b[0m\u001b[0;34m\u001b[0m\u001b[0;34m\u001b[0m\u001b[0m\n\u001b[1;32m    376\u001b[0m             \u001b[0mraise_error\u001b[0m\u001b[0;34m(\u001b[0m\u001b[0mTypeError\u001b[0m\u001b[0;34m,\u001b[0m \u001b[0;34m\"Unknown gate type {}.\"\u001b[0m\u001b[0;34m.\u001b[0m\u001b[0mformat\u001b[0m\u001b[0;34m(\u001b[0m\u001b[0mtype\u001b[0m\u001b[0;34m(\u001b[0m\u001b[0mgate\u001b[0m\u001b[0;34m)\u001b[0m\u001b[0;34m)\u001b[0m\u001b[0;34m)\u001b[0m\u001b[0;34m\u001b[0m\u001b[0;34m\u001b[0m\u001b[0m\n",
      "\u001b[0;32m/usr/local/lib/python3.8/site-packages/qibo/abstractions/circuit.py\u001b[0m in \u001b[0;36m_add\u001b[0;34m(self, gate)\u001b[0m\n\u001b[1;32m    385\u001b[0m \u001b[0;34m\u001b[0m\u001b[0m\n\u001b[1;32m    386\u001b[0m         \u001b[0;32mif\u001b[0m \u001b[0mself\u001b[0m\u001b[0;34m.\u001b[0m\u001b[0m_final_state\u001b[0m \u001b[0;32mis\u001b[0m \u001b[0;32mnot\u001b[0m \u001b[0;32mNone\u001b[0m\u001b[0;34m:\u001b[0m\u001b[0;34m\u001b[0m\u001b[0;34m\u001b[0m\u001b[0m\n\u001b[0;32m--> 387\u001b[0;31m             raise_error(RuntimeError, \"Cannot add gates to a circuit after it is \"\n\u001b[0m\u001b[1;32m    388\u001b[0m                                       \"executed.\")\n\u001b[1;32m    389\u001b[0m \u001b[0;34m\u001b[0m\u001b[0m\n",
      "\u001b[0;32m/usr/local/lib/python3.8/site-packages/qibo/config.py\u001b[0m in \u001b[0;36mraise_error\u001b[0;34m(exception, message, args)\u001b[0m\n\u001b[1;32m     44\u001b[0m         \u001b[0;32mraise\u001b[0m \u001b[0mexception\u001b[0m\u001b[0;34m(\u001b[0m\u001b[0mmessage\u001b[0m\u001b[0;34m,\u001b[0m \u001b[0margs\u001b[0m\u001b[0;34m)\u001b[0m\u001b[0;34m\u001b[0m\u001b[0;34m\u001b[0m\u001b[0m\n\u001b[1;32m     45\u001b[0m     \u001b[0;32melse\u001b[0m\u001b[0;34m:\u001b[0m\u001b[0;34m\u001b[0m\u001b[0;34m\u001b[0m\u001b[0m\n\u001b[0;32m---> 46\u001b[0;31m         \u001b[0;32mraise\u001b[0m \u001b[0mexception\u001b[0m\u001b[0;34m(\u001b[0m\u001b[0mmessage\u001b[0m\u001b[0;34m)\u001b[0m\u001b[0;34m\u001b[0m\u001b[0;34m\u001b[0m\u001b[0m\n\u001b[0m\u001b[1;32m     47\u001b[0m \u001b[0;34m\u001b[0m\u001b[0m\n\u001b[1;32m     48\u001b[0m \u001b[0;34m\u001b[0m\u001b[0m\n",
      "\u001b[0;31mRuntimeError\u001b[0m: Cannot add gates to a circuit after it is executed."
     ]
    }
   ],
   "source": [
    "\n",
    "c.add(gates.M(*([H[i,n] for i in range(r)]+[H[i,n] for i in range(r)])))\n",
    "print(c.draw())\n",
    "m=c(nshots=10000)\n",
    "m.frequencies()"
   ]
  },
  {
   "cell_type": "code",
   "execution_count": null,
   "metadata": {},
   "outputs": [],
   "source": []
  },
  {
   "cell_type": "code",
   "execution_count": 42,
   "metadata": {},
   "outputs": [],
   "source": [
    "def find_set_bits(x,n):\n",
    "    bits=[]\n",
    "    for i in range(n):\n",
    "        mask=1<<i\n",
    "        if mask&x:\n",
    "            bits.append(i)\n",
    "    return bits"
   ]
  },
  {
   "cell_type": "code",
   "execution_count": 45,
   "metadata": {},
   "outputs": [],
   "source": [
    "\n",
    "\n",
    "#Assuming we computed the Gaussian elimination on the first n-k columns of H\n",
    "#carrying out all necessary row additions also on the last k+1 columns of H,\n",
    "#where the last column (with index n) holds the syndrome.\n",
    "#This function now takes every size p subset of columns n-k to n-1 and adds it to column n (the syndrome)\n",
    "#, checks the weight of the syndrome and if it is small enough sets the sign-flip-bit for grover.\n",
    "def enumerate_p_out_of_k(n,k,p,H):\n",
    "    #setb is a k bit binary number with exacly p bits set to one\n",
    "    setb = (1 << p) - 1;\n",
    "    limit = (1 << k);\n",
    "    \n",
    "    while setb < limit:\n",
    "    \n",
    "        #get positions of set bits in setb\n",
    "        columns_to_add=find_set_bits(setb,k)\n",
    "        \n",
    "        #add those columns to syndrome, note that indices need to be shifted by n-k\n",
    "        for i in columns_to_add:\n",
    "            add_column(i+n-k,n+1) \n",
    "            \n",
    "        #check weight of syndrome\n",
    "        #if weight is smaller than w-p set sign-flip-bit to one\n",
    "        \n",
    "        #reverse adding of columns to syndrome\n",
    "        for i in columns_to_add:\n",
    "            add_column(i+n-k,n+1) \n",
    "        \n",
    "        #gives next binary number with p bits out of k set to one\n",
    "        c = setb & - setb;\n",
    "        r = setb + c;\n",
    "        setb = int(((r ^ setb) >> 2) / c) | int(r);\n"
   ]
  },
  {
   "cell_type": "code",
   "execution_count": 57,
   "metadata": {},
   "outputs": [
    {
     "data": {
      "text/plain": [
       "Counter({'1010': 10000})"
      ]
     },
     "execution_count": 57,
     "metadata": {},
     "output_type": "execute_result"
    }
   ],
   "source": [
    "m=c(nshots=10000)\n",
    "m.frequencies()"
   ]
  },
  {
   "cell_type": "code",
   "execution_count": null,
   "metadata": {},
   "outputs": [],
   "source": []
  },
  {
   "cell_type": "code",
   "execution_count": 47,
   "metadata": {},
   "outputs": [
    {
     "name": "stdout",
     "output_type": "stream",
     "text": [
      "[0, 1]\n",
      "[0, 2]\n",
      "[1, 2]\n",
      "[0, 3]\n",
      "[1, 3]\n",
      "[2, 3]\n",
      "[0, 4]\n",
      "[1, 4]\n",
      "[2, 4]\n",
      "[3, 4]\n"
     ]
    },
    {
     "data": {
      "text/plain": [
       "[]"
      ]
     },
     "execution_count": 47,
     "metadata": {},
     "output_type": "execute_result"
    }
   ],
   "source": [
    "enumerate_p_out_of_k(5,2)"
   ]
  },
  {
   "cell_type": "code",
   "execution_count": 24,
   "metadata": {},
   "outputs": [],
   "source": [
    "n=6\n",
    "r=3\n",
    "c=Circuit((n+1)*r)\n",
    "\n"
   ]
  },
  {
   "cell_type": "code",
   "execution_count": 25,
   "metadata": {},
   "outputs": [
    {
     "data": {
      "text/plain": [
       "Counter({'011': 1})"
      ]
     },
     "execution_count": 25,
     "metadata": {},
     "output_type": "execute_result"
    }
   ],
   "source": [
    "measure.frequencies()"
   ]
  },
  {
   "cell_type": "markdown",
   "metadata": {},
   "source": [
    "# Combining both Circuits"
   ]
  },
  {
   "cell_type": "code",
   "execution_count": 105,
   "metadata": {},
   "outputs": [
    {
     "name": "stdout",
     "output_type": "stream",
     "text": [
      "solve all possible linear systems, where\n",
      "\n",
      "H =\n",
      "[[1 1 0 0]\n",
      " [1 1 1 0]]\n",
      "\n",
      "b =\n",
      "[[1]\n",
      " [0]]\n",
      "\n",
      "solutions =\n",
      "['111010', '110110']\n"
     ]
    }
   ],
   "source": [
    "import itertools\n",
    "r=2\n",
    "n=4\n",
    "solutions=[]\n",
    "\n",
    "while(len(solutions)<2):\n",
    "    solutions=[]\n",
    "    A=np.random.randint(2, size=(r, n))\n",
    "    b=np.random.randint(2, size=(r,1))\n",
    "    comb=itertools.combinations([i for i in range(n)],r)\n",
    "    Aprime=np.arange(r*r).reshape(r,r)\n",
    "    for i in comb:\n",
    "        ind=0\n",
    "        for j in i:\n",
    "            for l in range(r):\n",
    "                Aprime[l,ind]=A[l,j]\n",
    "            ind+=1\n",
    "        mask=0\n",
    "        for j in i:\n",
    "            mask^=(1<<(n-j-1))\n",
    "        v=bin(mask)[2:]\n",
    "        while (len(v)<n):\n",
    "            v=\"0\"+v\n",
    "        try:\n",
    "            sol=np.linalg.solve(Aprime,b)%2\n",
    "            for it in reversed(sol):\n",
    "                if it==0:\n",
    "                    v=\"0\"+v\n",
    "                else:\n",
    "                    v=\"1\"+v\n",
    "            solutions.append(v)\n",
    "        except:\n",
    "            pass\n",
    "\n",
    "print(\"solve all possible linear systems, where\" )\n",
    "print(\"\")\n",
    "print(\"H =\")\n",
    "print(A)\n",
    "print(\"\")\n",
    "print(\"b =\")\n",
    "print(b)\n",
    "print(\"\")\n",
    "print(\"solutions =\")\n",
    "print(solutions)"
   ]
  },
  {
   "cell_type": "code",
   "execution_count": 106,
   "metadata": {},
   "outputs": [],
   "source": [
    "\n",
    "perm=[i for i in range(n)]\n",
    "ancillas=[i for i in range(n,n+r)]\n",
    "\n",
    "H=np.arange((n+1)*r).reshape(r,n+1)\n",
    "c=n+r\n",
    "\n",
    "for j in range(n+1):\n",
    "    for i in range(r):\n",
    "        H[i,j]=c\n",
    "        c+=1\n"
   ]
  },
  {
   "cell_type": "code",
   "execution_count": 107,
   "metadata": {},
   "outputs": [],
   "source": [
    "c=create_qibo_circuit(n,r)\n",
    "\n",
    "#initialize matrix in quantum register\n",
    "for i in range(r):\n",
    "    for j in range(n):\n",
    "        if A[i, j] == 1:\n",
    "            c.add(gates.X(H[i, j]))\n",
    "for i in range(r):\n",
    "    if b[i] == 1:\n",
    "        c.add(gates.X(H[i, n]))\n",
    "        \n",
    "#add pivots and create upper triangular matrix\n",
    "for j in range(r-1):\n",
    "    set_ancillas_to_num(c,ancillas,r)\n",
    "    for i in range(n):\n",
    "        if j<=i:\n",
    "            add_negates_for_check(c,ancillas,r-j)\n",
    "            add_pivot(c,j,i,H,n,r,ancillas+[perm[i]])\n",
    "            lower_col_elimination(c,j,i,H,n,r,ancillas+[perm[i]])\n",
    "            add_negates_for_check(c,ancillas,r-j)\n",
    "        sub_one(c,ancillas,[perm[i]]) \n",
    "\n",
    "#perform backsubstitution\n",
    "for j in range(r-1):\n",
    "    set_ancillas_to_num(c,ancillas,r)\n",
    "    for i in reversed(range(n)):\n",
    "        if r-j-1<=i:\n",
    "            add_negates_for_check(c,ancillas,r-j)\n",
    "            upper_col_elimination(c,r-j-1,i,H,n,r,ancillas+[perm[i]])\n",
    "            add_negates_for_check(c,ancillas,r-j)\n",
    "        sub_one(c,ancillas,[perm[i]])\n",
    "\n",
    "for i in range(r):\n",
    "    add_one(c,ancillas[::-1],[H[i][n]])\n",
    "\n",
    "#add measurements\n",
    "c.add(gates.M(*([H[i,n] for i in range(r)]+perm+ancillas)))\n"
   ]
  },
  {
   "cell_type": "code",
   "execution_count": 108,
   "metadata": {},
   "outputs": [
    {
     "data": {
      "text/plain": [
       "[5, 4]"
      ]
     },
     "execution_count": 108,
     "metadata": {},
     "output_type": "execute_result"
    }
   ],
   "source": [
    "ancillas[::-1]"
   ]
  },
  {
   "cell_type": "code",
   "execution_count": 109,
   "metadata": {},
   "outputs": [
    {
     "name": "stdout",
     "output_type": "stream",
     "text": [
      "q0 : ─RY─o──────────────────────────o─o─o─o─o─o─o─o─o─o───o─o───────────────────────────────────────────────────────────────────────────────────────────o─o─────────M─\n",
      "q1 : ────|─RY─o─RY─o────────────────|─|─|─|─|─|─|─|─|─|───|─|───o─o─o─o─o─o─o─o───o─o───────────────────────────────────────────────────────────o───o─o─|─|─────────M─\n",
      "q2 : ────|─|──|─|──|─RY─o─X─o───────|─|─|─|─|─|─|─|─|─|───|─|───|─|─|─|─|─|─|─|───|─|───o─o─o─o─o─o───o─o─────────────────────────────o───o─o───|───|─|─|─|─────────M─\n",
      "q3 : ────|─|──|─|──|─|──|─|─|─X─o───|─|─|─|─|─|─|─|─|─|───|─|───|─|─|─|─|─|─|─|───|─|───|─|─|─|─|─|───|─|───o─o─o─o───o─o───o───o─o───|───|─|───|───|─|─|─|─────────M─\n",
      "q4 : ────x─o──X─|──x─o──X─|─x─o─X─X─o─o─o─o─o─o─o─o─o─o─X─X─o─X─o─o─o─o─o─o─o─o─X─X─o─X─o─o─o─o─o─o─X─X─o─X─o─o─o─o─X─X─o─X─o─X─X─o─X─o─X─X─o─X─o─X─X─o─X─o─X───X───M─\n",
      "q5 : ─X──x──────o──x──────o─x─────X─o─o─o─o─o─o─o─o─o─o─────X───o─o─o─o─o─o─o─o─────X───o─o─o─o─o─o─────X───o─o─o─o─────X─X─o─────X───o─────X───o─────X───X─o─X─o─X─M─\n",
      "q6 : ─────────────────────────────X─X─o─o─o─o─X─|─|─|─|─────────|─|─|─|─|─|─|─|─────────|─|─|─|─|─|─────────|─|─|─|─────────|─────────|─────────|───────────|─|─|─|───\n",
      "q7 : ─────────────────────────────X───o─o─o─o───o─o─o─o─────────|─|─|─|─|─|─|─|─────────|─|─|─|─|─|─────────|─|─|─|─────────|─────────|─────────|───────────|─|─|─|───\n",
      "q8 : ─────────────────────────────X───X─|─|─|───o─|─|─|─────────X─o─o─o─X─|─|─|─────────|─|─|─|─|─|─────────|─|─|─|─────────|─────────|─────────o───────────|─|─|─|───\n",
      "q9 : ─────────────────────────────X───o─|─|─|───X─|─|─|───────────o─o─o───o─o─o─────────|─|─|─|─|─|─────────|─|─|─|─────────|─────────|─────────|───────────|─|─|─|───\n",
      "q10: ───────────────────────────────────X─|─|─────o─|─|───────────X─|─|───o─|─|─────────X─o─o─X─|─|─────────|─|─|─|─────────|─────────o─────────|───────────|─|─|─|───\n",
      "q11: ─────────────────────────────X─────o─|─|─────X─|─|───────────o─|─|───X─|─|───────────o─o───o─o─────────|─|─|─|─────────|─────────|─────────|───────────|─|─|─|───\n",
      "q12: ─────────────────────────────────────X─|───────o─|─────────────X─|─────o─|───────────X─|───o─|─────────X─o─X─|─────────o─────────|─────────|───────────|─|─|─|───\n",
      "q13: ─────────────────────────────────────o─|───────X─|─────────────o─|─────X─|───────────o─|───X─|───────────o───o─────────|─────────|─────────|───────────|─|─|─|───\n",
      "q14: ─────────────────────────────X─────────X─────────o───────────────X───────o─────────────X─────o───────────X───o─────────X─────────X─────────X───────────o─o─|─|─M─\n",
      "q15: ───────────────────────────────────────o─────────X───────────────o───────X─────────────o─────X───────────o───X─────────o─────────o─────────o───────────────o─o─M─\n"
     ]
    }
   ],
   "source": [
    "print(c.draw())"
   ]
  },
  {
   "cell_type": "code",
   "execution_count": 110,
   "metadata": {},
   "outputs": [
    {
     "data": {
      "text/plain": [
       "Counter({'01110001': 1600,\n",
       "         '11001110': 1696,\n",
       "         '11010110': 1651,\n",
       "         '11011010': 1723,\n",
       "         '11100110': 1677,\n",
       "         '11101010': 1653})"
      ]
     },
     "execution_count": 110,
     "metadata": {},
     "output_type": "execute_result"
    }
   ],
   "source": [
    "\n",
    "m=c(nshots=10000)\n",
    "m.frequencies()\n",
    "#<--+ r + --><----+ n +----><------+ r +------> | only log(r) needed for weight (will be updated soon)\n",
    "# solution     permutation    weight(solution)  | weight given in binary"
   ]
  },
  {
   "cell_type": "code",
   "execution_count": 111,
   "metadata": {},
   "outputs": [
    {
     "data": {
      "text/plain": [
       "['111010', '110110']"
      ]
     },
     "execution_count": 111,
     "metadata": {},
     "output_type": "execute_result"
    }
   ],
   "source": [
    "solutions"
   ]
  },
  {
   "cell_type": "code",
   "execution_count": 79,
   "metadata": {},
   "outputs": [],
   "source": [
    "from math import ceil\n",
    "def qubit_amount(n,r):\n",
    "    return n+ceil(np.log2(r+1))+(n+1)*r"
   ]
  },
  {
   "cell_type": "code",
   "execution_count": 104,
   "metadata": {},
   "outputs": [
    {
     "data": {
      "text/plain": [
       "21"
      ]
     },
     "execution_count": 104,
     "metadata": {},
     "output_type": "execute_result"
    }
   ],
   "source": [
    "qubit_amount(n,r)"
   ]
  },
  {
   "cell_type": "code",
   "execution_count": null,
   "metadata": {},
   "outputs": [],
   "source": []
  }
 ],
 "metadata": {
  "kernelspec": {
   "display_name": "Python 3",
   "language": "python",
   "name": "python3"
  },
  "language_info": {
   "codemirror_mode": {
    "name": "ipython",
    "version": 3
   },
   "file_extension": ".py",
   "mimetype": "text/x-python",
   "name": "python",
   "nbconvert_exporter": "python",
   "pygments_lexer": "ipython3",
   "version": "3.8.10"
  }
 },
 "nbformat": 4,
 "nbformat_minor": 4
}
