{
 "cells": [
  {
   "cell_type": "code",
   "execution_count": 1,
   "metadata": {
    "ExecuteTime": {
     "end_time": "2021-09-21T14:22:57.307735Z",
     "start_time": "2021-09-21T14:22:53.999106Z"
    }
   },
   "outputs": [
    {
     "name": "stderr",
     "output_type": "stream",
     "text": [
      "[Qibo 0.1.6.dev2|INFO|2021-09-21 18:22:56]: Using qibojit backend on /CPU:0\n"
     ]
    }
   ],
   "source": [
    "import numpy as np\n",
    "from qibo.models import Circuit, Grover\n",
    "from qibo import gates\n",
    "from scipy.special import binom as binomial"
   ]
  },
  {
   "cell_type": "code",
   "execution_count": 2,
   "metadata": {
    "ExecuteTime": {
     "end_time": "2021-09-21T14:22:57.490913Z",
     "start_time": "2021-09-21T14:22:57.482537Z"
    }
   },
   "outputs": [],
   "source": [
    "from functions_new import lin_sys, isd_quantum"
   ]
  },
  {
   "cell_type": "code",
   "execution_count": 3,
   "metadata": {
    "ExecuteTime": {
     "end_time": "2021-09-21T14:22:57.681775Z",
     "start_time": "2021-09-21T14:22:57.677226Z"
    }
   },
   "outputs": [
    {
     "name": "stdout",
     "output_type": "stream",
     "text": [
      "Solve all possible linear systems, where\n",
      "\n",
      "H =\n",
      "[[0 1 1 0 0]\n",
      " [1 1 0 1 0]\n",
      " [0 1 0 0 1]] \n",
      "\n",
      "b =\n",
      "[[0]\n",
      " [1]\n",
      " [0]] \n",
      "\n",
      "Solutions:\n",
      "\n",
      "Column choice: 11100     Syndrome: 010\n",
      "Column choice: 11001     Syndrome: 010\n",
      "Column choice: 10101     Syndrome: 100\n",
      "Column choice: 01110     Syndrome: 001\n",
      "Column choice: 01101     Syndrome: 111\n",
      "Column choice: 01011     Syndrome: 010\n",
      "Column choice: 00111     Syndrome: 010\n",
      "\n",
      "\n"
     ]
    }
   ],
   "source": [
    "r=3\n",
    "n=5\n",
    "\n",
    "test_isd = lin_sys(n, r, lee_brickell=False)\n",
    "\n",
    "test_isd.print_instance()"
   ]
  },
  {
   "cell_type": "code",
   "execution_count": 4,
   "metadata": {
    "ExecuteTime": {
     "end_time": "2021-09-21T14:22:57.858747Z",
     "start_time": "2021-09-21T14:22:57.856420Z"
    }
   },
   "outputs": [],
   "source": [
    "test = isd_quantum(test_isd.H, test_isd.s, lee_brickell=False)"
   ]
  },
  {
   "cell_type": "code",
   "execution_count": 5,
   "metadata": {
    "ExecuteTime": {
     "end_time": "2021-09-21T14:22:58.196254Z",
     "start_time": "2021-09-21T14:22:58.032628Z"
    }
   },
   "outputs": [
    {
     "name": "stdout",
     "output_type": "stream",
     "text": [
      "-------------------------------------------------------\n",
      "| Column choices  | Syndrome        | Probability     |\n",
      "-------------------------------------------------------\n",
      "| 01110           | 001             | 0.1014          |\n",
      "-------------------------------------------------------\n",
      "| 00111           | 010             | 0.1001          |\n",
      "-------------------------------------------------------\n",
      "| 01011           | 010             | 0.0995          |\n",
      "-------------------------------------------------------\n",
      "| 11001           | 010             | 0.1033          |\n",
      "-------------------------------------------------------\n",
      "| 11010           | 010             | 0.0989          |\n",
      "-------------------------------------------------------\n",
      "| 11100           | 010             | 0.1007          |\n",
      "-------------------------------------------------------\n",
      "| 10011           | 100             | 0.0947          |\n",
      "-------------------------------------------------------\n",
      "| 10101           | 100             | 0.1011          |\n",
      "-------------------------------------------------------\n",
      "| 10110           | 100             | 0.0998          |\n",
      "-------------------------------------------------------\n",
      "| 01101           | 111             | 0.1005          |\n",
      "-------------------------------------------------------\n",
      "\n",
      "\n",
      "Circuit works correct\n"
     ]
    }
   ],
   "source": [
    "test.check_isd(solutions=test_isd.solutions)"
   ]
  },
  {
   "cell_type": "code",
   "execution_count": 6,
   "metadata": {
    "ExecuteTime": {
     "end_time": "2021-09-21T14:22:58.421565Z",
     "start_time": "2021-09-21T14:22:58.419652Z"
    }
   },
   "outputs": [],
   "source": [
    "target = 3"
   ]
  },
  {
   "cell_type": "code",
   "execution_count": 7,
   "metadata": {
    "ExecuteTime": {
     "end_time": "2021-09-21T14:22:58.611543Z",
     "start_time": "2021-09-21T14:22:58.591466Z"
    }
   },
   "outputs": [],
   "source": [
    "oracle = test.isd_oracle(target)\n",
    "superposition = test.superposition_circuit()\n",
    "sup_size = int(binomial(n, r))"
   ]
  },
  {
   "cell_type": "code",
   "execution_count": 8,
   "metadata": {
    "ExecuteTime": {
     "end_time": "2021-09-21T14:22:58.781860Z",
     "start_time": "2021-09-21T14:22:58.779491Z"
    }
   },
   "outputs": [],
   "source": [
    "check = test.check_solution\n",
    "check_args = (test_isd.H, test_isd.s, target)"
   ]
  },
  {
   "cell_type": "code",
   "execution_count": 9,
   "metadata": {
    "ExecuteTime": {
     "end_time": "2021-09-21T14:23:08.252390Z",
     "start_time": "2021-09-21T14:23:08.249244Z"
    }
   },
   "outputs": [],
   "source": [
    "#isd_grover = Grover(oracle, superposition_circuit=superposition, superposition_qubits=n,\n",
    "#                    superposition_size=sup_size, check=check, check_args=check_args, iterative=True)\n",
    "\n",
    "isd_grover = Grover(oracle, superposition_circuit=superposition, superposition_qubits=n,\n",
    "                            superposition_size=sup_size, number_solutions=1,\n",
    "                            check=check, check_args=check_args)\n",
    "\n"
   ]
  },
  {
   "cell_type": "code",
   "execution_count": 10,
   "metadata": {
    "ExecuteTime": {
     "end_time": "2021-09-21T14:23:09.118477Z",
     "start_time": "2021-09-21T14:23:08.994421Z"
    }
   },
   "outputs": [
    {
     "name": "stdout",
     "output_type": "stream",
     "text": [
      "Solution found: ['01101'] in 2 Grover iterations.\n",
      "\n"
     ]
    }
   ],
   "source": [
    "solution, iterations = isd_grover()\n",
    "print(f'Solution found: {solution} in {iterations} Grover iterations.\\n')"
   ]
  },
  {
   "cell_type": "code",
   "execution_count": 12,
   "metadata": {
    "ExecuteTime": {
     "end_time": "2021-09-21T14:23:21.100572Z",
     "start_time": "2021-09-21T14:23:21.088755Z"
    }
   },
   "outputs": [
    {
     "data": {
      "text/plain": [
       "True"
      ]
     },
     "execution_count": 12,
     "metadata": {},
     "output_type": "execute_result"
    }
   ],
   "source": [
    "test.check_solution('01101', test_isd.H, test_isd.s, target, lee_brickell=0)"
   ]
  },
  {
   "cell_type": "code",
   "execution_count": 14,
   "metadata": {
    "ExecuteTime": {
     "end_time": "2021-09-21T14:23:30.520807Z",
     "start_time": "2021-09-21T14:23:30.515919Z"
    }
   },
   "outputs": [
    {
     "data": {
      "text/plain": [
       "False"
      ]
     },
     "execution_count": 14,
     "metadata": {},
     "output_type": "execute_result"
    }
   ],
   "source": [
    "test.check_solution('00111', test_isd.H, test_isd.s, target, lee_brickell=0)"
   ]
  },
  {
   "cell_type": "code",
   "execution_count": 15,
   "metadata": {
    "ExecuteTime": {
     "end_time": "2021-09-21T14:23:31.756512Z",
     "start_time": "2021-09-21T14:23:31.752978Z"
    }
   },
   "outputs": [],
   "source": [
    "isd_grover = Grover(oracle, superposition_circuit=superposition, superposition_qubits=n,\n",
    "                    superposition_size=sup_size, check=check, check_args=check_args, iterative=True)\n",
    "\n"
   ]
  },
  {
   "cell_type": "code",
   "execution_count": 16,
   "metadata": {
    "ExecuteTime": {
     "end_time": "2021-09-21T14:23:32.857733Z",
     "start_time": "2021-09-21T14:23:32.728579Z"
    }
   },
   "outputs": [
    {
     "name": "stdout",
     "output_type": "stream",
     "text": [
      "Solution found: 01101 in 2 Grover iterations.\n",
      "\n"
     ]
    }
   ],
   "source": [
    "solution, iterations = isd_grover()\n",
    "print(f'Solution found: {solution} in {iterations} Grover iterations.\\n')"
   ]
  },
  {
   "cell_type": "code",
   "execution_count": null,
   "metadata": {},
   "outputs": [],
   "source": []
  },
  {
   "cell_type": "code",
   "execution_count": 67,
   "metadata": {
    "ExecuteTime": {
     "end_time": "2021-09-21T14:27:31.913683Z",
     "start_time": "2021-09-21T14:27:31.907111Z"
    }
   },
   "outputs": [
    {
     "name": "stdout",
     "output_type": "stream",
     "text": [
      "Solve all possible linear systems, where\n",
      "\n",
      "H =\n",
      "[[0 0 1 0 0]\n",
      " [1 1 0 0 1]\n",
      " [0 1 0 1 1]] \n",
      "\n",
      "b =\n",
      "[[1]\n",
      " [1]\n",
      " [0]] \n",
      "\n",
      "Solutions:\n",
      "\n",
      "Column choice: 11100     Syndrome: 101\n",
      "Column choice: 10110     Syndrome: 011\n",
      "Column choice: 10101     Syndrome: 011\n",
      "Column choice: 01110     Syndrome: 111\n",
      "Column choice: 00111     Syndrome: 111\n",
      "\n",
      "\n"
     ]
    }
   ],
   "source": [
    "r=3\n",
    "n=5\n",
    "\n",
    "test_lb = lin_sys(n, r, lee_brickell=True)\n",
    "\n",
    "\n",
    "test_lb.print_instance()"
   ]
  },
  {
   "cell_type": "code",
   "execution_count": 68,
   "metadata": {
    "ExecuteTime": {
     "end_time": "2021-09-21T14:27:33.012826Z",
     "start_time": "2021-09-21T14:27:33.009488Z"
    }
   },
   "outputs": [],
   "source": [
    "test = isd_quantum(test_lb.H, test_lb.s, lee_brickell=True)"
   ]
  },
  {
   "cell_type": "code",
   "execution_count": 69,
   "metadata": {
    "ExecuteTime": {
     "end_time": "2021-09-21T14:27:46.001754Z",
     "start_time": "2021-09-21T14:27:34.247333Z"
    }
   },
   "outputs": [
    {
     "name": "stdout",
     "output_type": "stream",
     "text": [
      "-------------------------------------------------------\n",
      "| Column choices  | Syndrome        | Probability     |\n",
      "-------------------------------------------------------\n",
      "| 01101           | 011             | 0.103           |\n",
      "-------------------------------------------------------\n",
      "| 10101           | 011             | 0.0995          |\n",
      "-------------------------------------------------------\n",
      "| 10110           | 011             | 0.1049          |\n",
      "-------------------------------------------------------\n",
      "| 10011           | 101             | 0.1023          |\n",
      "-------------------------------------------------------\n",
      "| 11010           | 101             | 0.0984          |\n",
      "-------------------------------------------------------\n",
      "| 11100           | 101             | 0.0948          |\n",
      "-------------------------------------------------------\n",
      "| 11001           | 110             | 0.0973          |\n",
      "-------------------------------------------------------\n",
      "| 00111           | 111             | 0.1014          |\n",
      "-------------------------------------------------------\n",
      "| 01011           | 111             | 0.1019          |\n",
      "-------------------------------------------------------\n",
      "| 01110           | 111             | 0.0965          |\n",
      "-------------------------------------------------------\n",
      "\n",
      "\n",
      "Circuit works correct\n"
     ]
    }
   ],
   "source": [
    "test.check_isd(solutions=test_lb.solutions)"
   ]
  },
  {
   "cell_type": "code",
   "execution_count": 62,
   "metadata": {
    "ExecuteTime": {
     "end_time": "2021-09-21T14:27:02.412455Z",
     "start_time": "2021-09-21T14:27:02.409455Z"
    }
   },
   "outputs": [],
   "source": [
    "target = 3\n",
    "p = 1"
   ]
  },
  {
   "cell_type": "code",
   "execution_count": 63,
   "metadata": {
    "ExecuteTime": {
     "end_time": "2021-09-21T14:27:02.761407Z",
     "start_time": "2021-09-21T14:27:02.744669Z"
    }
   },
   "outputs": [],
   "source": [
    "oracle = test.lb_oracle(target, p)\n",
    "superposition = test.superposition_circuit()\n",
    "sup_size = int(binomial(n, r))"
   ]
  },
  {
   "cell_type": "code",
   "execution_count": 64,
   "metadata": {
    "ExecuteTime": {
     "end_time": "2021-09-21T14:27:03.000511Z",
     "start_time": "2021-09-21T14:27:02.997929Z"
    }
   },
   "outputs": [],
   "source": [
    "check = test.check_solution\n",
    "check_args = (test_lb.H, test_lb.s, target, p)"
   ]
  },
  {
   "cell_type": "code",
   "execution_count": 65,
   "metadata": {
    "ExecuteTime": {
     "end_time": "2021-09-21T14:27:03.299231Z",
     "start_time": "2021-09-21T14:27:03.296210Z"
    }
   },
   "outputs": [],
   "source": [
    "isd_grover = Grover(oracle, superposition_circuit=superposition, superposition_qubits=n,\n",
    "                    superposition_size=sup_size, check=check, check_args=check_args, iterative=True)"
   ]
  },
  {
   "cell_type": "code",
   "execution_count": 66,
   "metadata": {
    "ExecuteTime": {
     "end_time": "2021-09-21T14:27:10.424966Z",
     "start_time": "2021-09-21T14:27:03.511417Z"
    }
   },
   "outputs": [
    {
     "name": "stdout",
     "output_type": "stream",
     "text": [
      "Solution found: 0111 in 3 Grover iterations.\n",
      "\n"
     ]
    }
   ],
   "source": [
    "solution, iterations = isd_grover()\n",
    "print(f'Solution found: {solution} in {iterations} Grover iterations.\\n')"
   ]
  },
  {
   "cell_type": "code",
   "execution_count": 58,
   "metadata": {
    "ExecuteTime": {
     "end_time": "2021-09-21T14:26:47.844752Z",
     "start_time": "2021-09-21T14:26:47.839355Z"
    }
   },
   "outputs": [
    {
     "data": {
      "text/plain": [
       "False"
      ]
     },
     "execution_count": 58,
     "metadata": {},
     "output_type": "execute_result"
    }
   ],
   "source": [
    "test.check_solution('1110', test_lb.H, test_lb.s, target, lee_brickell=p)"
   ]
  },
  {
   "cell_type": "code",
   "execution_count": 61,
   "metadata": {
    "ExecuteTime": {
     "end_time": "2021-09-21T14:26:58.432333Z",
     "start_time": "2021-09-21T14:26:58.427019Z"
    }
   },
   "outputs": [
    {
     "data": {
      "text/plain": [
       "False"
      ]
     },
     "execution_count": 61,
     "metadata": {},
     "output_type": "execute_result"
    }
   ],
   "source": [
    "test.check_solution('1101', test_lb.H, test_lb.s, target, lee_brickell=p)"
   ]
  },
  {
   "cell_type": "code",
   "execution_count": null,
   "metadata": {},
   "outputs": [],
   "source": []
  },
  {
   "cell_type": "code",
   "execution_count": null,
   "metadata": {},
   "outputs": [],
   "source": []
  },
  {
   "cell_type": "code",
   "execution_count": null,
   "metadata": {},
   "outputs": [],
   "source": []
  },
  {
   "cell_type": "code",
   "execution_count": null,
   "metadata": {},
   "outputs": [],
   "source": []
  },
  {
   "cell_type": "code",
   "execution_count": 69,
   "metadata": {
    "ExecuteTime": {
     "end_time": "2021-09-21T14:20:08.106812Z",
     "start_time": "2021-09-21T14:20:08.085033Z"
    }
   },
   "outputs": [],
   "source": [
    "def check_solution(perm, A, b, target, lee_brickell=0):\n",
    "    '''Check if a given permutation outputs the desired target weight.\n",
    "    Args:\n",
    "        perm (list): choice of columns to check.\n",
    "        H (np.array): parity check matrix.\n",
    "        s (np.array): original syndrome.\n",
    "        target (int): target weight of the syndrome by the end.\n",
    "\n",
    "    Returns:\n",
    "        (bool): True if the weight of the resulting syndrome is equal to the target.\n",
    "\n",
    "    '''\n",
    "    def find_set_bits(x, n):\n",
    "        bits = []\n",
    "        for i in range(n):\n",
    "            mask = 1 << i\n",
    "            if mask & x:\n",
    "                bits.append(i)\n",
    "        return bits\n",
    "\n",
    "    def solve_gf2(A,t):\n",
    "        r=A.shape[0]\n",
    "        b=np.copy(t)\n",
    "        for i in range(r):    \n",
    "            for j in range(i+1,r):\n",
    "                if A[j,i]==1:\n",
    "                    if A[i,i]!=1:\n",
    "                        A[i]^=A[j]\n",
    "                        b[i]^=b[j]\n",
    "                    A[j]^=A[i]\n",
    "                    b[j]^=b[i]\n",
    "            if A[i,i]!=1:\n",
    "                return False\n",
    "        for i in reversed(range(r)):\n",
    "            for j in range(i):\n",
    "                if A[j,i]==1:\n",
    "                    A[j]^=A[i]\n",
    "                    b[j]^=b[i]\n",
    "        return b\n",
    "\n",
    "    n = A.shape[1]\n",
    "    k = A.shape[0]\n",
    "\n",
    "    P=np.matrix(A).transpose()\n",
    "    L=[]\n",
    "    if lee_brickell:\n",
    "        range_n=[i for i in reversed(range(n))]\n",
    "    else:\n",
    "        range_n=[i for i in reversed(range(n-k))]+[i for i in range(n-k,n)]\n",
    "    for i in range_n:\n",
    "        if perm[i]==\"1\":\n",
    "            L.append(P[i].tolist()[0])\n",
    "    #for i in range(n):\n",
    "    #    if perm[i] == \"1\":\n",
    "    #        L.append(P[i].tolist()[0])\n",
    "\n",
    "    if not(lee_brickell):\n",
    "        Hp=np.matrix(L).transpose()\n",
    "        x=solve_gf2(Hp,b)%2\n",
    "        return np.int(np.sum(x))==target\n",
    "    else:\n",
    "        for i in range(n):\n",
    "            if perm[i]==\"0\":\n",
    "                L.append(P[i].tolist()[0])\n",
    "        Hp=np.matrix(L).transpose()\n",
    "        x=solve_gf2(Hp,b)%2\n",
    "        try:\n",
    "            len(x)\n",
    "        except:\n",
    "            return False\n",
    "        p=lee_brickell\n",
    "        correct=False\n",
    "\n",
    "        length=n-k\n",
    "        setb = (1 << p) - 1;\n",
    "        limit = (1 << length);\n",
    "        while setb < limit:\n",
    "            res=[i for i in x]\n",
    "            #get positions of set bits in setb\n",
    "\n",
    "            columns_to_add=find_set_bits(setb,k)\n",
    "\n",
    "            #add those columns to syndrome, note that indices need to be shifted by k\n",
    "            for i in columns_to_add:\n",
    "                for j in range(len(res)):\n",
    "                    res[j]^=Hp[j,k+i]\n",
    "            if np.int(np.sum(res))==target-p:\n",
    "                return True\n",
    "\n",
    "            #gives next binary number with p bits out of k set to one\n",
    "            c = setb & - setb;\n",
    "            v = setb + c;\n",
    "            setb = int(((v ^ setb) >> 2) / c) | int(v);\n",
    "        return False"
   ]
  }
 ],
 "metadata": {
  "kernelspec": {
   "display_name": "Python 3",
   "language": "python",
   "name": "python3"
  },
  "language_info": {
   "codemirror_mode": {
    "name": "ipython",
    "version": 3
   },
   "file_extension": ".py",
   "mimetype": "text/x-python",
   "name": "python",
   "nbconvert_exporter": "python",
   "pygments_lexer": "ipython3",
   "version": "3.7.6"
  },
  "toc": {
   "base_numbering": 1,
   "nav_menu": {},
   "number_sections": true,
   "sideBar": true,
   "skip_h1_title": false,
   "title_cell": "Table of Contents",
   "title_sidebar": "Contents",
   "toc_cell": false,
   "toc_position": {},
   "toc_section_display": true,
   "toc_window_display": false
  },
  "varInspector": {
   "cols": {
    "lenName": 16,
    "lenType": 16,
    "lenVar": 40
   },
   "kernels_config": {
    "python": {
     "delete_cmd_postfix": "",
     "delete_cmd_prefix": "del ",
     "library": "var_list.py",
     "varRefreshCmd": "print(var_dic_list())"
    },
    "r": {
     "delete_cmd_postfix": ") ",
     "delete_cmd_prefix": "rm(",
     "library": "var_list.r",
     "varRefreshCmd": "cat(var_dic_list()) "
    }
   },
   "types_to_exclude": [
    "module",
    "function",
    "builtin_function_or_method",
    "instance",
    "_Feature"
   ],
   "window_display": false
  }
 },
 "nbformat": 4,
 "nbformat_minor": 4
}
