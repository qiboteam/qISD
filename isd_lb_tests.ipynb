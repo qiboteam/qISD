{
 "cells": [
  {
   "cell_type": "code",
   "execution_count": 1,
   "metadata": {
    "ExecuteTime": {
     "end_time": "2021-09-22T12:25:01.467200Z",
     "start_time": "2021-09-22T12:24:56.856818Z"
    }
   },
   "outputs": [
    {
     "name": "stderr",
     "output_type": "stream",
     "text": [
      "[Qibo 0.1.6.dev2|INFO|2021-09-22 16:25:00]: Using qibojit backend on /CPU:0\n"
     ]
    }
   ],
   "source": [
    "import numpy as np\n",
    "from qibo.models import Circuit, Grover\n",
    "from qibo import gates\n",
    "from scipy.special import binom as binomial"
   ]
  },
  {
   "cell_type": "code",
   "execution_count": 2,
   "metadata": {
    "ExecuteTime": {
     "end_time": "2021-09-22T12:25:01.505978Z",
     "start_time": "2021-09-22T12:25:01.494997Z"
    }
   },
   "outputs": [],
   "source": [
    "from functions_new import lin_sys, isd_quantum"
   ]
  },
  {
   "cell_type": "code",
   "execution_count": 8,
   "metadata": {
    "ExecuteTime": {
     "end_time": "2021-09-22T12:25:07.989344Z",
     "start_time": "2021-09-22T12:25:07.983654Z"
    }
   },
   "outputs": [
    {
     "name": "stdout",
     "output_type": "stream",
     "text": [
      "Solve all possible linear systems, where\n",
      "\n",
      "H =\n",
      "[[1 0 1 0 0]\n",
      " [1 1 0 1 0]\n",
      " [1 1 0 0 1]] \n",
      "\n",
      "b =\n",
      "[[0]\n",
      " [0]\n",
      " [1]] \n",
      "\n",
      "Solutions:\n",
      "\n",
      "Column choice: 11010     Syndrome: 101\n",
      "Column choice: 11001     Syndrome: 001\n",
      "Column choice: 10110     Syndrome: 111\n",
      "Column choice: 10101     Syndrome: 001\n",
      "Column choice: 10011     Syndrome: 001\n",
      "Column choice: 01110     Syndrome: 101\n",
      "Column choice: 01101     Syndrome: 001\n",
      "Column choice: 00111     Syndrome: 001\n",
      "\n",
      "\n"
     ]
    }
   ],
   "source": [
    "r=3\n",
    "n=5\n",
    "\n",
    "test_isd = lin_sys(n, r, lee_brickell=False)\n",
    "\n",
    "test_isd.print_instance()"
   ]
  },
  {
   "cell_type": "code",
   "execution_count": 9,
   "metadata": {
    "ExecuteTime": {
     "end_time": "2021-09-22T12:25:09.369861Z",
     "start_time": "2021-09-22T12:25:09.366545Z"
    }
   },
   "outputs": [],
   "source": [
    "test = isd_quantum(test_isd.H, test_isd.s, lee_brickell=False)"
   ]
  },
  {
   "cell_type": "code",
   "execution_count": 10,
   "metadata": {
    "ExecuteTime": {
     "end_time": "2021-09-22T12:25:09.606910Z",
     "start_time": "2021-09-22T12:25:09.570017Z"
    }
   },
   "outputs": [
    {
     "name": "stdout",
     "output_type": "stream",
     "text": [
      "-------------------------------------------------------\n",
      "| Column choices  | Syndrome        | Probability     |\n",
      "-------------------------------------------------------\n",
      "| 00111           | 001             | 0.0988          |\n",
      "-------------------------------------------------------\n",
      "| 01011           | 001             | 0.0997          |\n",
      "-------------------------------------------------------\n",
      "| 01101           | 001             | 0.0963          |\n",
      "-------------------------------------------------------\n",
      "| 10011           | 001             | 0.1015          |\n",
      "-------------------------------------------------------\n",
      "| 10101           | 001             | 0.103           |\n",
      "-------------------------------------------------------\n",
      "| 11001           | 001             | 0.1017          |\n",
      "-------------------------------------------------------\n",
      "| 11100           | 011             | 0.0988          |\n",
      "-------------------------------------------------------\n",
      "| 01110           | 101             | 0.1025          |\n",
      "-------------------------------------------------------\n",
      "| 11010           | 101             | 0.099           |\n",
      "-------------------------------------------------------\n",
      "| 10110           | 111             | 0.0987          |\n",
      "-------------------------------------------------------\n",
      "\n",
      "\n",
      "Circuit works correct\n"
     ]
    }
   ],
   "source": [
    "test.check_isd(solutions=test_isd.solutions)"
   ]
  },
  {
   "cell_type": "code",
   "execution_count": 11,
   "metadata": {
    "ExecuteTime": {
     "end_time": "2021-09-22T12:25:12.181489Z",
     "start_time": "2021-09-22T12:25:12.178934Z"
    }
   },
   "outputs": [],
   "source": [
    "target = 3"
   ]
  },
  {
   "cell_type": "code",
   "execution_count": 12,
   "metadata": {
    "ExecuteTime": {
     "end_time": "2021-09-22T12:25:12.566617Z",
     "start_time": "2021-09-22T12:25:12.541033Z"
    }
   },
   "outputs": [],
   "source": [
    "oracle = test.isd_oracle(target)\n",
    "superposition = test.superposition_circuit()\n",
    "sup_size = int(binomial(n, r))"
   ]
  },
  {
   "cell_type": "code",
   "execution_count": 14,
   "metadata": {
    "ExecuteTime": {
     "end_time": "2021-09-22T12:25:17.773614Z",
     "start_time": "2021-09-22T12:25:17.770561Z"
    }
   },
   "outputs": [],
   "source": [
    "check = test.check_solution\n",
    "check_args = (test_isd.H, test_isd.s, target)"
   ]
  },
  {
   "cell_type": "code",
   "execution_count": 15,
   "metadata": {
    "ExecuteTime": {
     "end_time": "2021-09-22T12:25:20.913172Z",
     "start_time": "2021-09-22T12:25:20.909632Z"
    }
   },
   "outputs": [],
   "source": [
    "#isd_grover = Grover(oracle, superposition_circuit=superposition, superposition_qubits=n,\n",
    "#                    superposition_size=sup_size, check=check, check_args=check_args, iterative=True)\n",
    "\n",
    "isd_grover = Grover(oracle, superposition_circuit=superposition, superposition_qubits=n,\n",
    "                            superposition_size=sup_size, number_solutions=1,\n",
    "                            check=check, check_args=check_args)\n",
    "\n"
   ]
  },
  {
   "cell_type": "code",
   "execution_count": 16,
   "metadata": {
    "ExecuteTime": {
     "end_time": "2021-09-22T12:25:21.691067Z",
     "start_time": "2021-09-22T12:25:21.560214Z"
    }
   },
   "outputs": [
    {
     "name": "stdout",
     "output_type": "stream",
     "text": [
      "Solution found: ['10110'] in 2 Grover iterations.\n",
      "\n"
     ]
    }
   ],
   "source": [
    "solution, iterations = isd_grover()\n",
    "print(f'Solution found: {solution} in {iterations} Grover iterations.\\n')"
   ]
  },
  {
   "cell_type": "code",
   "execution_count": 17,
   "metadata": {
    "ExecuteTime": {
     "end_time": "2021-09-22T12:25:24.848052Z",
     "start_time": "2021-09-22T12:25:24.835926Z"
    }
   },
   "outputs": [
    {
     "data": {
      "text/plain": [
       "False"
      ]
     },
     "execution_count": 17,
     "metadata": {},
     "output_type": "execute_result"
    }
   ],
   "source": [
    "test.check_solution('01110', test_isd.H, test_isd.s, target, lee_brickell=0)"
   ]
  },
  {
   "cell_type": "code",
   "execution_count": 18,
   "metadata": {
    "ExecuteTime": {
     "end_time": "2021-09-22T12:25:29.982641Z",
     "start_time": "2021-09-22T12:25:29.977169Z"
    }
   },
   "outputs": [
    {
     "data": {
      "text/plain": [
       "True"
      ]
     },
     "execution_count": 18,
     "metadata": {},
     "output_type": "execute_result"
    }
   ],
   "source": [
    "test.check_solution('10110', test_isd.H, test_isd.s, target, lee_brickell=0)"
   ]
  },
  {
   "cell_type": "code",
   "execution_count": 20,
   "metadata": {
    "ExecuteTime": {
     "end_time": "2021-09-22T12:25:59.817392Z",
     "start_time": "2021-09-22T12:25:59.812172Z"
    }
   },
   "outputs": [
    {
     "data": {
      "text/plain": [
       "False"
      ]
     },
     "execution_count": 20,
     "metadata": {},
     "output_type": "execute_result"
    }
   ],
   "source": [
    "test.check_solution('01011', test_isd.H, test_isd.s, target, lee_brickell=0)"
   ]
  },
  {
   "cell_type": "code",
   "execution_count": 21,
   "metadata": {
    "ExecuteTime": {
     "end_time": "2021-09-22T12:26:03.301338Z",
     "start_time": "2021-09-22T12:26:03.298149Z"
    }
   },
   "outputs": [],
   "source": [
    "isd_grover = Grover(oracle, superposition_circuit=superposition, superposition_qubits=n,\n",
    "                    superposition_size=sup_size, check=check, check_args=check_args, iterative=True)\n",
    "\n"
   ]
  },
  {
   "cell_type": "code",
   "execution_count": 22,
   "metadata": {
    "ExecuteTime": {
     "end_time": "2021-09-22T12:26:04.757776Z",
     "start_time": "2021-09-22T12:26:04.682281Z"
    }
   },
   "outputs": [
    {
     "name": "stdout",
     "output_type": "stream",
     "text": [
      "Solution found: 10110 in 1 Grover iterations.\n",
      "\n"
     ]
    }
   ],
   "source": [
    "solution, iterations = isd_grover()\n",
    "print(f'Solution found: {solution} in {iterations} Grover iterations.\\n')"
   ]
  },
  {
   "cell_type": "code",
   "execution_count": null,
   "metadata": {},
   "outputs": [],
   "source": []
  },
  {
   "cell_type": "code",
   "execution_count": 27,
   "metadata": {
    "ExecuteTime": {
     "end_time": "2021-09-22T12:26:15.047620Z",
     "start_time": "2021-09-22T12:26:15.042004Z"
    }
   },
   "outputs": [
    {
     "name": "stdout",
     "output_type": "stream",
     "text": [
      "Solve all possible linear systems, where\n",
      "\n",
      "H =\n",
      "[[1 0 0 1 0]\n",
      " [0 1 0 0 0]\n",
      " [1 0 0 0 1]] \n",
      "\n",
      "b =\n",
      "[[0]\n",
      " [1]\n",
      " [1]] \n",
      "\n",
      "Solutions:\n",
      "\n",
      "Column choice: 11010     Syndrome: 111\n",
      "Column choice: 11001     Syndrome: 110\n",
      "Column choice: 01011     Syndrome: 101\n",
      "\n",
      "\n"
     ]
    }
   ],
   "source": [
    "r=3\n",
    "n=5\n",
    "\n",
    "test_lb = lin_sys(n, r, lee_brickell=True)\n",
    "\n",
    "\n",
    "test_lb.print_instance()"
   ]
  },
  {
   "cell_type": "code",
   "execution_count": 28,
   "metadata": {
    "ExecuteTime": {
     "end_time": "2021-09-22T12:26:29.953968Z",
     "start_time": "2021-09-22T12:26:29.950530Z"
    }
   },
   "outputs": [],
   "source": [
    "test = isd_quantum(test_lb.H, test_lb.s, lee_brickell=True)"
   ]
  },
  {
   "cell_type": "code",
   "execution_count": 29,
   "metadata": {
    "ExecuteTime": {
     "end_time": "2021-09-22T12:26:41.953034Z",
     "start_time": "2021-09-22T12:26:30.420869Z"
    }
   },
   "outputs": [
    {
     "name": "stdout",
     "output_type": "stream",
     "text": [
      "-------------------------------------------------------\n",
      "| Column choices  | Syndrome        | Probability     |\n",
      "-------------------------------------------------------\n",
      "| 01110           | 001             | 0.0971          |\n",
      "-------------------------------------------------------\n",
      "| 00111           | 011             | 0.1013          |\n",
      "-------------------------------------------------------\n",
      "| 01011           | 101             | 0.105           |\n",
      "-------------------------------------------------------\n",
      "| 10011           | 101             | 0.0988          |\n",
      "-------------------------------------------------------\n",
      "| 01101           | 110             | 0.102           |\n",
      "-------------------------------------------------------\n",
      "| 10101           | 110             | 0.0971          |\n",
      "-------------------------------------------------------\n",
      "| 11001           | 110             | 0.1026          |\n",
      "-------------------------------------------------------\n",
      "| 10110           | 111             | 0.1006          |\n",
      "-------------------------------------------------------\n",
      "| 11010           | 111             | 0.0956          |\n",
      "-------------------------------------------------------\n",
      "| 11100           | 111             | 0.0999          |\n",
      "-------------------------------------------------------\n",
      "\n",
      "\n",
      "Circuit works correct\n"
     ]
    }
   ],
   "source": [
    "test.check_isd(solutions=test_lb.solutions)"
   ]
  },
  {
   "cell_type": "code",
   "execution_count": 31,
   "metadata": {
    "ExecuteTime": {
     "end_time": "2021-09-22T12:27:12.387482Z",
     "start_time": "2021-09-22T12:27:12.384509Z"
    }
   },
   "outputs": [],
   "source": [
    "target = 3\n",
    "p = 1"
   ]
  },
  {
   "cell_type": "code",
   "execution_count": 32,
   "metadata": {
    "ExecuteTime": {
     "end_time": "2021-09-22T12:27:12.926552Z",
     "start_time": "2021-09-22T12:27:12.901560Z"
    }
   },
   "outputs": [],
   "source": [
    "oracle = test.lb_oracle(target, p)\n",
    "superposition = test.superposition_circuit()\n",
    "sup_size = int(binomial(n, r))"
   ]
  },
  {
   "cell_type": "code",
   "execution_count": 33,
   "metadata": {
    "ExecuteTime": {
     "end_time": "2021-09-22T12:27:13.374914Z",
     "start_time": "2021-09-22T12:27:13.371982Z"
    }
   },
   "outputs": [],
   "source": [
    "check = test.check_solution\n",
    "check_args = (test_lb.H, test_lb.s, target, p)"
   ]
  },
  {
   "cell_type": "code",
   "execution_count": 34,
   "metadata": {
    "ExecuteTime": {
     "end_time": "2021-09-22T12:27:14.014486Z",
     "start_time": "2021-09-22T12:27:14.011725Z"
    }
   },
   "outputs": [],
   "source": [
    "isd_grover = Grover(oracle, superposition_circuit=superposition, superposition_qubits=n,\n",
    "                    superposition_size=sup_size, check=check, check_args=check_args, iterative=True)"
   ]
  },
  {
   "cell_type": "code",
   "execution_count": 35,
   "metadata": {
    "ExecuteTime": {
     "end_time": "2021-09-22T12:28:08.937575Z",
     "start_time": "2021-09-22T12:27:15.427204Z"
    }
   },
   "outputs": [
    {
     "name": "stdout",
     "output_type": "stream",
     "text": [
      "Correct column choice found: [1, 1, 0, 1, 0]\n",
      "Solution found: 01011 in 1 Grover iterations.\n",
      "\n"
     ]
    }
   ],
   "source": [
    "solution, iterations = isd_grover()\n",
    "print(f'Solution found: {solution} in {iterations} Grover iterations.\\n')"
   ]
  },
  {
   "cell_type": "code",
   "execution_count": 42,
   "metadata": {
    "ExecuteTime": {
     "end_time": "2021-09-22T12:29:25.408710Z",
     "start_time": "2021-09-22T12:29:25.402972Z"
    }
   },
   "outputs": [
    {
     "name": "stdout",
     "output_type": "stream",
     "text": [
      "Correct column choice found: [0, 1, 1, 0, 1]\n"
     ]
    },
    {
     "data": {
      "text/plain": [
       "True"
      ]
     },
     "execution_count": 42,
     "metadata": {},
     "output_type": "execute_result"
    }
   ],
   "source": [
    "test.check_solution('11001', test_lb.H, test_lb.s, target, lee_brickell=p)"
   ]
  },
  {
   "cell_type": "code",
   "execution_count": 41,
   "metadata": {
    "ExecuteTime": {
     "end_time": "2021-09-22T12:29:10.851743Z",
     "start_time": "2021-09-22T12:29:10.846058Z"
    }
   },
   "outputs": [
    {
     "name": "stdout",
     "output_type": "stream",
     "text": [
      "Correct column choice found: [1, 1, 0, 1, 0]\n"
     ]
    },
    {
     "data": {
      "text/plain": [
       "True"
      ]
     },
     "execution_count": 41,
     "metadata": {},
     "output_type": "execute_result"
    }
   ],
   "source": [
    "test.check_solution('01011', test_lb.H, test_lb.s, target, lee_brickell=p)"
   ]
  },
  {
   "cell_type": "code",
   "execution_count": 38,
   "metadata": {
    "ExecuteTime": {
     "end_time": "2021-09-22T12:28:09.036740Z",
     "start_time": "2021-09-22T12:28:09.032754Z"
    }
   },
   "outputs": [
    {
     "data": {
      "text/plain": [
       "False"
      ]
     },
     "execution_count": 38,
     "metadata": {},
     "output_type": "execute_result"
    }
   ],
   "source": [
    "test.check_solution('00111', test_lb.H, test_lb.s, target, lee_brickell=p)"
   ]
  },
  {
   "cell_type": "code",
   "execution_count": null,
   "metadata": {},
   "outputs": [],
   "source": []
  }
 ],
 "metadata": {
  "kernelspec": {
   "display_name": "Python 3",
   "language": "python",
   "name": "python3"
  },
  "language_info": {
   "codemirror_mode": {
    "name": "ipython",
    "version": 3
   },
   "file_extension": ".py",
   "mimetype": "text/x-python",
   "name": "python",
   "nbconvert_exporter": "python",
   "pygments_lexer": "ipython3",
   "version": "3.7.6"
  },
  "toc": {
   "base_numbering": 1,
   "nav_menu": {},
   "number_sections": true,
   "sideBar": true,
   "skip_h1_title": false,
   "title_cell": "Table of Contents",
   "title_sidebar": "Contents",
   "toc_cell": false,
   "toc_position": {},
   "toc_section_display": true,
   "toc_window_display": false
  },
  "varInspector": {
   "cols": {
    "lenName": 16,
    "lenType": 16,
    "lenVar": 40
   },
   "kernels_config": {
    "python": {
     "delete_cmd_postfix": "",
     "delete_cmd_prefix": "del ",
     "library": "var_list.py",
     "varRefreshCmd": "print(var_dic_list())"
    },
    "r": {
     "delete_cmd_postfix": ") ",
     "delete_cmd_prefix": "rm(",
     "library": "var_list.r",
     "varRefreshCmd": "cat(var_dic_list()) "
    }
   },
   "types_to_exclude": [
    "module",
    "function",
    "builtin_function_or_method",
    "instance",
    "_Feature"
   ],
   "window_display": false
  }
 },
 "nbformat": 4,
 "nbformat_minor": 4
}
