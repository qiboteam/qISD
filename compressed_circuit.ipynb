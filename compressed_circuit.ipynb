{
 "cells": [
  {
   "cell_type": "code",
   "execution_count": 40,
   "metadata": {},
   "outputs": [],
   "source": [
    "from scipy.special import binom as binomial\n",
    "#compute probabilities of for given branch in the binary tree\n",
    "def split_weights(n,k):\n",
    "    v0=binomial(n-1,k)\n",
    "    v1=binomial(n-1,k-1)\n",
    "    return v0/(v0+v1),v1/(v0+v1)\n",
    "\n",
    "#compute all probabilities for the binary tree\n",
    "def circuit_layout(n,k):\n",
    "    L=[]\n",
    "    for i in range(n):\n",
    "        for j in range(min(i,k-1),-1,-1):\n",
    "            if n-i >= k-j:\n",
    "                L.append([n-i,k-j,split_weights(n-i,k-j)])\n",
    "    return L"
   ]
  },
  {
   "cell_type": "markdown",
   "metadata": {},
   "source": [
    "# Define all the Helper Functions\n",
    "(Everything as before)"
   ]
  },
  {
   "cell_type": "code",
   "execution_count": 41,
   "metadata": {},
   "outputs": [],
   "source": [
    "def set_ancillas_to_num(c,ancillas,num):\n",
    "    ind=0\n",
    "    for i in reversed(bin(num)[2:]):\n",
    "        if int(i)==1:\n",
    "            c.add(gates.X(ancillas[ind]))\n",
    "        ind+=1\n",
    "    "
   ]
  },
  {
   "cell_type": "code",
   "execution_count": 42,
   "metadata": {},
   "outputs": [],
   "source": [
    "def add_negates_for_check(c,ancillas,num):\n",
    "    ind=0\n",
    "    for i in reversed(bin(num)[2:]):\n",
    "        if int(i)==0:\n",
    "            c.add(gates.X(ancillas[ind]))\n",
    "        ind+=1\n",
    "    for i in range(len(bin(num)[2:]),len(ancillas)):\n",
    "        c.add(gates.X(ancillas[i]))\n",
    "    "
   ]
  },
  {
   "cell_type": "code",
   "execution_count": 43,
   "metadata": {},
   "outputs": [],
   "source": [
    "def controlls_for_check_num(ancillas,num):\n",
    "    l=[]\n",
    "    c=0\n",
    "    for i in reversed(bin(num)[2:]):\n",
    "        if int(i)==1:\n",
    "            l.append(ancillas[c])\n",
    "        c+=1\n",
    "    return l"
   ]
  },
  {
   "cell_type": "code",
   "execution_count": 44,
   "metadata": {},
   "outputs": [],
   "source": [
    "def sub_one(c,ancillas,controlls):\n",
    "    a=ancillas\n",
    "    c.add(gates.X(a[0]).controlled_by(*controlls))\n",
    "    for i in range(1,len(a)):\n",
    "        controlls.append(a[i-1])\n",
    "        c.add(gates.X(a[i]).controlled_by(*controlls))\n",
    "        "
   ]
  },
  {
   "cell_type": "code",
   "execution_count": 45,
   "metadata": {},
   "outputs": [],
   "source": [
    "def add_one(c,ancillas,controlls):\n",
    "    a=ancillas\n",
    "    for i in range(len(a)-1):\n",
    "        controlls.append(a[i])\n",
    "\n",
    "    #c.add(gates.X(a[0]).controlled_by(*controlls))\n",
    "    for i in reversed(range(0,len(a))):\n",
    "        c.add(gates.X(a[i]).controlled_by(*controlls))\n",
    "        controlls.pop()"
   ]
  },
  {
   "cell_type": "code",
   "execution_count": 46,
   "metadata": {},
   "outputs": [],
   "source": [
    "def row_add(c,col,row_res,row_addend,H,n,controlls):\n",
    "    for i in range(col+1,n+1):\n",
    "        g=gates.X(H[row_res,i])\n",
    "        controlls.append(H[row_addend,i])\n",
    "        c.add(g.controlled_by(*controlls))\n",
    "        controlls.pop()\n",
    "        \n",
    "    "
   ]
  },
  {
   "cell_type": "code",
   "execution_count": 47,
   "metadata": {},
   "outputs": [],
   "source": [
    "def add_pivot(c,identity,parity,H,n,r,controlls):\n",
    "    i=identity\n",
    "    p=parity\n",
    "    c.add(gates.X(H[i,p]).controlled_by(*controlls))\n",
    "    #loop for differnt rows in which the pivot is searched\n",
    "    for l in range(r-(i+1)):\n",
    "        #current row in which pivot is searched\n",
    "        pr=i+l+1\n",
    "        #need to add controls on permutation\n",
    "        row_add(c,p,i,pr,H,n,[H[i,p]]+[H[i+1+o,p] for o in range(l+1)]+controlls)\n",
    "        #add not for \"if all preious were 0\"-statement\n",
    "        if l!=r-i-2:\n",
    "            c.add(gates.X(H[pr,p]).controlled_by(*controlls))\n",
    "    #revert all nots\n",
    "    for l in range(r-i-1):\n",
    "        c.add(gates.X(H[i+l,p]).controlled_by(*controlls))\n",
    "    "
   ]
  },
  {
   "cell_type": "code",
   "execution_count": 48,
   "metadata": {},
   "outputs": [],
   "source": [
    "def lower_col_elimination(c,identity,parity,H,n,r,controlls):\n",
    "    i=identity\n",
    "    p=parity\n",
    "    #for each element below the current diagonal\n",
    "    for l in range(r-i-1):\n",
    "        #add row if needed to eliminate ones in column p\n",
    "        row_add(c,p,i+l+1,i,H,n,[H[i+l+1,p]]+controlls)"
   ]
  },
  {
   "cell_type": "code",
   "execution_count": 49,
   "metadata": {},
   "outputs": [],
   "source": [
    "def upper_col_elimination(c,identity,parity,H,n,r,controlls):\n",
    "    i=identity\n",
    "    p=parity\n",
    "    #for each row above the current diagonal entry (identiy)\n",
    "    for l in range(i):\n",
    "        #eliminate ones by adding row[i] to that row\n",
    "        c.add(gates.X(H[l,n]).controlled_by(*([H[l,p],H[i,n]]+controlls)))"
   ]
  },
  {
   "cell_type": "markdown",
   "metadata": {},
   "source": [
    "# Create Qibo circuit with less qubits\n",
    "(only log(r) ancillas and (n-r)*r for the matrix"
   ]
  },
  {
   "cell_type": "code",
   "execution_count": 60,
   "metadata": {},
   "outputs": [],
   "source": [
    "from math import log2,ceil\n",
    "from qibo.models import Circuit\n",
    "from qibo import gates\n",
    "import numpy as np\n",
    "\n",
    "r=4\n",
    "n=6"
   ]
  },
  {
   "cell_type": "code",
   "execution_count": 61,
   "metadata": {},
   "outputs": [],
   "source": [
    "\n",
    "def create_qibo_circuit(n,r):\n",
    "    n_anc=int(ceil(log2(r+1)))\n",
    "    c=Circuit(int(n+n_anc+(n-r+1)*r))\n",
    "    L=circuit_layout(n,r)\n",
    "\n",
    "    anc=[i for i in range(n,n+n_anc)]\n",
    "    set_ancillas_to_num(c,anc,r)\n",
    "    tmp=n\n",
    "\n",
    "    for i in L:\n",
    "        if tmp!=i[0]:\n",
    "            sub_one(c,anc,[n-tmp])\n",
    "            tmp=i[0]\n",
    "        \n",
    "        if(i[2]==(0,1)):\n",
    "            add_negates_for_check(c,anc,i[1])\n",
    "            c.add(gates.X(n-i[0]).controlled_by(*anc))\n",
    "            add_negates_for_check(c,anc,i[1])    \n",
    "        else:\n",
    "            if i[0]!=n:\n",
    "                add_negates_for_check(c,anc,i[1])\n",
    "                c.add(gates.RY(n-i[0],float(2*np.arccos(np.sqrt(i[2][0])))).controlled_by(*anc))\n",
    "                add_negates_for_check(c,anc,i[1])\n",
    "            else:\n",
    "                c.add(gates.RY(0,float(2*np.arccos(np.sqrt(i[2][0])))))\n",
    "    sub_one(c,anc,[n-1])\n",
    "    return c"
   ]
  },
  {
   "cell_type": "code",
   "execution_count": 62,
   "metadata": {},
   "outputs": [
    {
     "name": "stdout",
     "output_type": "stream",
     "text": [
      "q0 : ─RY─o─o─o────────────────────────────────────────────────────────────────────────────────────────────────────M─\n",
      "q1 : ────|─|─|───RY───RY───o─o─o──────────────────────────────────────────────────────────────────────────────────M─\n",
      "q2 : ────|─|─|───|────|────|─|─|───RY─────RY───X───o─o─o──────────────────────────────────────────────────────────M─\n",
      "q3 : ────|─|─|───|────|────|─|─|───|──────|────|───|─|─|───RY─────RY─────X───o─o─o────────────────────────────────M─\n",
      "q4 : ────|─|─|───|────|────|─|─|───|──────|────|───|─|─|───|──────|──────|───|─|─|───RY─────X───o─o─o─────────────M─\n",
      "q5 : ────|─|─|───|────|────|─|─|───|──────|────|───|─|─|───|──────|──────|───|─|─|───|──────|───|─|─|───X───o─o─o─M─\n",
      "q6 : ────X─o─o───o──X─o──X─X─o─o─X─o──X───o──X─o─X─X─o─o───o──X───o──X───o───X─o─o───o──X───o─X─X─o─o───o───X─o─o───\n",
      "q7 : ──────X─o───o──X─o──X───X─o───o──────o──X─o─X───X─o─X─o──X───o──────o─────X─o─X─o──X───o─────X─o─X─o─X───X─o───\n",
      "q8 : ─X──────X─X─o──X─o────────X─X─o──X─X─o──X─o───────X─X─o──X─X─o──X─X─o─X─────X─X─o──X─X─o─X─────X─X─o─X─────X───\n",
      "q9 : ───────────────────────────────────────────────────────────────────────────────────────────────────────────────\n",
      "q10: ───────────────────────────────────────────────────────────────────────────────────────────────────────────────\n",
      "q11: ───────────────────────────────────────────────────────────────────────────────────────────────────────────────\n",
      "q12: ───────────────────────────────────────────────────────────────────────────────────────────────────────────────\n",
      "q13: ───────────────────────────────────────────────────────────────────────────────────────────────────────────────\n",
      "q14: ───────────────────────────────────────────────────────────────────────────────────────────────────────────────\n",
      "q15: ───────────────────────────────────────────────────────────────────────────────────────────────────────────────\n",
      "q16: ───────────────────────────────────────────────────────────────────────────────────────────────────────────────\n",
      "q17: ───────────────────────────────────────────────────────────────────────────────────────────────────────────────\n",
      "q18: ───────────────────────────────────────────────────────────────────────────────────────────────────────────────\n",
      "q19: ───────────────────────────────────────────────────────────────────────────────────────────────────────────────\n",
      "q20: ───────────────────────────────────────────────────────────────────────────────────────────────────────────────\n",
      "001111 59\n",
      "010111 73\n",
      "011011 67\n",
      "011101 62\n",
      "011110 49\n",
      "100111 84\n",
      "101011 65\n",
      "101101 74\n",
      "101110 78\n",
      "110011 63\n",
      "110101 60\n",
      "110110 71\n",
      "111001 71\n",
      "111010 56\n",
      "111100 68\n"
     ]
    }
   ],
   "source": [
    "c=create_qibo_circuit(n,r)\n",
    "c.add(gates.M(*[i for i in range(n)]))\n",
    "measure=c(nshots=1000)\n",
    "\n",
    "print(c.draw())\n",
    "for i in measure.frequencies():\n",
    "    print(i,measure.frequencies()[i])\n"
   ]
  },
  {
   "cell_type": "markdown",
   "metadata": {},
   "source": [
    "### Providing custom Gaussian elimination for GF2\n",
    "(needed for preparing the matrix, but I would also suggest using this function instead of np.linalg.solve() as the later one caused some problems for certain parameters)"
   ]
  },
  {
   "cell_type": "code",
   "execution_count": 63,
   "metadata": {},
   "outputs": [],
   "source": [
    "def solve_gf2(A,t):\n",
    "    r=A.shape[0]\n",
    "    b=np.copy(t)\n",
    "    for i in range(r):    \n",
    "        for j in range(i+1,r):\n",
    "            if A[j,i]==1:\n",
    "                if A[i,i]!=1:\n",
    "                    A[i]^=A[j]\n",
    "                    b[i]^=b[j]\n",
    "                A[j]^=A[i]\n",
    "                b[j]^=b[i]\n",
    "        if A[i,i]!=1:\n",
    "            raise ValueError(\"not invertible\")\n",
    "    for i in reversed(range(r)):\n",
    "        for j in range(i):\n",
    "            if A[j,i]==1:\n",
    "                A[j]^=A[i]\n",
    "                b[j]^=b[i]\n",
    "    return b\n",
    "\n"
   ]
  },
  {
   "cell_type": "markdown",
   "metadata": {},
   "source": [
    "# Instance Generation\n",
    "(mostly as before, but only accepting non-zero vectors b and matrices where the first k columns form and invertible matrix and using custom gaussian instead of np.linalg.solve)"
   ]
  },
  {
   "cell_type": "code",
   "execution_count": 72,
   "metadata": {},
   "outputs": [
    {
     "name": "stdout",
     "output_type": "stream",
     "text": [
      "solve all possible linear systems, where\n",
      "\n",
      "H =\n",
      "[[0 1 0 0 1 0]\n",
      " [1 1 0 0 0 0]\n",
      " [1 0 1 1 0 1]\n",
      " [1 1 0 1 1 1]]\n",
      "\n",
      "b =\n",
      "[0 1 0 0]\n",
      "\n",
      "solutions =\n",
      "['1001111100', '0101111010', '1001111001', '1010101110', '1001101011', '1001011110', '1010011011']\n"
     ]
    }
   ],
   "source": [
    "import itertools\n",
    "from random import shuffle\n",
    "n_range=[i for i in range(n)]\n",
    "solutions=[]\n",
    "weight=2\n",
    "\n",
    "while(len(solutions)<4):\n",
    "    solutions=[]\n",
    "    A=np.random.randint(2, size=(r, n))\n",
    "    shuffle(n_range)\n",
    "\n",
    "    b=np.copy((A.transpose()[n_range[0]]))\n",
    "    \n",
    "    for i in range(1,weight):\n",
    "        b^=A.transpose()[n_range[i]]\n",
    "    if all(b[i]==0 for i in range(r)):\n",
    "        continue\n",
    "    comb=itertools.combinations([i for i in range(n)],r)\n",
    "    Aprime=np.arange(r*r).reshape(r,r)\n",
    "    first=1\n",
    "    for i in comb:\n",
    "        ind=0\n",
    "        for j in i:\n",
    "            for l in range(r):\n",
    "                Aprime[l,ind]=A[l,j]\n",
    "            ind+=1\n",
    "        mask=0\n",
    "        for j in i:\n",
    "            mask^=(1<<(n-j-1))\n",
    "        v=bin(mask)[2:]\n",
    "        while (len(v)<n):\n",
    "            v=\"0\"+v\n",
    "        try:\n",
    "            sol=solve_gf2(Aprime,b)#np.linalg.solve(Aprime,b)%2\n",
    "            for it in reversed(sol):\n",
    "                if it==0:\n",
    "                    v=\"0\"+v\n",
    "                else:\n",
    "                    v=\"1\"+v\n",
    "            solutions.append(v)\n",
    "        except:\n",
    "            pass\n",
    "        if len(solutions)==0 and first==1:\n",
    "            break\n",
    "        frist=0\n",
    "\n",
    "print(\"solve all possible linear systems, where\" )\n",
    "print(\"\")\n",
    "print(\"H =\")\n",
    "print(A)\n",
    "print(\"\")\n",
    "print(\"b =\")\n",
    "print(b)\n",
    "print(\"\")\n",
    "print(\"solutions =\")\n",
    "print(solutions)\n"
   ]
  },
  {
   "cell_type": "markdown",
   "metadata": {},
   "source": [
    "### Prepare the matrix \n",
    "(precompute Gaussian on the first r columns)"
   ]
  },
  {
   "cell_type": "code",
   "execution_count": 73,
   "metadata": {},
   "outputs": [
    {
     "data": {
      "text/plain": [
       "(array([[1, 0, 0, 0, 1, 0],\n",
       "        [0, 1, 0, 0, 1, 0],\n",
       "        [0, 0, 1, 0, 0, 0],\n",
       "        [0, 0, 0, 1, 1, 1]]),\n",
       " array([1, 0, 0, 1]))"
      ]
     },
     "execution_count": 73,
     "metadata": {},
     "output_type": "execute_result"
    }
   ],
   "source": [
    "b=solve_gf2(A,b)\n",
    "A,b"
   ]
  },
  {
   "cell_type": "markdown",
   "metadata": {},
   "source": [
    "### Swap row function \n",
    "(needed to handle the first r columns)"
   ]
  },
  {
   "cell_type": "code",
   "execution_count": 74,
   "metadata": {},
   "outputs": [],
   "source": [
    "def swap_rows(c,i,j,H,n,r,controlls):\n",
    "    for col in range(n-r+1):\n",
    "        c.add(gates.SWAP(H[i,col],H[j,col]).controlled_by(*controlls))"
   ]
  },
  {
   "cell_type": "markdown",
   "metadata": {},
   "source": [
    "### Adjust qubit access matrix to smaller setting\n",
    "(ancilla register smaller and smaller input matrix)"
   ]
  },
  {
   "cell_type": "code",
   "execution_count": 75,
   "metadata": {
    "tags": []
   },
   "outputs": [],
   "source": [
    "\n",
    "perm=[i for i in range(n)]\n",
    "n_anc=int(ceil(log2(r+1)))\n",
    "ancillas=[i for i in range(n,n+n_anc)]\n",
    "\n",
    "H=np.arange((n-r+1)*r).reshape(r,n-r+1)\n",
    "c=n+n_anc\n",
    "\n",
    "for j in range(n-r+1):\n",
    "    for i in range(r):\n",
    "        H[i,j]=c\n",
    "        c+=1\n"
   ]
  },
  {
   "cell_type": "markdown",
   "metadata": {},
   "source": [
    "### Create circuit"
   ]
  },
  {
   "cell_type": "code",
   "execution_count": 76,
   "metadata": {},
   "outputs": [],
   "source": [
    "c=create_qibo_circuit(n,r)\n",
    "\n",
    "#initialize matrix in quantum register\n",
    "\n",
    "for i in range(r):\n",
    "### Only n-r columns now ###\n",
    "    for j in range(n-r):\n",
    "        ### last n-r columns of A need to be selected, so we have an offset of r now ###\n",
    "        if A[i, j+r] == 1:\n",
    "            c.add(gates.X(H[i, j]))\n",
    "        ################\n",
    "for i in range(r):\n",
    "    if b[i] == 1:\n",
    "        c.add(gates.X(H[i, n-r]))\n",
    "        \n",
    "#add pivots and create upper triangular matrix\n",
    "for j in range(r-1):\n",
    "    set_ancillas_to_num(c,ancillas,r)\n",
    "    for i in range(n):\n",
    "        if j<i:\n",
    "            add_negates_for_check(c,ancillas,r-j)\n",
    "            ### new ###\n",
    "            if i<r:\n",
    "                swap_rows(c,i,j,H,n,r,ancillas+[perm[i]])\n",
    "            #########\n",
    "            ### here the input to add_pivot and lower_col_elimination is now i-r and n-r instead of i and n respectively ###\n",
    "            else:\n",
    "                add_pivot(c,j,i-r,H,n-r,r,ancillas+[perm[i]])\n",
    "                lower_col_elimination(c,j,i-r,H,n-r,r,ancillas+[perm[i]])\n",
    "            #############\n",
    "            add_negates_for_check(c,ancillas,r-j)\n",
    "        sub_one(c,ancillas,[perm[i]]) \n",
    "\n",
    "#perform backsubstitution\n",
    "for j in range(r-1):\n",
    "    set_ancillas_to_num(c,ancillas,r)\n",
    "    for i in reversed(range(n)):\n",
    "        ### i>=r restriction is new and again input to upper_col_elimination is now i-r and n-r instead of i and n ###\n",
    "        if r-j-1<=i and i>=r:\n",
    "            add_negates_for_check(c,ancillas,r-j)\n",
    "            upper_col_elimination(c,r-j-1,i-r,H,n-r,r,ancillas+[perm[i]])\n",
    "            add_negates_for_check(c,ancillas,r-j)\n",
    "        #########################\n",
    "        sub_one(c,ancillas,[perm[i]])\n",
    "\n",
    "### syndrome is now in column n-r of H ###\n",
    "for i in range(r):\n",
    "    add_one(c,ancillas[::-1],[H[i][n-r]])\n",
    "########\n",
    "\n",
    "#add measurements\n",
    "c.add(gates.M(*([H[i,n-r] for i in range(r)]+perm)))\n",
    "\n",
    "\n"
   ]
  },
  {
   "cell_type": "code",
   "execution_count": 77,
   "metadata": {},
   "outputs": [
    {
     "name": "stdout",
     "output_type": "stream",
     "text": [
      "q0 : ─RY─o─o─o──────────────────────────────────────────────────────────────────────────────────────────────────────o─o─o───────────────────────────── ...\n",
      "q1 : ────|─|─|───RY───RY───o─o─o────────────────────────────────────────────────────────────────────────────────────|─|─|───o─o─o───o─o─o───────────── ...\n",
      "q2 : ────|─|─|───|────|────|─|─|───RY─────RY───X───o─o─o────────────────────────────────────────────────────────────|─|─|───|─|─|───|─|─|───o─o─o───o─ ...\n",
      "q3 : ────|─|─|───|────|────|─|─|───|──────|────|───|─|─|───RY─────RY─────X───o─o─o──────────────────────────────────|─|─|───|─|─|───|─|─|───|─|─|───|─ ...\n",
      "q4 : ────|─|─|───|────|────|─|─|───|──────|────|───|─|─|───|──────|──────|───|─|─|───RY─────X───o─o─o───────────────|─|─|───|─|─|───|─|─|───|─|─|───|─ ...\n",
      "q5 : ────|─|─|───|────|────|─|─|───|──────|────|───|─|─|───|──────|──────|───|─|─|───|──────|───|─|─|───X───o─o─o───|─|─|───|─|─|───|─|─|───|─|─|───|─ ...\n",
      "q6 : ────X─o─o───o──X─o──X─X─o─o─X─o──X───o──X─o─X─X─o─o───o──X───o──X───o───X─o─o───o──X───o─X─X─o─o───o───X─o─o───X─o─o─X─o─o─o─X─X─o─o─X─o─o─o─X─X─ ...\n",
      "q7 : ──────X─o───o──X─o──X───X─o───o──────o──X─o─X───X─o─X─o──X───o──────o─────X─o─X─o──X───o─────X─o─X─o─X───X─o─────X─o─X─o─o─o─X───X─o─X─o─o─o─X─── ...\n",
      "q8 : ─X──────X─X─o──X─o────────X─X─o──X─X─o──X─o───────X─X─o──X─X─o──X─X─o─X─────X─X─o──X─X─o─X─────X─X─o─X─────X─X─────X───o─o─o───────X───o─o─o───── ...\n",
      "q9 : ─────────────────────────────────────────────────────────────────────────────────────────────────────────────X─────────x─|─|───────────x─|─|───── ...\n",
      "q10: ─────────────────────────────────────────────────────────────────────────────────────────────────────────────X─────────x─|─|───────────|─|─|───── ...\n",
      "q11: ─────────────────────────────────────────────────────────────────────────────────────────────────────────────────────────|─|───────────x─|─|───── ...\n",
      "q12: ─────────────────────────────────────────────────────────────────────────────────────────────────────────────X───────────|─|─────────────|─|───── ...\n",
      "q13: ─────────────────────────────────────────────────────────────────────────────────────────────────────────────────────────x─|─────────────x─|───── ...\n",
      "q14: ─────────────────────────────────────────────────────────────────────────────────────────────────────────────────────────x─|─────────────|─|───── ...\n",
      "q15: ───────────────────────────────────────────────────────────────────────────────────────────────────────────────────────────|─────────────x─|───── ...\n",
      "q16: ─────────────────────────────────────────────────────────────────────────────────────────────────────────────X─────────────|───────────────|───── ...\n",
      "q17: ─────────────────────────────────────────────────────────────────────────────────────────────────────────────X─────────────x───────────────x───── ...\n",
      "q18: ───────────────────────────────────────────────────────────────────────────────────────────────────────────────────────────x───────────────|───── ...\n",
      "q19: ───────────────────────────────────────────────────────────────────────────────────────────────────────────────────────────────────────────x───── ...\n",
      "q20: ─────────────────────────────────────────────────────────────────────────────────────────────────────────────X─────────────────────────────────── ...\n",
      "\n",
      "... ──────────────────────────────────────────────────────────────────────────────────────────────────────o─o─o─────────────────────────────────────────── ...\n",
      "... ──────────────────────────────────────────────────────────────────────────────────────────────────────|─|─|─o─o─o───────────────────────────────────── ...\n",
      "... o─o───────────────────────────────────────────────────────────────────────────────────────────────────|─|─|─|─|─|───o─o─o───o─o─o───────────────────── ...\n",
      "... |─|───o─o─o───o─o─o───────────────────────────────────────────────────────────────────────────────────|─|─|─|─|─|───|─|─|───|─|─|───o─o─o───o─o─o───── ...\n",
      "... |─|───|─|─|───|─|─|───o─o─o─o─o─o─o─o─o─o─o─o─o─o─o─o─o─o───o─o─o─────────────────────────────────────|─|─|─|─|─|───|─|─|───|─|─|───|─|─|───|─|─|───o─ ...\n",
      "... |─|───|─|─|───|─|─|───|─|─|─|─|─|─|─|─|─|─|─|─|─|─|─|─|─|───|─|─|───o─o─o─o─o─o─o─o─o─o─o─o───o─o─o───|─|─|─|─|─|───|─|─|───|─|─|───|─|─|───|─|─|───|─ ...\n",
      "... o─o─X─o─o─o─X─X─o─o─X─o─o─o─o─o─o─o─o─o─o─o─o─o─o─o─o─o─o─X─X─o─o─X─o─o─o─o─o─o─o─o─o─o─o─o─X─X─o─o───X─o─o─X─o─o───o─o─o───X─o─o───o─o─o───X─o─o───o─ ...\n",
      "... X─o─X─o─o─o─X───X─o─X─o─o─o─o─o─o─o─o─o─o─o─o─o─o─o─o─o─o─X───X─o─X─o─o─o─o─o─o─o─o─o─o─o─o─X───X─o─────X─o───X─o───o─o─o─────X─o───o─o─o─────X─o───o─ ...\n",
      "... ──X───o─o─o───────X───o─o─o─o─o─o─o─o─o─o─o─o─o─o─o─o─o─o───────X───o─o─o─o─o─o─o─o─o─o─o─o───────X─X─────X─────X─X─o─o─o─X─────X─X─o─o─o─X─────X─X─o─ ...\n",
      "... ──────x─|─|───────────X─o─o─|─o─o─|─o─o─X─|─|─|─|─|─|─|─|───────────|─|─|─|─|─|─|─|─|─|─|─|─────────────────────────|─|─|───────────|─|─|───────────|─ ...\n",
      "... ──────|─|─|─────────────o─o─X─o─o─|─o─o───X─|─o─o─|─|─|─|───────────|─|─|─|─|─|─|─|─|─|─|─|─────────────────────────x─|─|───────────x─|─|───────────X─ ...\n",
      "... ──────|─|─|─────────────|─|───o─o─X─o─o─────X─|─|─o─o─|─|───────────|─|─|─|─|─|─|─|─|─|─|─|─────────────────────────x─|─|───────────|─|─|───────────── ...\n",
      "... ──────x─|─|─────────────|─|───|─|───o─o───────|─|─|─|─o─o───────────|─|─|─|─|─|─|─|─|─|─|─|───────────────────────────|─|───────────x─|─|───────────── ...\n",
      "... ────────x─|─────────────X─|───X─|───X─|───────o─|─o─|─o─|───────────X─o─|─o─|─o─X─|─|─|─|─|───────────────────────────|─|─────────────|─|───────────── ...\n",
      "... ────────|─|─────────────o─|───|─|───|─|───────X─|─|─|─|─|─────────────o─X─o─|─o───X─|─o─|─|───────────────────────────x─|─────────────x─|───────────── ...\n",
      "... ────────|─|───────────────|───o─|───|─|─────────|─X─|─|─|─────────────|───o─X─o─────X─|─o─|───────────────────────────x─|─────────────|─|───────────── ...\n",
      "... ────────x─|───────────────|─────|───o─|─────────|───|─X─|─────────────|───|───o───────|─|─o─────────────────────────────|─────────────x─|───────────── ...\n",
      "... ──────────x───────────────X─────X─────X─────────o───o───o─────────────X───X───X───────o─o─o─────────────────────────────|───────────────|───────────── ...\n",
      "... ──────────|───────────────o─────|─────|─────────X───|───|─────────────o───|───|───────X─|─|─────────────────────────────x───────────────x───────────── ...\n",
      "... ──────────|─────────────────────o─────|─────────────X───|─────────────────o───|─────────X─|─────────────────────────────x───────────────|───────────── ...\n",
      "... ──────────x───────────────────────────o─────────────────X─────────────────────o───────────X─────────────────────────────────────────────x───────────── ...\n",
      "\n",
      "... ──────────────────────────────────────────────────────────o─o─o─────────────────────────────────────────────────────────────────────────────────────── ...\n",
      "... ──────────────────────────────────────────────────────────|─|─|─o─o─o───────────────────────────────────────────────────────────────────────────────── ...\n",
      "... ──────────────────────────────────────────────────────────|─|─|─|─|─|─o─o─o─────────────────────────────────────────────────────────────────────────── ...\n",
      "... ──────────────────────────────────────────────────────────|─|─|─|─|─|─|─|─|───o─o─o───o─o─o─────────────────────────────────────────────────────────── ...\n",
      "... o─o─o─o─o─o─o─o─o─o─o───o─o─o─────────────────────────────|─|─|─|─|─|─|─|─|───|─|─|───|─|─|───o─o─o─o─o─o───o─o─o───────────────────────────────────── ...\n",
      "... |─|─|─|─|─|─|─|─|─|─|───|─|─|───o─o─o─o─o─o─o─o───o─o─o───|─|─|─|─|─|─|─|─|───|─|─|───|─|─|───|─|─|─|─|─|───|─|─|───o─o─o─o───o─o─o───o─o─o───o─o─o─── ...\n",
      "... o─o─o─o─o─o─o─o─o─o─o───X─o─o───o─o─o─o─o─o─o─o───X─o─o───X─o─o─X─o─o─X─o─o─X─o─o─o─X─X─o─o─X─o─o─o─o─o─o─X─X─o─o─X─o─o─o─o─X─X─o─o─X─o─o─o─X─X─o─o─X─ ...\n",
      "... o─o─o─o─o─o─o─o─o─o─o─────X─o───o─o─o─o─o─o─o─o─────X─o─────X─o───X─o───X─o───o─o─o─────X─o───o─o─o─o─o─o─────X─o───o─o─o─o─────X─o─X─o─o─o─X───X─o─X─ ...\n",
      "... o─o─o─o─o─o─o─o─o─o─o─X─────X─X─o─o─o─o─o─o─o─o─X─────X─X─────X─────X─────X─X─o─o─o─X─────X─X─o─o─o─o─o─o─X─────X─X─o─o─o─o─X─────X─X─o─o─o───────X─── ...\n",
      "... |─|─|─|─|─|─|─|─|─|─|───────────|─|─|─|─|─|─|─|───────────────────────────────|─|─|───────────|─|─|─|─|─|───────────|─|─|─|───────────|─|─|─────────── ...\n",
      "... o─o─|─o─o─X─|─|─|─|─|───────────|─|─|─|─|─|─|─|───────────────────────────────|─|─|───────────|─|─|─|─|─|───────────|─|─|─|───────────|─|─|─────────── ...\n",
      "... o─o─X─o─o───X─o─o─|─|───────────|─|─|─|─|─|─|─|───────────────────────────────x─|─|───────────X─o─o─X─|─|───────────|─|─|─|───────────|─|─|─────────── ...\n",
      "... |─|───o─o─────|─|─o─o───────────|─|─|─|─|─|─|─|───────────────────────────────x─|─|─────────────o─o───o─o───────────|─|─|─|───────────|─|─|─────────── ...\n",
      "... |─|───|─|─────|─|─|─|───────────|─|─|─|─|─|─|─|─────────────────────────────────|─|─────────────|─|───|─|───────────|─|─|─|───────────o─|─|─────────── ...\n",
      "... X─|───X─|─────o─|─o─|───────────X─o─|─o─X─|─|─|─────────────────────────────────|─|─────────────|─|───|─|───────────|─|─|─|───────────|─o─|─────────── ...\n",
      "... o─|───|─|─────X─|─|─|─────────────o─X─o───X─o─|─────────────────────────────────x─|─────────────X─|───o─|───────────X─o─X─|───────────|─|─o─────────── ...\n",
      "... ──|───o─|───────|─X─|─────────────|───o─────|─o─────────────────────────────────x─|─────────────o─|───X─|─────────────o───o───────────|─|─|─────────── ...\n",
      "... ──|─────|───────|───|─────────────|───|─────|─|───────────────────────────────────|───────────────|─────|─────────────|───|───────────X─|─|─────────── ...\n",
      "... ──X─────X───────o───o─────────────X───X─────o─o───────────────────────────────────|───────────────|─────|─────────────|───|───────────|─X─|─────────── ...\n",
      "... ──o─────|───────X───|─────────────o───|─────X─|───────────────────────────────────x───────────────X─────o─────────────X───o───────────|─|─X─────────── ...\n",
      "... ────────o───────────X─────────────────o───────X───────────────────────────────────x───────────────o─────X─────────────o───X───────────o─o─o─────────── ...\n",
      "\n",
      "... ────────────────────────────────o─o─o─────────────────────────────────────────────────o─o─o─────────────────────────────────────────────o─o─o───────── ...\n",
      "... ──────────────────────────o─o─o─|─|─|───────────────────────────────────────────o─o─o─|─|─|───────────────────────────────────────o─o─o─|─|─|───────── ...\n",
      "... ────────────────────o─o─o─|─|─|─|─|─|─────────────────────────────────────o─o─o─|─|─|─|─|─|─────────────────────────────────o─o─o─|─|─|─|─|─|───────── ...\n",
      "... ──────────────o─o─o─|─|─|─|─|─|─|─|─|───────────────────────────────o─o─o─|─|─|─|─|─|─|─|─|───────────────────────────o─o─o─|─|─|─|─|─|─|─|─|───────── ...\n",
      "... o─o─o───o─o─o─|─|─|─|─|─|─|─|─|─|─|─|───────────────────o─o───o─o─o─|─|─|─|─|─|─|─|─|─|─|─|─────────────────o───o─o─o─|─|─|─|─|─|─|─|─|─|─|─|───────── ...\n",
      "... |─|─|───|─|─|─|─|─|─|─|─|─|─|─|─|─|─|─────o─o───o─o─o───|─|───|─|─|─|─|─|─|─|─|─|─|─|─|─|─|─────o───o─o─o───|───|─|─|─|─|─|─|─|─|─|─|─|─|─|─|───────── ...\n",
      "... o─o─o─X─X─o─o─X─o─o─X─o─o─X─o─o─X─o─o─────o─o───X─o─o───o─o───X─o─o─X─o─o─X─o─o─X─o─o─X─o─o─X───o─X─X─o─o─X─o─X─X─o─o─X─o─o─X─o─o─X─o─o─X─o─o─X─────X─ ...\n",
      "... o─o─o─X───X─o───X─o───X─o───X─o───X─o─────o─o─────X─o───o─o─────X─o───X─o───X─o───X─o───X─o─────o─────X─o───o─────X─o───X─o───X─o───X─o───X─o─o─X───o─ ...\n",
      "... o─o─o───────X─────X─────X─────X─────X─X─X─o─o─X─────X─X─o─o─X─────X─────X─────X─────X─────X─X─X─o─X─────X─X─o─X─────X─────X─────X─────X─────X─o─o─X─o─ ...\n",
      "... o─|─|─────────────────────────────────────|─|───────────o─|─────────────────────────────────────|───────────o─────────────────────────────────|─|─|─|─ ...\n",
      "... |─o─|─────────────────────────────────────|─|───────────|─o─────────────────────────────────────|───────────|─────────────────────────────────|─|─|─|─ ...\n",
      "... |─|─o─────────────────────────────────────|─|───────────|─|─────────────────────────────────────|───────────|─────────────────────────────────|─|─|─|─ ...\n",
      "... |─|─|─────────────────────────────────────|─|───────────|─|─────────────────────────────────────|───────────|─────────────────────────────────|─|─|─|─ ...\n",
      "... |─|─|─────────────────────────────────────o─|───────────|─|─────────────────────────────────────o───────────|─────────────────────────────────|─|─|─|─ ...\n",
      "... |─|─|─────────────────────────────────────|─o───────────|─|─────────────────────────────────────|───────────|─────────────────────────────────|─|─|─|─ ...\n",
      "... |─|─|─────────────────────────────────────|─|───────────|─|─────────────────────────────────────|───────────|─────────────────────────────────|─|─|─|─ ...\n",
      "... |─|─|─────────────────────────────────────|─|───────────|─|─────────────────────────────────────|───────────|─────────────────────────────────|─|─|─|─ ...\n",
      "... X─|─|─────────────────────────────────────X─|───────────X─|─────────────────────────────────────X───────────X─────────────────────────────────o─o─o─|─ ...\n",
      "... |─X─|─────────────────────────────────────|─X───────────|─X─────────────────────────────────────o───────────o───────────────────────────────────────o─ ...\n",
      "... |─|─X─────────────────────────────────────o─o───────────o─o─────────────────────────────────────────────────────────────────────────────────────────── ...\n",
      "... o─o─o───────────────────────────────────────────────────────────────────────────────────────────────────────────────────────────────────────────────── ...\n",
      "\n",
      "... ────────────────M─\n",
      "... ────────────────M─\n",
      "... ────────────────M─\n",
      "... ────────────────M─\n",
      "... ────────────────M─\n",
      "... ────────────────M─\n",
      "... ────X─────X───────\n",
      "... X───o─X───o─X─────\n",
      "... o─X─o─o─X─o─o─X───\n",
      "... |─|─|─|─|─|─|─|───\n",
      "... |─|─|─|─|─|─|─|───\n",
      "... |─|─|─|─|─|─|─|───\n",
      "... |─|─|─|─|─|─|─|───\n",
      "... |─|─|─|─|─|─|─|───\n",
      "... |─|─|─|─|─|─|─|───\n",
      "... |─|─|─|─|─|─|─|───\n",
      "... |─|─|─|─|─|─|─|───\n",
      "... |─|─|─|─|─|─|─|─M─\n",
      "... o─o─|─|─|─|─|─|─M─\n",
      "... ────o─o─o─|─|─|─M─\n",
      "... ──────────o─o─o─M─\n"
     ]
    }
   ],
   "source": [
    "print(c.draw(line_wrap=150))"
   ]
  },
  {
   "cell_type": "markdown",
   "metadata": {},
   "source": [
    "### Check if circuit solves all solveable linear systems correctly"
   ]
  },
  {
   "cell_type": "code",
   "execution_count": 78,
   "metadata": {},
   "outputs": [
    {
     "name": "stdout",
     "output_type": "stream",
     "text": [
      "Circuit works correct\n"
     ]
    }
   ],
   "source": [
    "\n",
    "m=c(nshots=10000)\n",
    "m.frequencies().keys()\n",
    "if all(i in m.frequencies().keys() for i in solutions):\n",
    "    print(\"Circuit works correct\")\n",
    "else:\n",
    "    print(\"Circuit works erroneous\")"
   ]
  },
  {
   "cell_type": "code",
   "execution_count": 79,
   "metadata": {},
   "outputs": [
    {
     "data": {
      "text/plain": [
       "(6, 4)"
      ]
     },
     "execution_count": 79,
     "metadata": {},
     "output_type": "execute_result"
    }
   ],
   "source": [
    "n,r"
   ]
  },
  {
   "cell_type": "code",
   "execution_count": null,
   "metadata": {},
   "outputs": [],
   "source": []
  },
  {
   "cell_type": "code",
   "execution_count": null,
   "metadata": {},
   "outputs": [],
   "source": []
  }
 ],
 "metadata": {
  "kernelspec": {
   "display_name": "Python 3",
   "language": "python",
   "name": "python3"
  },
  "language_info": {
   "codemirror_mode": {
    "name": "ipython",
    "version": 3
   },
   "file_extension": ".py",
   "mimetype": "text/x-python",
   "name": "python",
   "nbconvert_exporter": "python",
   "pygments_lexer": "ipython3",
   "version": "3.7.6"
  },
  "toc": {
   "base_numbering": 1,
   "nav_menu": {},
   "number_sections": true,
   "sideBar": true,
   "skip_h1_title": false,
   "title_cell": "Table of Contents",
   "title_sidebar": "Contents",
   "toc_cell": false,
   "toc_position": {},
   "toc_section_display": true,
   "toc_window_display": false
  },
  "varInspector": {
   "cols": {
    "lenName": 16,
    "lenType": 16,
    "lenVar": 40
   },
   "kernels_config": {
    "python": {
     "delete_cmd_postfix": "",
     "delete_cmd_prefix": "del ",
     "library": "var_list.py",
     "varRefreshCmd": "print(var_dic_list())"
    },
    "r": {
     "delete_cmd_postfix": ") ",
     "delete_cmd_prefix": "rm(",
     "library": "var_list.r",
     "varRefreshCmd": "cat(var_dic_list()) "
    }
   },
   "types_to_exclude": [
    "module",
    "function",
    "builtin_function_or_method",
    "instance",
    "_Feature"
   ],
   "window_display": false
  }
 },
 "nbformat": 4,
 "nbformat_minor": 4
}
