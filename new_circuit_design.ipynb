{
 "cells": [
  {
   "cell_type": "code",
   "execution_count": 535,
   "id": "patient-shoot",
   "metadata": {},
   "outputs": [],
   "source": [
    "from scipy.special import binom as binomial\n",
    "#compute probabilities of for given branch in the binary tree\n",
    "def split_weights(n,k):\n",
    "    v0=binomial(n-1,k)\n",
    "    v1=binomial(n-1,k-1)\n",
    "    return v0/(v0+v1),v1/(v0+v1)\n",
    "\n",
    "#compute all probabilities for the binary tree\n",
    "def circuit_layout(n,k):\n",
    "    L=[]\n",
    "    for i in range(n):\n",
    "        for j in range(min(i,k-1),-1,-1):\n",
    "            if n-i >= k-j:\n",
    "                L.append([n-i,k-j,split_weights(n-i,k-j)])\n",
    "    return L"
   ]
  },
  {
   "cell_type": "markdown",
   "id": "drawn-pricing",
   "metadata": {},
   "source": [
    "# Define all the Helper Functions\n",
    "(Everything as before)"
   ]
  },
  {
   "cell_type": "code",
   "execution_count": 536,
   "id": "abstract-alpha",
   "metadata": {},
   "outputs": [],
   "source": [
    "def set_ancillas_to_num(c,ancillas,num):\n",
    "    ind=0\n",
    "    for i in reversed(bin(num)[2:]):\n",
    "        if int(i)==1:\n",
    "            c.add(gates.X(ancillas[ind]))\n",
    "        ind+=1\n",
    "    "
   ]
  },
  {
   "cell_type": "code",
   "execution_count": 537,
   "id": "modern-terminology",
   "metadata": {},
   "outputs": [],
   "source": [
    "def add_negates_for_check(c,ancillas,num):\n",
    "    ind=0\n",
    "    for i in reversed(bin(num)[2:]):\n",
    "        if int(i)==0:\n",
    "            c.add(gates.X(ancillas[ind]))\n",
    "        ind+=1\n",
    "    for i in range(len(bin(num)[2:]),len(ancillas)):\n",
    "        c.add(gates.X(ancillas[i]))\n",
    "    "
   ]
  },
  {
   "cell_type": "code",
   "execution_count": 538,
   "id": "julian-missile",
   "metadata": {},
   "outputs": [],
   "source": [
    "def controlls_for_check_num(ancillas,num):\n",
    "    l=[]\n",
    "    c=0\n",
    "    for i in reversed(bin(num)[2:]):\n",
    "        if int(i)==1:\n",
    "            l.append(ancillas[c])\n",
    "        c+=1\n",
    "    return l"
   ]
  },
  {
   "cell_type": "code",
   "execution_count": 539,
   "id": "egyptian-pharmacology",
   "metadata": {},
   "outputs": [],
   "source": [
    "def sub_one(c,ancillas,controlls):\n",
    "    a=ancillas\n",
    "    c.add(gates.X(a[0]).controlled_by(*controlls))\n",
    "    for i in range(1,len(a)):\n",
    "        controlls.append(a[i-1])\n",
    "        c.add(gates.X(a[i]).controlled_by(*controlls))\n",
    "        "
   ]
  },
  {
   "cell_type": "code",
   "execution_count": 540,
   "id": "useful-remains",
   "metadata": {},
   "outputs": [],
   "source": [
    "def add_one(c,ancillas,controlls):\n",
    "    a=ancillas\n",
    "    for i in range(len(a)-1):\n",
    "        controlls.append(a[i])\n",
    "\n",
    "    #c.add(gates.X(a[0]).controlled_by(*controlls))\n",
    "    for i in reversed(range(0,len(a))):\n",
    "        c.add(gates.X(a[i]).controlled_by(*controlls))\n",
    "        controlls.pop()"
   ]
  },
  {
   "cell_type": "code",
   "execution_count": 541,
   "id": "naughty-baker",
   "metadata": {},
   "outputs": [],
   "source": [
    "def row_add(c,col,row_res,row_addend,H,n,controlls):\n",
    "    for i in range(col+1,n+1):\n",
    "        g=gates.X(H[row_res,i])\n",
    "        controlls.append(H[row_addend,i])\n",
    "        c.add(g.controlled_by(*controlls))\n",
    "        controlls.pop()\n",
    "        \n",
    "    "
   ]
  },
  {
   "cell_type": "code",
   "execution_count": 542,
   "id": "bacterial-folks",
   "metadata": {},
   "outputs": [],
   "source": [
    "def add_pivot(c,identity,parity,H,n,r,controlls):\n",
    "    i=identity\n",
    "    p=parity\n",
    "    c.add(gates.X(H[i,p]).controlled_by(*controlls))\n",
    "    #loop for differnt rows in which the pivot is searched\n",
    "    for l in range(r-(i+1)):\n",
    "        #current row in which pivot is searched\n",
    "        pr=i+l+1\n",
    "        #need to add controls on permutation\n",
    "        row_add(c,p,i,pr,H,n,[H[i,p]]+[H[i+1+o,p] for o in range(l+1)]+controlls)\n",
    "        #add not for \"if all preious were 0\"-statement\n",
    "        if l!=r-i-2:\n",
    "            c.add(gates.X(H[pr,p]).controlled_by(*controlls))\n",
    "    #revert all nots\n",
    "    for l in range(r-i-1):\n",
    "        c.add(gates.X(H[i+l,p]).controlled_by(*controlls))\n",
    "    "
   ]
  },
  {
   "cell_type": "code",
   "execution_count": 543,
   "id": "environmental-pledge",
   "metadata": {},
   "outputs": [],
   "source": [
    "def lower_col_elimination(c,identity,parity,H,n,r,controlls):\n",
    "    i=identity\n",
    "    p=parity\n",
    "    #for each element below the current diagonal\n",
    "    for l in range(r-i-1):\n",
    "        #add row if needed to eliminate ones in column p\n",
    "        row_add(c,p,i+l+1,i,H,n,[H[i+l+1,p]]+controlls)"
   ]
  },
  {
   "cell_type": "code",
   "execution_count": 544,
   "id": "frozen-paintball",
   "metadata": {},
   "outputs": [],
   "source": [
    "def upper_col_elimination(c,identity,parity,H,n,r,controlls):\n",
    "    i=identity\n",
    "    p=parity\n",
    "    #for each row above the current diagonal entry (identiy)\n",
    "    for l in range(i):\n",
    "        #eliminate ones by adding row[i] to that row\n",
    "        #for Prange just do it on the last column (the syndrome)\n",
    "        c.add(gates.X(H[l,n]).controlled_by(*([H[l,p],H[i,n]]+controlls)))\n",
    "        #for Lee-Brickell do the row additions from column r=n-k-1 onwards\n",
    "        #row_add(c,r-1,l,i,H,n,[H[l,p]]+controlls)"
   ]
  },
  {
   "cell_type": "code",
   "execution_count": 545,
   "id": "compliant-juvenile",
   "metadata": {},
   "outputs": [],
   "source": [
    "from math import log2,ceil\n",
    "from qibo.models import Circuit\n",
    "from qibo import gates\n",
    "import numpy as np\n"
   ]
  },
  {
   "cell_type": "code",
   "execution_count": 546,
   "id": "viral-execution",
   "metadata": {},
   "outputs": [],
   "source": [
    "\n",
    "def create_qibo_circuit(n,r):\n",
    "    n_anc=int(ceil(log2(r+1)))\n",
    "    c=Circuit(int(n+n_anc+r*(n+1)))\n",
    "    L=circuit_layout(n,r)\n",
    "\n",
    "    anc=[i for i in range(n,n+n_anc)]\n",
    "    set_ancillas_to_num(c,anc,r)\n",
    "    tmp=n\n",
    "\n",
    "    for i in L:\n",
    "        if tmp!=i[0]:\n",
    "            sub_one(c,anc,[n-tmp])\n",
    "            tmp=i[0]\n",
    "        \n",
    "        if(i[2]==(0,1)):\n",
    "            add_negates_for_check(c,anc,i[1])\n",
    "            c.add(gates.X(n-i[0]).controlled_by(*anc))\n",
    "            add_negates_for_check(c,anc,i[1])    \n",
    "        else:\n",
    "            if i[0]!=n:\n",
    "                add_negates_for_check(c,anc,i[1])\n",
    "                c.add(gates.RY(n-i[0],float(2*np.arccos(np.sqrt(i[2][0])))).controlled_by(*anc))\n",
    "                add_negates_for_check(c,anc,i[1])\n",
    "            else:\n",
    "                c.add(gates.RY(0,float(2*np.arccos(np.sqrt(i[2][0])))))\n",
    "    sub_one(c,anc,[n-1])\n",
    "    return c"
   ]
  },
  {
   "cell_type": "code",
   "execution_count": null,
   "id": "diagnostic-closer",
   "metadata": {},
   "outputs": [],
   "source": []
  },
  {
   "cell_type": "markdown",
   "id": "modular-gentleman",
   "metadata": {},
   "source": [
    "### Generate test instance"
   ]
  },
  {
   "cell_type": "code",
   "execution_count": 547,
   "id": "accurate-buffalo",
   "metadata": {},
   "outputs": [],
   "source": [
    "def Reverse(tuples):\n",
    "    new_tup = tuples[::-1]\n",
    "    return new_tup"
   ]
  },
  {
   "cell_type": "code",
   "execution_count": 548,
   "id": "colonial-guyana",
   "metadata": {},
   "outputs": [
    {
     "name": "stdout",
     "output_type": "stream",
     "text": [
      "solve all possible linear systems, where\n",
      "\n",
      "H =\n",
      "[[0 1 0 1 0]\n",
      " [1 0 0 0 1]\n",
      " [1 0 1 1 0]]\n",
      "\n",
      "b =\n",
      "[[1]\n",
      " [1]\n",
      " [0]]\n",
      "\n",
      "solutions =\n",
      "['11111100', '10111010', '11011001', '10110110', '01110011', '10101101', '10101011', '11100111']\n"
     ]
    }
   ],
   "source": [
    "import itertools\n",
    "r=3\n",
    "n=5\n",
    "solutions=[]\n",
    "\n",
    "while(len(solutions)<2):\n",
    "    solutions=[]\n",
    "    A=np.random.randint(2, size=(r, n))\n",
    "    while True:\n",
    "        b=np.random.randint(2, size=(r,1))\n",
    "        if not(all(b==0)):\n",
    "            break\n",
    "    comb=itertools.combinations([i for i in range(n)],r)\n",
    "    Aprime=np.arange(r*r).reshape(r,r)\n",
    "    for i in comb:\n",
    "        ind=0\n",
    "        for j in Reverse(i):\n",
    "            for l in range(r):\n",
    "                Aprime[l,ind]=A[l,j]\n",
    "            ind+=1\n",
    "        mask=0\n",
    "        for j in i:\n",
    "            mask^=(1<<(n-j-1))\n",
    "        v=bin(mask)[2:]\n",
    "        while (len(v)<n):\n",
    "            v=\"0\"+v\n",
    "        try:\n",
    "            sol=np.linalg.solve(Aprime,b)%2\n",
    "            for it in reversed(sol):\n",
    "                if it==0:\n",
    "                    v=\"0\"+v\n",
    "                else:\n",
    "                    v=\"1\"+v\n",
    "            solutions.append(v)\n",
    "        except:\n",
    "            pass\n",
    "\n",
    "print(\"solve all possible linear systems, where\" )\n",
    "print(\"\")\n",
    "print(\"H =\")\n",
    "print(A)\n",
    "print(\"\")\n",
    "print(\"b =\")\n",
    "print(b)\n",
    "print(\"\")\n",
    "print(\"solutions =\")\n",
    "print(solutions)\n",
    "#solve_gf2(A,b)"
   ]
  },
  {
   "cell_type": "markdown",
   "id": "environmental-abortion",
   "metadata": {},
   "source": [
    "# New basic circuit design\n",
    "1. create superposition\n",
    "2. swap columns corrsponding to ones in the superposition to the front\n",
    "3. gaussian on first ``r`` columns\n"
   ]
  },
  {
   "cell_type": "code",
   "execution_count": 549,
   "id": "meaning-copyright",
   "metadata": {},
   "outputs": [],
   "source": [
    "def swap_cols(c,i,j,H,n,r,controlls):\n",
    "    for row in range(r):\n",
    "        c.add(gates.SWAP(H[row,i],H[row,j]).controlled_by(*controlls))\n",
    "    \n",
    "def swap_to_front(c,i,H,n,r,controlls):\n",
    "    for col in reversed(range(i)):\n",
    "        swap_cols(c,col+1,col,H,n,r,controlls)"
   ]
  },
  {
   "cell_type": "code",
   "execution_count": 550,
   "id": "growing-nudist",
   "metadata": {},
   "outputs": [],
   "source": [
    "\n",
    "perm=[i for i in range(n)]\n",
    "n_anc=int(ceil(log2(r+1)))\n",
    "ancillas=[i for i in range(n,n+n_anc)]\n",
    "\n",
    "H=np.arange((n+1)*r).reshape(r,n+1)\n",
    "c=n+n_anc\n",
    "\n",
    "for j in range(n+1):\n",
    "    for i in range(r):\n",
    "        H[i,j]=c\n",
    "        c+=1\n",
    "\n"
   ]
  },
  {
   "cell_type": "code",
   "execution_count": 551,
   "id": "applied-jurisdiction",
   "metadata": {},
   "outputs": [],
   "source": [
    "\n",
    "def standard_gaussian_on_first_cols(c,n,r,H,A,b):\n",
    "    #initialize matrix in quantum register\n",
    "    for i in range(r):\n",
    "        for j in range(n):\n",
    "            if A[i, j] == 1:\n",
    "                c.add(gates.X(H[i, j]))\n",
    "    for i in range(r):\n",
    "        if b[i] == 1:\n",
    "            c.add(gates.X(H[i, n]))\n",
    "\n",
    "    ##############################################\n",
    "    #########        Swap Circuit        #########\n",
    "    ##############################################\n",
    "\n",
    "    for i in perm:\n",
    "        if i!=0:\n",
    "            swap_to_front(c,i,H,n,r,[perm[i]])\n",
    "\n",
    "    ##############################################\n",
    "    #########    Gaussian Elimination    #########\n",
    "    ##############################################\n",
    "\n",
    "    #add pivots and create upper triangular matrix\n",
    "    for i in range(r-1):\n",
    "        add_pivot(c,i,i,H,n,r,[])\n",
    "        lower_col_elimination(c,i,i,H,n,r,[])\n",
    "\n",
    "    #solve via back substitution\n",
    "    for i in reversed(range(1,r)):\n",
    "        #upper_col_elimination(c,0,0,H,n,r)\n",
    "        upper_col_elimination(c,i,i,H,n,r,[])\n",
    "\n",
    "\n",
    "#create superposition circuit\n",
    "c=create_qibo_circuit(n,r)\n",
    "#add Gaussian\n",
    "standard_gaussian_on_first_cols(c,n,r,H,A,b)\n",
    "\n",
    "#### TODO: weight check of last column####\n",
    "\n",
    "#add measurements\n",
    "c.add(gates.M(*([H[i,n] for i in range(r)]+perm)))\n",
    "\n",
    "\n"
   ]
  },
  {
   "cell_type": "code",
   "execution_count": 552,
   "id": "secure-wisdom",
   "metadata": {},
   "outputs": [
    {
     "name": "stdout",
     "output_type": "stream",
     "text": [
      "Circuit works correct\n"
     ]
    },
    {
     "data": {
      "text/plain": [
       "Counter({'01101110': 929,\n",
       "         '01110011': 1003,\n",
       "         '10101011': 1006,\n",
       "         '10101101': 1055,\n",
       "         '10110101': 959,\n",
       "         '10110110': 1032,\n",
       "         '10111010': 1058,\n",
       "         '11011001': 982,\n",
       "         '11100111': 983,\n",
       "         '11111100': 993})"
      ]
     },
     "execution_count": 552,
     "metadata": {},
     "output_type": "execute_result"
    }
   ],
   "source": [
    "#test circuit\n",
    "m=c(nshots=10000)\n",
    "m.frequencies().keys()\n",
    "\n",
    "if all(i in m.frequencies().keys() for i in solutions):\n",
    "    print(\"Circuit works correct\")\n",
    "else:\n",
    "    print(\"Circuit works erroneous\")\n",
    "m.frequencies()"
   ]
  },
  {
   "cell_type": "markdown",
   "id": "productive-louisville",
   "metadata": {},
   "source": [
    "## Lee-Brickell improvement"
   ]
  },
  {
   "cell_type": "code",
   "execution_count": 553,
   "id": "breathing-invalid",
   "metadata": {},
   "outputs": [],
   "source": [
    "def find_set_bits(x,n):\n",
    "    bits=[]\n",
    "    for i in range(n):\n",
    "        mask=1<<i\n",
    "        if mask&x:\n",
    "            bits.append(i)\n",
    "    return bits"
   ]
  },
  {
   "cell_type": "code",
   "execution_count": 554,
   "id": "functioning-mississippi",
   "metadata": {},
   "outputs": [],
   "source": [
    "def col_add(c,col_res,col_addend,H,r,controlls):\n",
    "    for i in range(r):\n",
    "        g=gates.X(H[i,col_res])\n",
    "        controlls.append(H[i,col_addend])\n",
    "        c.add(g.controlled_by(*controlls))\n",
    "        controlls.pop()\n",
    "        \n",
    "    "
   ]
  },
  {
   "cell_type": "code",
   "execution_count": 555,
   "id": "federal-timing",
   "metadata": {},
   "outputs": [],
   "source": [
    "\n",
    "perm=[i for i in range(n)]\n",
    "n_anc=int(ceil(log2(r+1)))\n",
    "ancillas=[i for i in range(n,n+n_anc)]\n",
    "\n",
    "H=np.arange((n+1)*r).reshape(r,n+1)\n",
    "c=n+n_anc\n",
    "\n",
    "for j in range(n+1):\n",
    "    for i in range(r):\n",
    "        H[i,j]=c\n",
    "        c+=1\n",
    "\n",
    "c=create_qibo_circuit(n,r)\n",
    "standard_gaussian_on_first_cols(c,n,r,H,A,b)\n",
    "enumerate_p_out_of_k(c,n,r,3,H)\n",
    "c.add(gates.M(*([H[i,n] for i in range(r)]+perm)))"
   ]
  },
  {
   "cell_type": "code",
   "execution_count": 556,
   "id": "noticed-island",
   "metadata": {},
   "outputs": [
    {
     "name": "stdout",
     "output_type": "stream",
     "text": [
      "Circuit works correct\n"
     ]
    },
    {
     "data": {
      "text/plain": [
       "Counter({'01101110': 1031,\n",
       "         '01110011': 913,\n",
       "         '10101011': 1042,\n",
       "         '10101101': 938,\n",
       "         '10110101': 982,\n",
       "         '10110110': 1007,\n",
       "         '10111010': 992,\n",
       "         '11011001': 992,\n",
       "         '11100111': 1065,\n",
       "         '11111100': 1038})"
      ]
     },
     "execution_count": 556,
     "metadata": {},
     "output_type": "execute_result"
    }
   ],
   "source": [
    "#test circuit\n",
    "m=c(nshots=10000)\n",
    "m.frequencies().keys()\n",
    "\n",
    "if all(i in m.frequencies().keys() for i in solutions):\n",
    "    print(\"Circuit works correct\")\n",
    "else:\n",
    "    print(\"Circuit works erroneous\")\n",
    "m.frequencies()"
   ]
  },
  {
   "cell_type": "code",
   "execution_count": 557,
   "id": "blond-ambassador",
   "metadata": {},
   "outputs": [],
   "source": [
    "\n",
    "\n",
    "#Assuming we computed the Gaussian elimination on the first n-k columns of H\n",
    "#carrying out all necessary row additions also on the last k+1 columns of H,\n",
    "#where the last column (with index n) holds the syndrome.\n",
    "#This function now takes every size p subset of columns n-k to n-1 and adds it to column n (the syndrome)\n",
    "#, checks the weight of the syndrome and if it is small enough sets the sign-flip-bit for grover.\n",
    "def enumerate_p_out_of_k(c,n,r,p,H):\n",
    "    #setb is a k bit binary number with exacly p bits set to one\n",
    "    k=n-r\n",
    "    setb = (1 << p) - 1;\n",
    "    limit = (1 << k);\n",
    "    \n",
    "    while setb < limit:\n",
    "    \n",
    "        #get positions of set bits in setb\n",
    "        columns_to_add=find_set_bits(setb,k)\n",
    "        \n",
    "        #add those columns to syndrome, note that indices need to be shifted by n-k\n",
    "        for i in columns_to_add:\n",
    "            col_add(c,n,i+r,H,r,[]) \n",
    "            \n",
    "        ######## TODO: check weight of syndrome ###############\n",
    "        #####  if weight is w-p set sign-flip-bit to one   ####\n",
    "        #######################################################\n",
    "        \n",
    "        #reverse adding of columns to syndrome\n",
    "        for i in columns_to_add:\n",
    "            col_add(c,n,i+r,H,r,[]) \n",
    "        \n",
    "        #gives next binary number with p bits out of k set to one\n",
    "        c = setb & - setb;\n",
    "        r = setb + c;\n",
    "        setb = int(((r ^ setb) >> 2) / c) | int(r);\n"
   ]
  },
  {
   "cell_type": "code",
   "execution_count": null,
   "id": "scientific-somalia",
   "metadata": {},
   "outputs": [],
   "source": []
  },
  {
   "cell_type": "code",
   "execution_count": null,
   "id": "abstract-trick",
   "metadata": {},
   "outputs": [],
   "source": []
  },
  {
   "cell_type": "code",
   "execution_count": null,
   "id": "british-coffee",
   "metadata": {},
   "outputs": [],
   "source": []
  },
  {
   "cell_type": "code",
   "execution_count": null,
   "id": "critical-compromise",
   "metadata": {},
   "outputs": [],
   "source": []
  },
  {
   "cell_type": "code",
   "execution_count": null,
   "id": "lyric-knitting",
   "metadata": {},
   "outputs": [],
   "source": []
  },
  {
   "cell_type": "markdown",
   "id": "single-break",
   "metadata": {},
   "source": [
    "# New design for Saving (n-k)^2 qubits"
   ]
  },
  {
   "cell_type": "markdown",
   "id": "small-beach",
   "metadata": {},
   "source": [
    "### New instance generation\n",
    "- for testing\n"
   ]
  },
  {
   "cell_type": "code",
   "execution_count": 726,
   "id": "cross-missile",
   "metadata": {},
   "outputs": [
    {
     "name": "stdout",
     "output_type": "stream",
     "text": [
      "solve all possible linear systems, where\n",
      "\n",
      "H =\n",
      "[[0 1 0 1 0 0]\n",
      " [1 1 0 0 1 0]\n",
      " [0 0 0 0 0 1]]\n",
      "\n",
      "b =\n",
      "[[1]\n",
      " [1]\n",
      " [1]]\n",
      "\n",
      "solutions =\n",
      "['101110001', '111100101', '101010101', '101010011', '111000111']\n"
     ]
    }
   ],
   "source": [
    "import itertools\n",
    "r=3\n",
    "n=6\n",
    "solutions=[]\n",
    "\n",
    "while(len(solutions)<2):\n",
    "    solutions=[]\n",
    "    A=np.random.randint(2, size=(r, n))\n",
    "    for i in range(r):\n",
    "        for j in range(r):\n",
    "            if i==j:\n",
    "                A[j,n-r+i]=1\n",
    "            else:\n",
    "                A[j,n-r+i]=0\n",
    "    while True:\n",
    "        b=np.random.randint(2, size=(r,1))\n",
    "        if not(all(b==0)):\n",
    "            break\n",
    "    comb=itertools.combinations([i for i in range(n)],r)\n",
    "    Aprime=np.arange(r*r).reshape(r,r)\n",
    "    for i in comb:\n",
    "        ind=0\n",
    "        c=0\n",
    "        for t in i:\n",
    "            if t>=r:\n",
    "                break\n",
    "            c+=1\n",
    "        new_i=Reverse(i[:c])+i[c:]\n",
    "        for j in new_i:\n",
    "            for l in range(r):\n",
    "                Aprime[l,ind]=A[l,j]\n",
    "            ind+=1\n",
    "        mask=0\n",
    "        for j in i:\n",
    "            mask^=(1<<(n-j-1))\n",
    "        v=bin(mask)[2:]\n",
    "        while (len(v)<n):\n",
    "            v=\"0\"+v\n",
    "        try:\n",
    "            \n",
    "            sol=np.linalg.solve(Aprime,b)%2\n",
    "            for it in reversed(sol):\n",
    "                if it==0:\n",
    "                    v=\"0\"+v\n",
    "                else:\n",
    "                    v=\"1\"+v\n",
    "            solutions.append(v)\n",
    "        except:\n",
    "            pass\n",
    "\n",
    "print(\"solve all possible linear systems, where\" )\n",
    "print(\"\")\n",
    "print(\"H =\")\n",
    "print(A)\n",
    "print(\"\")\n",
    "print(\"b =\")\n",
    "print(b)\n",
    "print(\"\")\n",
    "print(\"solutions =\")\n",
    "print(solutions)\n"
   ]
  },
  {
   "cell_type": "markdown",
   "id": "detailed-explorer",
   "metadata": {},
   "source": [
    "### Adaptation of the circuit itself"
   ]
  },
  {
   "cell_type": "code",
   "execution_count": 727,
   "id": "private-glory",
   "metadata": {},
   "outputs": [],
   "source": [
    "def swap_rows(c,i,j,H,n,r,controlls):\n",
    "    for col in range(n-r+1):\n",
    "        c.add(gates.SWAP(H[i,col],H[j,col]).controlled_by(*controlls))"
   ]
  },
  {
   "cell_type": "code",
   "execution_count": 728,
   "id": "laughing-fraction",
   "metadata": {},
   "outputs": [],
   "source": [
    "\n",
    "def create_qibo_circuit(n,r):\n",
    "    n_anc=int(ceil(log2(r+1)))\n",
    "    c=Circuit(int(n+n_anc+r*(n-r+1)+n-r))\n",
    "    L=circuit_layout(n,r)\n",
    "\n",
    "    anc=[i for i in range(n,n+n_anc)]\n",
    "    set_ancillas_to_num(c,anc,r)\n",
    "    tmp=n\n",
    "\n",
    "    for i in L:\n",
    "        if tmp!=i[0]:\n",
    "            sub_one(c,anc,[n-tmp])\n",
    "            tmp=i[0]\n",
    "        \n",
    "        if(i[2]==(0,1)):\n",
    "            add_negates_for_check(c,anc,i[1])\n",
    "            c.add(gates.X(n-i[0]).controlled_by(*anc))\n",
    "            add_negates_for_check(c,anc,i[1])    \n",
    "        else:\n",
    "            if i[0]!=n:\n",
    "                add_negates_for_check(c,anc,i[1])\n",
    "                c.add(gates.RY(n-i[0],float(2*np.arccos(np.sqrt(i[2][0])))).controlled_by(*anc))\n",
    "                add_negates_for_check(c,anc,i[1])\n",
    "            else:\n",
    "                c.add(gates.RY(0,float(2*np.arccos(np.sqrt(i[2][0])))))\n",
    "    sub_one(c,anc,[n-1])\n",
    "    return c"
   ]
  },
  {
   "cell_type": "code",
   "execution_count": 729,
   "id": "surgical-schedule",
   "metadata": {},
   "outputs": [],
   "source": [
    "\n",
    "def swap_bit_to_front(c,i,register,controlls):\n",
    "    for col in reversed(range(i)):\n",
    "        c.add(gates.SWAP(register[col+1],register[col]).controlled_by(*controlls))"
   ]
  },
  {
   "cell_type": "code",
   "execution_count": 730,
   "id": "academic-investment",
   "metadata": {},
   "outputs": [],
   "source": [
    "perm=[i for i in range(n)]\n",
    "n_anc=int(ceil(log2(r+1)))\n",
    "n_extra=n-r\n",
    "ancillas=[i for i in range(n,n+n_anc)]\n",
    "extra=[i for i in range(n+n_anc,n+n_anc+n_extra)]\n",
    "\n",
    "H=np.arange((n-r+1)*r).reshape(r,n-r+1)\n",
    "c=n+n_anc+n_extra\n",
    "\n",
    "for j in range(n-r+1):\n",
    "    for i in range(r):\n",
    "        H[i,j]=c\n",
    "        c+=1\n",
    "\n",
    "c=create_qibo_circuit(n,r)\n"
   ]
  },
  {
   "cell_type": "code",
   "execution_count": 732,
   "id": "useful-patrick",
   "metadata": {},
   "outputs": [],
   "source": [
    "#initialize registers with matrix / vector\n",
    "for i in range(r):\n",
    "### Only n-r columns now ###\n",
    "    for j in range(n-r):\n",
    "        ### last n-r columns of A need to be selected, so we have an offset of r now ###\n",
    "        if A[i, j] == 1:\n",
    "            c.add(gates.X(H[i, j]))\n",
    "        ################\n",
    "for i in range(r):\n",
    "    if b[i] == 1:\n",
    "        c.add(gates.X(H[i, n-r]))\n",
    "\n",
    "set_ancillas_to_num(c,ancillas,r)\n",
    "\n",
    "#do last lower idenity\n",
    "#for every of the last r columns (corresponding to the idenity part of the parity check matrix in systematic form)\n",
    "for j in reversed(range(r)):\n",
    "    #for every position this column can take in the idenity\n",
    "    for num in reversed(range(j+1,r+1)):\n",
    "        #column j is (j+1)-th unit vector, so if j ones where in first part, the column is already finished, i.e., no swap needed\n",
    "        if num != j+1:\n",
    "            add_negates_for_check(c,ancillas,num)\n",
    "            swap_rows(c,j ,num-1 ,H,n,r,ancillas+[perm[j+n-r]])\n",
    "            add_negates_for_check(c,ancillas,num)\n",
    "        #subtract one from the amount of remaining columns of the idenityt part to be identified\n",
    "    sub_one(c,ancillas,[perm[j+n-r]])\n",
    "\n",
    "#do front upper idenity\n",
    "#swap columns corresponding to ones in the superposition among the first n-r columns to the front\n",
    "for i in range(n-r):\n",
    "    c.add(gates.X(extra[i]).controlled_by(perm[i]))\n",
    "    swap_bit_to_front(c,i,extra,[perm[i]])\n",
    "    swap_to_front(c,i,H,n-r,r,[perm[i]])\n",
    "    #to bring ancillas back to zero\n",
    "    sub_one(c,ancillas,[perm[i]])\n",
    "\n",
    "#add pivots and create upper triangular matrix\n",
    "for i in range(min(r,n-r)):\n",
    "    add_pivot(c,i,i,H,n-r,r,[extra[i]])\n",
    "    lower_col_elimination(c,i,i,H,n-r,r,[extra[i]])\n",
    "\n",
    "#solve via back substitution\n",
    "for i in reversed(range(1,min(r,n-r))):\n",
    "    #upper_col_elimination(c,0,0,H,n,r)\n",
    "    upper_col_elimination(c,i,i,H,n-r,r,[extra[i]])\n",
    "############################################\n",
    "\n",
    "    \n",
    "\n",
    "\n",
    "c.add(gates.M(*([H[i,n-r] for i in range(r)]+perm)))\n",
    "\n"
   ]
  },
  {
   "cell_type": "code",
   "execution_count": 736,
   "id": "regional-sentence",
   "metadata": {},
   "outputs": [
    {
     "name": "stdout",
     "output_type": "stream",
     "text": [
      "Circuit works correct\n"
     ]
    }
   ],
   "source": [
    "#test circuit\n",
    "m=c(nshots=1000)\n",
    "m.frequencies().keys()\n",
    "\n",
    "if all(i in m.frequencies().keys() for i in solutions):\n",
    "    print(\"Circuit works correct\")\n",
    "else:\n",
    "    print(\"Circuit works erroneous\")\n",
    "    a=set([])\n",
    "    for i in solutions:\n",
    "        if i not in m.frequencies().keys() and i not in a:\n",
    "            a.add(i)\n",
    "\n",
    "    print(\"missing:\")\n",
    "    print(a)\n",
    "    "
   ]
  },
  {
   "cell_type": "code",
   "execution_count": null,
   "id": "stone-universal",
   "metadata": {},
   "outputs": [],
   "source": []
  }
 ],
 "metadata": {
  "kernelspec": {
   "display_name": "Python 3",
   "language": "python",
   "name": "python3"
  },
  "language_info": {
   "codemirror_mode": {
    "name": "ipython",
    "version": 3
   },
   "file_extension": ".py",
   "mimetype": "text/x-python",
   "name": "python",
   "nbconvert_exporter": "python",
   "pygments_lexer": "ipython3",
   "version": "3.8.10"
  }
 },
 "nbformat": 4,
 "nbformat_minor": 5
}
