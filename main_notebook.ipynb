{
 "cells": [
  {
   "cell_type": "code",
   "execution_count": 1,
   "metadata": {},
   "outputs": [],
   "source": [
    "from classes import lin_sys, isd_quantum, grover"
   ]
  },
  {
   "cell_type": "code",
   "execution_count": 2,
   "metadata": {},
   "outputs": [],
   "source": [
    "import numpy as np"
   ]
  },
  {
   "cell_type": "code",
   "execution_count": 3,
   "metadata": {},
   "outputs": [],
   "source": [
    "r = 4\n",
    "n = 6\n",
    "sol = 12"
   ]
  },
  {
   "cell_type": "code",
   "execution_count": 4,
   "metadata": {},
   "outputs": [
    {
     "name": "stdout",
     "output_type": "stream",
     "text": [
      "22\n"
     ]
    }
   ],
   "source": [
    "print(n+int(np.ceil(np.log2(r+1)))+(n-r+1)*r+1)"
   ]
  },
  {
   "cell_type": "code",
   "execution_count": 27,
   "metadata": {},
   "outputs": [],
   "source": [
    "instance = lin_sys(n, r, sol)"
   ]
  },
  {
   "cell_type": "code",
   "execution_count": 28,
   "metadata": {},
   "outputs": [
    {
     "name": "stdout",
     "output_type": "stream",
     "text": [
      "Solve all possible linear systems, where\n",
      "\n",
      "H =\n",
      "[[1 0 1 1 0 1]\n",
      " [1 0 0 0 1 1]\n",
      " [0 1 0 1 0 1]\n",
      " [0 0 1 0 0 1]] \n",
      "\n",
      "b =\n",
      "[[0]\n",
      " [1]\n",
      " [0]\n",
      " [1]] \n",
      "\n",
      "Solutions:\n",
      "\n",
      "Column choice: 111100     Syndrome: 1010\n",
      "Column choice: 111010     Syndrome: 1010\n",
      "Column choice: 111001     Syndrome: 1010\n",
      "Column choice: 110101     Syndrome: 0011\n",
      "Column choice: 110011     Syndrome: 1111\n",
      "Column choice: 101110     Syndrome: 1100\n",
      "Column choice: 101011     Syndrome: 1100\n",
      "Column choice: 100111     Syndrome: 0101\n",
      "Column choice: 011110     Syndrome: 1111\n",
      "Column choice: 011101     Syndrome: 0011\n",
      "Column choice: 010111     Syndrome: 0101\n",
      "Column choice: 001111     Syndrome: 0101\n",
      "\n",
      "\n"
     ]
    }
   ],
   "source": [
    "instance.print_instance()"
   ]
  },
  {
   "cell_type": "code",
   "execution_count": 29,
   "metadata": {},
   "outputs": [],
   "source": [
    "instance_isd = isd_quantum(n, r, instance.A, instance.b)"
   ]
  },
  {
   "cell_type": "code",
   "execution_count": 30,
   "metadata": {
    "scrolled": true
   },
   "outputs": [
    {
     "name": "stdout",
     "output_type": "stream",
     "text": [
      "-------------------------------------\n",
      "| Column choices  | Probability     |\n",
      "-------------------------------------\n",
      "| 001111          | 0.0692          |\n",
      "-------------------------------------\n",
      "| 010111          | 0.0694          |\n",
      "-------------------------------------\n",
      "| 011011          | 0.066           |\n",
      "-------------------------------------\n",
      "| 011101          | 0.0637          |\n",
      "-------------------------------------\n",
      "| 011110          | 0.0704          |\n",
      "-------------------------------------\n",
      "| 100111          | 0.0677          |\n",
      "-------------------------------------\n",
      "| 101011          | 0.0695          |\n",
      "-------------------------------------\n",
      "| 101101          | 0.0682          |\n",
      "-------------------------------------\n",
      "| 101110          | 0.0601          |\n",
      "-------------------------------------\n",
      "| 110011          | 0.0637          |\n",
      "-------------------------------------\n",
      "| 110101          | 0.0745          |\n",
      "-------------------------------------\n",
      "| 110110          | 0.0627          |\n",
      "-------------------------------------\n",
      "| 111001          | 0.0641          |\n",
      "-------------------------------------\n",
      "| 111010          | 0.0646          |\n",
      "-------------------------------------\n",
      "| 111100          | 0.0662          |\n",
      "-------------------------------------\n",
      "\n",
      "\n",
      "CPU times: user 96.3 ms, sys: 8.26 ms, total: 105 ms\n",
      "Wall time: 28.6 ms\n"
     ]
    }
   ],
   "source": [
    "%%time\n",
    "instance_isd.check_superposition()"
   ]
  },
  {
   "cell_type": "code",
   "execution_count": 31,
   "metadata": {},
   "outputs": [
    {
     "name": "stdout",
     "output_type": "stream",
     "text": [
      "-------------------------------------------------------------------------\n",
      "| Column choices  | Syndrome        | Syndrome weight | Probability     |\n",
      "-------------------------------------------------------------------------\n",
      "| 001111          | 0101            | 010             | 0.0635          |\n",
      "-------------------------------------------------------------------------\n",
      "| 010111          | 0101            | 010             | 0.0707          |\n",
      "-------------------------------------------------------------------------\n",
      "| 011011          | 0001            | 001             | 0.0704          |\n",
      "-------------------------------------------------------------------------\n",
      "| 011101          | 0011            | 010             | 0.0677          |\n",
      "-------------------------------------------------------------------------\n",
      "| 011110          | 1111            | 100             | 0.0645          |\n",
      "-------------------------------------------------------------------------\n",
      "| 100111          | 0101            | 010             | 0.0689          |\n",
      "-------------------------------------------------------------------------\n",
      "| 101011          | 1100            | 010             | 0.0642          |\n",
      "-------------------------------------------------------------------------\n",
      "| 101101          | 1100            | 010             | 0.0659          |\n",
      "-------------------------------------------------------------------------\n",
      "| 101110          | 1100            | 010             | 0.0637          |\n",
      "-------------------------------------------------------------------------\n",
      "| 110011          | 1111            | 100             | 0.0666          |\n",
      "-------------------------------------------------------------------------\n",
      "| 110101          | 0011            | 010             | 0.0674          |\n",
      "-------------------------------------------------------------------------\n",
      "| 110110          | 0111            | 011             | 0.0661          |\n",
      "-------------------------------------------------------------------------\n",
      "| 111001          | 1010            | 010             | 0.0666          |\n",
      "-------------------------------------------------------------------------\n",
      "| 111010          | 1010            | 010             | 0.0664          |\n",
      "-------------------------------------------------------------------------\n",
      "| 111100          | 1010            | 010             | 0.0674          |\n",
      "-------------------------------------------------------------------------\n",
      "\n",
      "\n",
      "CPU times: user 3.04 s, sys: 226 ms, total: 3.27 s\n",
      "Wall time: 528 ms\n"
     ]
    }
   ],
   "source": [
    "%%time\n",
    "instance_isd.check_isd()"
   ]
  },
  {
   "cell_type": "code",
   "execution_count": 32,
   "metadata": {},
   "outputs": [],
   "source": [
    "target = 4"
   ]
  },
  {
   "cell_type": "code",
   "execution_count": 33,
   "metadata": {},
   "outputs": [
    {
     "data": {
      "text/plain": [
       "22"
      ]
     },
     "execution_count": 33,
     "metadata": {},
     "output_type": "execute_result"
    }
   ],
   "source": [
    "instance_isd.isd_oracle(target).nqubits"
   ]
  },
  {
   "cell_type": "code",
   "execution_count": 34,
   "metadata": {},
   "outputs": [],
   "source": [
    "from scipy.special import binom as binomial\n",
    "oracle = instance_isd.isd_oracle(target)\n",
    "superposition = instance_isd.superposition_circuit()\n",
    "sup_qubits = n\n",
    "sup_size = int(binomial(n,r))\n",
    "check = instance_isd.check_solution\n",
    "check_args = (instance_isd.A, instance_isd.b, target)\n",
    "\n"
   ]
  },
  {
   "cell_type": "code",
   "execution_count": 35,
   "metadata": {},
   "outputs": [],
   "source": [
    "instance_grover = grover(superposition, oracle, sup_qubits=sup_qubits, sup_size=sup_size, check=check, num_sol=2, check_args=check_args)\n"
   ]
  },
  {
   "cell_type": "code",
   "execution_count": 36,
   "metadata": {
    "scrolled": true
   },
   "outputs": [
    {
     "name": "stdout",
     "output_type": "stream",
     "text": [
      "Most common states found using Grover's algorithm with 2 iterations:\n",
      "\n",
      "110011 \n",
      "\n",
      "Solution checked and successful.\n",
      "\n",
      "011110 \n",
      "\n",
      "Solution checked and successful.\n",
      "\n",
      "CPU times: user 27.7 s, sys: 348 ms, total: 28.1 s\n",
      "Wall time: 3.66 s\n"
     ]
    }
   ],
   "source": [
    "%%time\n",
    "instance_grover.execute()"
   ]
  },
  {
   "cell_type": "code",
   "execution_count": null,
   "metadata": {},
   "outputs": [],
   "source": []
  }
 ],
 "metadata": {
  "kernelspec": {
   "display_name": "Python 3",
   "language": "python",
   "name": "python3"
  },
  "language_info": {
   "codemirror_mode": {
    "name": "ipython",
    "version": 3
   },
   "file_extension": ".py",
   "mimetype": "text/x-python",
   "name": "python",
   "nbconvert_exporter": "python",
   "pygments_lexer": "ipython3",
   "version": "3.7.6"
  }
 },
 "nbformat": 4,
 "nbformat_minor": 4
}
