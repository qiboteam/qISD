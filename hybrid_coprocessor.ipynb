{
 "cells": [
  {
   "cell_type": "code",
   "execution_count": 1,
   "id": "hungarian-meter",
   "metadata": {},
   "outputs": [],
   "source": [
    "n=20\n",
    "k=10\n",
    "w=3\n",
    "\n",
    "H=random_matrix(GF(2),n-k,n)\n",
    "e=zero_vector(GF(2),n)\n",
    "e[0]=e[1]=e[2]=1\n",
    "s=H*e"
   ]
  },
  {
   "cell_type": "code",
   "execution_count": 2,
   "id": "cheap-juice",
   "metadata": {},
   "outputs": [],
   "source": [
    "def hybrid_coprocessor(H,s,w,p,alpha,beta):\n",
    "    e_prime=zero_vector(GF(2),n)\n",
    "    e_quant=zero_vector(GF(2),n-alpha-beta)\n",
    "    I_nkb=identity_matrix(GF(2),n-k-beta)\n",
    "    while True:\n",
    "        P=Permutations(n).random_element().to_matrix().change_ring(GF(2))\n",
    "        HP=H*P\n",
    "        HP=HP.augment(s)\n",
    "        HP=HP.echelon_form()\n",
    "        s_prime=HP.column(n)\n",
    "        H_prime1=HP[[i for i in range(n-k-beta)],[i for i in range(n-k,n-alpha)]]\n",
    "        H_quant=I_nkb.augment(H_prime1)\n",
    "        reduced_instance=(H_quant,s_prime[:n-k-beta],w-p)\n",
    "        \n",
    "        #JUST FOR DEBUGGING (set e to the solution of the SD problem)\n",
    "        ep=P.inverse()*e\n",
    "        if ep[n-k-beta:n-k].hamming_weight()==p:\n",
    "            e_quant=vector(GF(2),ep.list()[:n-k-beta]+ep.list()[n-k:n-alpha])\n",
    "        #+++++++++++++++++++++++++++++++++++++++++++++++++++++++++++++++++++++\n",
    "        #++ solve reduced instance with quantum algorithm, store in e_quant ++\n",
    "        #+++++++++++++++++++++++++++++++++++++++++++++++++++++++++++++++++++++\n",
    "        \n",
    "        eqw=e_quant.hamming_weight()\n",
    "        if eqw<=w-p and H_quant*e_quant==s_prime[:n-k-beta]:\n",
    "            H_prime2=HP[[i for i in range(n-k-beta,n-k)],[i for i in range(n-k,n-alpha)]]\n",
    "            e_beta=s_prime[n-k-beta:n-k]+H_prime2*e_quant[n-k-beta:]\n",
    "            if eqw+e_beta.hamming_weight()<=w:\n",
    "                solution=P*vector(GF(2),e_quant[:n-k-beta].list()+e_beta.list()+e_quant[n-k-beta:].list()+[0]*alpha)\n",
    "                if H*solution==s:\n",
    "                    return solution\n",
    "            \n",
    "        "
   ]
  },
  {
   "cell_type": "code",
   "execution_count": 3,
   "id": "complicated-europe",
   "metadata": {},
   "outputs": [
    {
     "name": "stdout",
     "output_type": "stream",
     "text": [
      "[1 1 1 0 0 0 0 0 0 0 0 0 0 0 0 0 0 0 0 0]\n"
     ]
    }
   ],
   "source": [
    "e2=hybrid_coprocessor(H,s,3,1,1,3)\n",
    "print(matrix(1,n,e2))"
   ]
  },
  {
   "cell_type": "code",
   "execution_count": null,
   "id": "ancient-zimbabwe",
   "metadata": {},
   "outputs": [],
   "source": []
  }
 ],
 "metadata": {
  "kernelspec": {
   "display_name": "SageMath 9.2",
   "language": "sage",
   "name": "sagemath"
  },
  "language_info": {
   "codemirror_mode": {
    "name": "ipython",
    "version": 3
   },
   "file_extension": ".py",
   "mimetype": "text/x-python",
   "name": "python",
   "nbconvert_exporter": "python",
   "pygments_lexer": "ipython3",
   "version": "3.8.5"
  }
 },
 "nbformat": 4,
 "nbformat_minor": 5
}
